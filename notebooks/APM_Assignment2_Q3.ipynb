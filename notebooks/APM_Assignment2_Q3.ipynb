{
 "cells": [
  {
   "cell_type": "code",
   "execution_count": 1,
   "metadata": {
    "ExecuteTime": {
     "end_time": "2020-07-08T20:10:37.682782Z",
     "start_time": "2020-07-08T20:10:34.479596Z"
    }
   },
   "outputs": [],
   "source": [
    "import numpy as np\n",
    "import pandas as pd\n",
    "import math\n",
    "\n",
    "from pm4py.objects.log.importer.xes import importer as xes_importer\n",
    "from pm4py.objects.conversion.log import converter as log_converter\n",
    "from pm4py.objects.log.exporter.xes import exporter as xes_exporter"
   ]
  },
  {
   "cell_type": "code",
   "execution_count": 124,
   "metadata": {
    "ExecuteTime": {
     "end_time": "2020-07-08T21:44:55.568598Z",
     "start_time": "2020-07-08T21:44:02.250389Z"
    }
   },
   "outputs": [],
   "source": [
    "log = xes_importer.apply('FMP_no_appeal.xes')"
   ]
  },
  {
   "cell_type": "code",
   "execution_count": 125,
   "metadata": {
    "ExecuteTime": {
     "end_time": "2020-07-08T21:45:04.716391Z",
     "start_time": "2020-07-08T21:44:55.574558Z"
    }
   },
   "outputs": [],
   "source": [
    "df = log_converter.apply(log, variant=log_converter.Variants.TO_DATA_FRAME)"
   ]
  },
  {
   "cell_type": "code",
   "execution_count": 128,
   "metadata": {
    "ExecuteTime": {
     "end_time": "2020-07-08T21:46:44.725242Z",
     "start_time": "2020-07-08T21:46:14.114654Z"
    }
   },
   "outputs": [],
   "source": [
    "traces = df.groupby('case:concept:name')['concept:name'].apply(np.asarray)"
   ]
  },
  {
   "cell_type": "code",
   "execution_count": 131,
   "metadata": {
    "ExecuteTime": {
     "end_time": "2020-07-08T21:47:25.628019Z",
     "start_time": "2020-07-08T21:47:25.044340Z"
    }
   },
   "outputs": [],
   "source": [
    "last_event = traces.apply(lambda x : x[-1])\n",
    "last_event.name = 'lastEvent'\n",
    "df = df.join(last_event,on='case:concept:name')"
   ]
  },
  {
   "cell_type": "code",
   "execution_count": 134,
   "metadata": {
    "ExecuteTime": {
     "end_time": "2020-07-08T21:47:58.997118Z",
     "start_time": "2020-07-08T21:47:58.443438Z"
    }
   },
   "outputs": [
    {
     "data": {
      "text/plain": [
       "58601"
      ]
     },
     "execution_count": 134,
     "metadata": {},
     "output_type": "execute_result"
    }
   ],
   "source": [
    "number_cases = len(df['case:concept:name'].unique())\n",
    "number_credit_collections = len(df[df['lastEvent']=='Send for Credit Collection']['case:concept:name'].unique())\n",
    "df_no_collect = df[df['lastEvent']!='Send for Credit Collection']\n",
    "number_credit_collections"
   ]
  },
  {
   "cell_type": "code",
   "execution_count": 140,
   "metadata": {
    "ExecuteTime": {
     "end_time": "2020-07-08T21:50:49.818329Z",
     "start_time": "2020-07-08T21:50:49.290593Z"
    }
   },
   "outputs": [],
   "source": [
    "toPay = (df_no_collect.groupby('case:concept:name')['amount'].max() +\n",
    "         df_no_collect.groupby('case:concept:name')['expense'].sum())\n",
    "payed = df_no_collect.groupby('case:concept:name')['totalPaymentAmount'].max()\n",
    "balance = toPay - payed\n"
   ]
  },
  {
   "cell_type": "code",
   "execution_count": 151,
   "metadata": {
    "ExecuteTime": {
     "end_time": "2020-07-08T21:59:26.544182Z",
     "start_time": "2020-07-08T21:59:26.482221Z"
    }
   },
   "outputs": [
    {
     "name": "stdout",
     "output_type": "stream",
     "text": [
      "True\n",
      "0.8026423140473203\n",
      "0.010441734027163592\n",
      "0.139794456213963\n",
      "0.047121495711553094\n",
      "1438950.6\n",
      "1459775.5\n"
     ]
    }
   ],
   "source": [
    "\n",
    "exact_payment = (balance[balance==0].count() + number_credit_collections )/ number_cases\n",
    "\n",
    "over_payment = balance[balance<0].count() / number_cases\n",
    "\n",
    "no_payment = payed[payed==0].count() / number_cases\n",
    "\n",
    "some_payment = (balance[balance>0].count() -  payed[payed==0].count()) / number_cases\n",
    "\n",
    "total_deficit = balance.sum()\n",
    "\n",
    "total_deficit_cleaned = balance[balance>0].sum()\n",
    "\n",
    "#sanity_check:\n",
    "print(exact_payment + over_payment + no_payment + some_payment == 1)\n",
    "\n",
    "print(exact_payment)\n",
    "print(over_payment)\n",
    "print(no_payment)\n",
    "print(some_payment)\n",
    "print(total_deficit)\n",
    "print(total_deficit_cleaned)"
   ]
  },
  {
   "cell_type": "markdown",
   "metadata": {},
   "source": [
    "# Playground\n"
   ]
  },
  {
   "cell_type": "code",
   "execution_count": 127,
   "metadata": {
    "ExecuteTime": {
     "end_time": "2020-07-08T21:45:21.650354Z",
     "start_time": "2020-07-08T21:45:21.021715Z"
    }
   },
   "outputs": [
    {
     "name": "stdout",
     "output_type": "stream",
     "text": [
      "[ 0. nan]\n",
      "[nan]\n"
     ]
    }
   ],
   "source": [
    "#values that total Payment takes for non Payment events\n",
    "print(df[df['concept:name']!='Payment']['totalPaymentAmount'].unique())\n",
    "\n",
    "#values that payment amount takes for non Payment events\n",
    "print(df[df['concept:name']!='Payment']['paymentAmount'].unique())"
   ]
  },
  {
   "cell_type": "code",
   "execution_count": 130,
   "metadata": {
    "ExecuteTime": {
     "end_time": "2020-07-08T21:46:48.014496Z",
     "start_time": "2020-07-08T21:46:46.366444Z"
    }
   },
   "outputs": [
    {
     "data": {
      "text/plain": [
       "False"
      ]
     },
     "execution_count": 130,
     "metadata": {},
     "output_type": "execute_result"
    }
   ],
   "source": [
    "traces.apply(lambda x : 'Send for Credit Collection' in x[:-1]).any()\n",
    "#If Send for credit collection appears it is the last event"
   ]
  },
  {
   "cell_type": "code",
   "execution_count": 152,
   "metadata": {
    "ExecuteTime": {
     "end_time": "2020-07-08T22:11:45.343623Z",
     "start_time": "2020-07-08T22:11:45.293648Z"
    }
   },
   "outputs": [
    {
     "data": {
      "text/html": [
       "<div>\n",
       "<style scoped>\n",
       "    .dataframe tbody tr th:only-of-type {\n",
       "        vertical-align: middle;\n",
       "    }\n",
       "\n",
       "    .dataframe tbody tr th {\n",
       "        vertical-align: top;\n",
       "    }\n",
       "\n",
       "    .dataframe thead th {\n",
       "        text-align: right;\n",
       "    }\n",
       "</style>\n",
       "<table border=\"1\" class=\"dataframe\">\n",
       "  <thead>\n",
       "    <tr style=\"text-align: right;\">\n",
       "      <th></th>\n",
       "      <th>amount</th>\n",
       "      <th>org:resource</th>\n",
       "      <th>dismissal</th>\n",
       "      <th>concept:name</th>\n",
       "      <th>vehicleClass</th>\n",
       "      <th>totalPaymentAmount</th>\n",
       "      <th>lifecycle:transition</th>\n",
       "      <th>time:timestamp</th>\n",
       "      <th>article</th>\n",
       "      <th>points</th>\n",
       "      <th>case:concept:name</th>\n",
       "      <th>expense</th>\n",
       "      <th>notificationType</th>\n",
       "      <th>lastSent</th>\n",
       "      <th>paymentAmount</th>\n",
       "      <th>lastEvent</th>\n",
       "    </tr>\n",
       "  </thead>\n",
       "  <tbody>\n",
       "    <tr>\n",
       "      <th>0</th>\n",
       "      <td>35.0</td>\n",
       "      <td>561</td>\n",
       "      <td>NIL</td>\n",
       "      <td>Create Fine</td>\n",
       "      <td>A</td>\n",
       "      <td>0.0</td>\n",
       "      <td>complete</td>\n",
       "      <td>2006-07-24 00:00:00+02:00</td>\n",
       "      <td>157.0</td>\n",
       "      <td>0.0</td>\n",
       "      <td>A1</td>\n",
       "      <td>NaN</td>\n",
       "      <td>NaN</td>\n",
       "      <td>NaN</td>\n",
       "      <td>NaN</td>\n",
       "      <td>Send Fine</td>\n",
       "    </tr>\n",
       "    <tr>\n",
       "      <th>1</th>\n",
       "      <td>NaN</td>\n",
       "      <td>NaN</td>\n",
       "      <td>NaN</td>\n",
       "      <td>Send Fine</td>\n",
       "      <td>NaN</td>\n",
       "      <td>NaN</td>\n",
       "      <td>complete</td>\n",
       "      <td>2006-12-05 00:00:00+01:00</td>\n",
       "      <td>NaN</td>\n",
       "      <td>NaN</td>\n",
       "      <td>A1</td>\n",
       "      <td>11.0</td>\n",
       "      <td>NaN</td>\n",
       "      <td>NaN</td>\n",
       "      <td>NaN</td>\n",
       "      <td>Send Fine</td>\n",
       "    </tr>\n",
       "    <tr>\n",
       "      <th>2</th>\n",
       "      <td>35.0</td>\n",
       "      <td>561</td>\n",
       "      <td>NIL</td>\n",
       "      <td>Create Fine</td>\n",
       "      <td>A</td>\n",
       "      <td>0.0</td>\n",
       "      <td>complete</td>\n",
       "      <td>2006-08-02 00:00:00+02:00</td>\n",
       "      <td>157.0</td>\n",
       "      <td>0.0</td>\n",
       "      <td>A100</td>\n",
       "      <td>NaN</td>\n",
       "      <td>NaN</td>\n",
       "      <td>NaN</td>\n",
       "      <td>NaN</td>\n",
       "      <td>Send for Credit Collection</td>\n",
       "    </tr>\n",
       "    <tr>\n",
       "      <th>3</th>\n",
       "      <td>NaN</td>\n",
       "      <td>NaN</td>\n",
       "      <td>NaN</td>\n",
       "      <td>Send Fine</td>\n",
       "      <td>NaN</td>\n",
       "      <td>NaN</td>\n",
       "      <td>complete</td>\n",
       "      <td>2006-12-12 00:00:00+01:00</td>\n",
       "      <td>NaN</td>\n",
       "      <td>NaN</td>\n",
       "      <td>A100</td>\n",
       "      <td>11.0</td>\n",
       "      <td>NaN</td>\n",
       "      <td>NaN</td>\n",
       "      <td>NaN</td>\n",
       "      <td>Send for Credit Collection</td>\n",
       "    </tr>\n",
       "    <tr>\n",
       "      <th>4</th>\n",
       "      <td>NaN</td>\n",
       "      <td>NaN</td>\n",
       "      <td>NaN</td>\n",
       "      <td>Insert Fine Notification</td>\n",
       "      <td>NaN</td>\n",
       "      <td>NaN</td>\n",
       "      <td>complete</td>\n",
       "      <td>2007-01-15 00:00:00+01:00</td>\n",
       "      <td>NaN</td>\n",
       "      <td>NaN</td>\n",
       "      <td>A100</td>\n",
       "      <td>NaN</td>\n",
       "      <td>P</td>\n",
       "      <td>P</td>\n",
       "      <td>NaN</td>\n",
       "      <td>Send for Credit Collection</td>\n",
       "    </tr>\n",
       "  </tbody>\n",
       "</table>\n",
       "</div>"
      ],
      "text/plain": [
       "   amount org:resource dismissal              concept:name vehicleClass  \\\n",
       "0    35.0          561       NIL               Create Fine            A   \n",
       "1     NaN          NaN       NaN                 Send Fine          NaN   \n",
       "2    35.0          561       NIL               Create Fine            A   \n",
       "3     NaN          NaN       NaN                 Send Fine          NaN   \n",
       "4     NaN          NaN       NaN  Insert Fine Notification          NaN   \n",
       "\n",
       "   totalPaymentAmount lifecycle:transition             time:timestamp  \\\n",
       "0                 0.0             complete  2006-07-24 00:00:00+02:00   \n",
       "1                 NaN             complete  2006-12-05 00:00:00+01:00   \n",
       "2                 0.0             complete  2006-08-02 00:00:00+02:00   \n",
       "3                 NaN             complete  2006-12-12 00:00:00+01:00   \n",
       "4                 NaN             complete  2007-01-15 00:00:00+01:00   \n",
       "\n",
       "   article  points case:concept:name  expense notificationType lastSent  \\\n",
       "0    157.0     0.0                A1      NaN              NaN      NaN   \n",
       "1      NaN     NaN                A1     11.0              NaN      NaN   \n",
       "2    157.0     0.0              A100      NaN              NaN      NaN   \n",
       "3      NaN     NaN              A100     11.0              NaN      NaN   \n",
       "4      NaN     NaN              A100      NaN                P        P   \n",
       "\n",
       "   paymentAmount                   lastEvent  \n",
       "0            NaN                   Send Fine  \n",
       "1            NaN                   Send Fine  \n",
       "2            NaN  Send for Credit Collection  \n",
       "3            NaN  Send for Credit Collection  \n",
       "4            NaN  Send for Credit Collection  "
      ]
     },
     "execution_count": 152,
     "metadata": {},
     "output_type": "execute_result"
    }
   ],
   "source": [
    "df.head()"
   ]
  },
  {
   "cell_type": "code",
   "execution_count": null,
   "metadata": {},
   "outputs": [],
   "source": []
  }
 ],
 "metadata": {
  "kernelspec": {
   "display_name": "Python 3",
   "language": "python",
   "name": "python3"
  },
  "language_info": {
   "codemirror_mode": {
    "name": "ipython",
    "version": 3
   },
   "file_extension": ".py",
   "mimetype": "text/x-python",
   "name": "python",
   "nbconvert_exporter": "python",
   "pygments_lexer": "ipython3",
   "version": "3.6.9"
  }
 },
 "nbformat": 4,
 "nbformat_minor": 2
}
