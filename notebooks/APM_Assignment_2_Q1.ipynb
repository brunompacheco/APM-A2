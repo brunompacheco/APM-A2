{
 "cells": [
  {
   "cell_type": "code",
   "execution_count": 1,
   "metadata": {},
   "outputs": [
    {
     "data": {
      "text/plain": [
       "'1.3.3'"
      ]
     },
     "execution_count": 1,
     "metadata": {},
     "output_type": "execute_result"
    }
   ],
   "source": [
    "import pm4py\n",
    "pm4py.__version__"
   ]
  },
  {
   "cell_type": "code",
   "execution_count": 27,
   "metadata": {
    "ExecuteTime": {
     "end_time": "2020-06-21T11:20:11.558830Z",
     "start_time": "2020-06-21T11:19:46.430833Z"
    }
   },
   "outputs": [],
   "source": [
    "import os\n",
    "import numpy as np\n",
    "import pandas as pd\n",
    "import math\n",
    "\n",
    "PROJ_ROOT = os.path.abspath(os.path.pardir)\n",
    "data_dir = os.path.join(PROJ_ROOT, 'data')\n",
    "\n",
    "assert os.path.exists(data_path)\n",
    "\n",
    "from pm4py.objects.log.importer.xes import importer as xes_importer\n",
    "from pm4py.objects.conversion.log import converter as log_converter\n",
    "from pm4py.objects.log.exporter.xes import exporter as xes_exporter"
   ]
  },
  {
   "cell_type": "markdown",
   "metadata": {},
   "source": [
    "# Q1.A"
   ]
  },
  {
   "cell_type": "code",
   "execution_count": 3,
   "metadata": {
    "ExecuteTime": {
     "end_time": "2020-06-18T10:28:55.781102Z",
     "start_time": "2020-06-18T10:27:55.678658Z"
    }
   },
   "outputs": [
    {
     "data": {
      "application/vnd.jupyter.widget-view+json": {
       "model_id": "95841e64b1cd4f2ca53c0bb9f749265f",
       "version_major": 2,
       "version_minor": 0
      },
      "text/plain": [
       "HBox(children=(FloatProgress(value=0.0, description='parsing log, completed traces :: ', max=150370.0, style=P…"
      ]
     },
     "metadata": {},
     "output_type": "display_data"
    },
    {
     "name": "stdout",
     "output_type": "stream",
     "text": [
      "\n",
      "CPU times: user 31.9 s, sys: 1.53 s, total: 33.5 s\n",
      "Wall time: 39.8 s\n"
     ]
    }
   ],
   "source": [
    "%%time\n",
    "log = xes_importer.apply(os.path.join(data_dir, 'FMP.xes'))"
   ]
  },
  {
   "cell_type": "code",
   "execution_count": 4,
   "metadata": {
    "ExecuteTime": {
     "end_time": "2020-06-18T10:29:07.971797Z",
     "start_time": "2020-06-18T10:28:55.783135Z"
    }
   },
   "outputs": [
    {
     "data": {
      "text/html": [
       "<div>\n",
       "<style scoped>\n",
       "    .dataframe tbody tr th:only-of-type {\n",
       "        vertical-align: middle;\n",
       "    }\n",
       "\n",
       "    .dataframe tbody tr th {\n",
       "        vertical-align: top;\n",
       "    }\n",
       "\n",
       "    .dataframe thead th {\n",
       "        text-align: right;\n",
       "    }\n",
       "</style>\n",
       "<table border=\"1\" class=\"dataframe\">\n",
       "  <thead>\n",
       "    <tr style=\"text-align: right;\">\n",
       "      <th></th>\n",
       "      <th>amount</th>\n",
       "      <th>org:resource</th>\n",
       "      <th>dismissal</th>\n",
       "      <th>concept:name</th>\n",
       "      <th>vehicleClass</th>\n",
       "      <th>totalPaymentAmount</th>\n",
       "      <th>lifecycle:transition</th>\n",
       "      <th>time:timestamp</th>\n",
       "      <th>article</th>\n",
       "      <th>points</th>\n",
       "      <th>case:concept:name</th>\n",
       "      <th>expense</th>\n",
       "      <th>notificationType</th>\n",
       "      <th>lastSent</th>\n",
       "      <th>paymentAmount</th>\n",
       "      <th>matricola</th>\n",
       "    </tr>\n",
       "  </thead>\n",
       "  <tbody>\n",
       "    <tr>\n",
       "      <th>0</th>\n",
       "      <td>35.0</td>\n",
       "      <td>561</td>\n",
       "      <td>NIL</td>\n",
       "      <td>Create Fine</td>\n",
       "      <td>A</td>\n",
       "      <td>0.0</td>\n",
       "      <td>complete</td>\n",
       "      <td>2006-07-24 00:00:00+02:00</td>\n",
       "      <td>157.0</td>\n",
       "      <td>0.0</td>\n",
       "      <td>A1</td>\n",
       "      <td>NaN</td>\n",
       "      <td>NaN</td>\n",
       "      <td>NaN</td>\n",
       "      <td>NaN</td>\n",
       "      <td>NaN</td>\n",
       "    </tr>\n",
       "    <tr>\n",
       "      <th>1</th>\n",
       "      <td>NaN</td>\n",
       "      <td>NaN</td>\n",
       "      <td>NaN</td>\n",
       "      <td>Send Fine</td>\n",
       "      <td>NaN</td>\n",
       "      <td>NaN</td>\n",
       "      <td>complete</td>\n",
       "      <td>2006-12-05 00:00:00+01:00</td>\n",
       "      <td>NaN</td>\n",
       "      <td>NaN</td>\n",
       "      <td>A1</td>\n",
       "      <td>11.0</td>\n",
       "      <td>NaN</td>\n",
       "      <td>NaN</td>\n",
       "      <td>NaN</td>\n",
       "      <td>NaN</td>\n",
       "    </tr>\n",
       "    <tr>\n",
       "      <th>2</th>\n",
       "      <td>35.0</td>\n",
       "      <td>561</td>\n",
       "      <td>NIL</td>\n",
       "      <td>Create Fine</td>\n",
       "      <td>A</td>\n",
       "      <td>0.0</td>\n",
       "      <td>complete</td>\n",
       "      <td>2006-08-02 00:00:00+02:00</td>\n",
       "      <td>157.0</td>\n",
       "      <td>0.0</td>\n",
       "      <td>A100</td>\n",
       "      <td>NaN</td>\n",
       "      <td>NaN</td>\n",
       "      <td>NaN</td>\n",
       "      <td>NaN</td>\n",
       "      <td>NaN</td>\n",
       "    </tr>\n",
       "    <tr>\n",
       "      <th>3</th>\n",
       "      <td>NaN</td>\n",
       "      <td>NaN</td>\n",
       "      <td>NaN</td>\n",
       "      <td>Send Fine</td>\n",
       "      <td>NaN</td>\n",
       "      <td>NaN</td>\n",
       "      <td>complete</td>\n",
       "      <td>2006-12-12 00:00:00+01:00</td>\n",
       "      <td>NaN</td>\n",
       "      <td>NaN</td>\n",
       "      <td>A100</td>\n",
       "      <td>11.0</td>\n",
       "      <td>NaN</td>\n",
       "      <td>NaN</td>\n",
       "      <td>NaN</td>\n",
       "      <td>NaN</td>\n",
       "    </tr>\n",
       "    <tr>\n",
       "      <th>4</th>\n",
       "      <td>NaN</td>\n",
       "      <td>NaN</td>\n",
       "      <td>NaN</td>\n",
       "      <td>Insert Fine Notification</td>\n",
       "      <td>NaN</td>\n",
       "      <td>NaN</td>\n",
       "      <td>complete</td>\n",
       "      <td>2007-01-15 00:00:00+01:00</td>\n",
       "      <td>NaN</td>\n",
       "      <td>NaN</td>\n",
       "      <td>A100</td>\n",
       "      <td>NaN</td>\n",
       "      <td>P</td>\n",
       "      <td>P</td>\n",
       "      <td>NaN</td>\n",
       "      <td>NaN</td>\n",
       "    </tr>\n",
       "  </tbody>\n",
       "</table>\n",
       "</div>"
      ],
      "text/plain": [
       "   amount org:resource dismissal              concept:name vehicleClass  \\\n",
       "0    35.0          561       NIL               Create Fine            A   \n",
       "1     NaN          NaN       NaN                 Send Fine          NaN   \n",
       "2    35.0          561       NIL               Create Fine            A   \n",
       "3     NaN          NaN       NaN                 Send Fine          NaN   \n",
       "4     NaN          NaN       NaN  Insert Fine Notification          NaN   \n",
       "\n",
       "   totalPaymentAmount lifecycle:transition             time:timestamp  \\\n",
       "0                 0.0             complete  2006-07-24 00:00:00+02:00   \n",
       "1                 NaN             complete  2006-12-05 00:00:00+01:00   \n",
       "2                 0.0             complete  2006-08-02 00:00:00+02:00   \n",
       "3                 NaN             complete  2006-12-12 00:00:00+01:00   \n",
       "4                 NaN             complete  2007-01-15 00:00:00+01:00   \n",
       "\n",
       "   article  points case:concept:name  expense notificationType lastSent  \\\n",
       "0    157.0     0.0                A1      NaN              NaN      NaN   \n",
       "1      NaN     NaN                A1     11.0              NaN      NaN   \n",
       "2    157.0     0.0              A100      NaN              NaN      NaN   \n",
       "3      NaN     NaN              A100     11.0              NaN      NaN   \n",
       "4      NaN     NaN              A100      NaN                P        P   \n",
       "\n",
       "   paymentAmount  matricola  \n",
       "0            NaN        NaN  \n",
       "1            NaN        NaN  \n",
       "2            NaN        NaN  \n",
       "3            NaN        NaN  \n",
       "4            NaN        NaN  "
      ]
     },
     "execution_count": 4,
     "metadata": {},
     "output_type": "execute_result"
    }
   ],
   "source": [
    "df = log_converter.apply(log, variant=log_converter.Variants.TO_DATA_FRAME)\n",
    "\n",
    "df.head()"
   ]
  },
  {
   "cell_type": "code",
   "execution_count": 6,
   "metadata": {},
   "outputs": [
    {
     "data": {
      "text/plain": [
       "Create Fine                              150370\n",
       "Send Fine                                103987\n",
       "Insert Fine Notification                  79860\n",
       "Add penalty                               79860\n",
       "Payment                                   77601\n",
       "Send for Credit Collection                59013\n",
       "Insert Date Appeal to Prefecture           4188\n",
       "Send Appeal to Prefecture                  4141\n",
       "Receive Result Appeal from Prefecture       999\n",
       "Notify Result Appeal to Offender            896\n",
       "Appeal to Judge                             555\n",
       "Name: concept:name, dtype: int64"
      ]
     },
     "execution_count": 6,
     "metadata": {},
     "output_type": "execute_result"
    }
   ],
   "source": [
    "df['concept:name'].value_counts()"
   ]
  },
  {
   "cell_type": "code",
   "execution_count": 20,
   "metadata": {
    "ExecuteTime": {
     "end_time": "2020-06-18T10:29:42.437105Z",
     "start_time": "2020-06-18T10:29:07.971797Z"
    }
   },
   "outputs": [
    {
     "data": {
      "text/html": [
       "<div>\n",
       "<style scoped>\n",
       "    .dataframe tbody tr th:only-of-type {\n",
       "        vertical-align: middle;\n",
       "    }\n",
       "\n",
       "    .dataframe tbody tr th {\n",
       "        vertical-align: top;\n",
       "    }\n",
       "\n",
       "    .dataframe thead th {\n",
       "        text-align: right;\n",
       "    }\n",
       "</style>\n",
       "<table border=\"1\" class=\"dataframe\">\n",
       "  <thead>\n",
       "    <tr style=\"text-align: right;\">\n",
       "      <th></th>\n",
       "      <th>amount</th>\n",
       "      <th>org:resource</th>\n",
       "      <th>dismissal</th>\n",
       "      <th>concept:name</th>\n",
       "      <th>vehicleClass</th>\n",
       "      <th>totalPaymentAmount</th>\n",
       "      <th>lifecycle:transition</th>\n",
       "      <th>time:timestamp</th>\n",
       "      <th>article</th>\n",
       "      <th>points</th>\n",
       "      <th>case:concept:name</th>\n",
       "      <th>expense</th>\n",
       "      <th>notificationType</th>\n",
       "      <th>lastSent</th>\n",
       "      <th>paymentAmount</th>\n",
       "      <th>matricola</th>\n",
       "      <th>has_appeal</th>\n",
       "    </tr>\n",
       "  </thead>\n",
       "  <tbody>\n",
       "    <tr>\n",
       "      <th>0</th>\n",
       "      <td>35.0</td>\n",
       "      <td>561</td>\n",
       "      <td>NIL</td>\n",
       "      <td>Create Fine</td>\n",
       "      <td>A</td>\n",
       "      <td>0.0</td>\n",
       "      <td>complete</td>\n",
       "      <td>2006-07-24 00:00:00+02:00</td>\n",
       "      <td>157.0</td>\n",
       "      <td>0.0</td>\n",
       "      <td>A1</td>\n",
       "      <td>NaN</td>\n",
       "      <td>NaN</td>\n",
       "      <td>NaN</td>\n",
       "      <td>NaN</td>\n",
       "      <td>NaN</td>\n",
       "      <td>False</td>\n",
       "    </tr>\n",
       "    <tr>\n",
       "      <th>1</th>\n",
       "      <td>NaN</td>\n",
       "      <td>NaN</td>\n",
       "      <td>NaN</td>\n",
       "      <td>Send Fine</td>\n",
       "      <td>NaN</td>\n",
       "      <td>NaN</td>\n",
       "      <td>complete</td>\n",
       "      <td>2006-12-05 00:00:00+01:00</td>\n",
       "      <td>NaN</td>\n",
       "      <td>NaN</td>\n",
       "      <td>A1</td>\n",
       "      <td>11.0</td>\n",
       "      <td>NaN</td>\n",
       "      <td>NaN</td>\n",
       "      <td>NaN</td>\n",
       "      <td>NaN</td>\n",
       "      <td>False</td>\n",
       "    </tr>\n",
       "    <tr>\n",
       "      <th>2</th>\n",
       "      <td>35.0</td>\n",
       "      <td>561</td>\n",
       "      <td>NIL</td>\n",
       "      <td>Create Fine</td>\n",
       "      <td>A</td>\n",
       "      <td>0.0</td>\n",
       "      <td>complete</td>\n",
       "      <td>2006-08-02 00:00:00+02:00</td>\n",
       "      <td>157.0</td>\n",
       "      <td>0.0</td>\n",
       "      <td>A100</td>\n",
       "      <td>NaN</td>\n",
       "      <td>NaN</td>\n",
       "      <td>NaN</td>\n",
       "      <td>NaN</td>\n",
       "      <td>NaN</td>\n",
       "      <td>False</td>\n",
       "    </tr>\n",
       "    <tr>\n",
       "      <th>3</th>\n",
       "      <td>NaN</td>\n",
       "      <td>NaN</td>\n",
       "      <td>NaN</td>\n",
       "      <td>Send Fine</td>\n",
       "      <td>NaN</td>\n",
       "      <td>NaN</td>\n",
       "      <td>complete</td>\n",
       "      <td>2006-12-12 00:00:00+01:00</td>\n",
       "      <td>NaN</td>\n",
       "      <td>NaN</td>\n",
       "      <td>A100</td>\n",
       "      <td>11.0</td>\n",
       "      <td>NaN</td>\n",
       "      <td>NaN</td>\n",
       "      <td>NaN</td>\n",
       "      <td>NaN</td>\n",
       "      <td>False</td>\n",
       "    </tr>\n",
       "    <tr>\n",
       "      <th>4</th>\n",
       "      <td>NaN</td>\n",
       "      <td>NaN</td>\n",
       "      <td>NaN</td>\n",
       "      <td>Insert Fine Notification</td>\n",
       "      <td>NaN</td>\n",
       "      <td>NaN</td>\n",
       "      <td>complete</td>\n",
       "      <td>2007-01-15 00:00:00+01:00</td>\n",
       "      <td>NaN</td>\n",
       "      <td>NaN</td>\n",
       "      <td>A100</td>\n",
       "      <td>NaN</td>\n",
       "      <td>P</td>\n",
       "      <td>P</td>\n",
       "      <td>NaN</td>\n",
       "      <td>NaN</td>\n",
       "      <td>False</td>\n",
       "    </tr>\n",
       "  </tbody>\n",
       "</table>\n",
       "</div>"
      ],
      "text/plain": [
       "   amount org:resource dismissal              concept:name vehicleClass  \\\n",
       "0    35.0          561       NIL               Create Fine            A   \n",
       "1     NaN          NaN       NaN                 Send Fine          NaN   \n",
       "2    35.0          561       NIL               Create Fine            A   \n",
       "3     NaN          NaN       NaN                 Send Fine          NaN   \n",
       "4     NaN          NaN       NaN  Insert Fine Notification          NaN   \n",
       "\n",
       "   totalPaymentAmount lifecycle:transition             time:timestamp  \\\n",
       "0                 0.0             complete  2006-07-24 00:00:00+02:00   \n",
       "1                 NaN             complete  2006-12-05 00:00:00+01:00   \n",
       "2                 0.0             complete  2006-08-02 00:00:00+02:00   \n",
       "3                 NaN             complete  2006-12-12 00:00:00+01:00   \n",
       "4                 NaN             complete  2007-01-15 00:00:00+01:00   \n",
       "\n",
       "   article  points case:concept:name  expense notificationType lastSent  \\\n",
       "0    157.0     0.0                A1      NaN              NaN      NaN   \n",
       "1      NaN     NaN                A1     11.0              NaN      NaN   \n",
       "2    157.0     0.0              A100      NaN              NaN      NaN   \n",
       "3      NaN     NaN              A100     11.0              NaN      NaN   \n",
       "4      NaN     NaN              A100      NaN                P        P   \n",
       "\n",
       "   paymentAmount  matricola  has_appeal  \n",
       "0            NaN        NaN       False  \n",
       "1            NaN        NaN       False  \n",
       "2            NaN        NaN       False  \n",
       "3            NaN        NaN       False  \n",
       "4            NaN        NaN       False  "
      ]
     },
     "execution_count": 20,
     "metadata": {},
     "output_type": "execute_result"
    }
   ],
   "source": [
    "traces = df.groupby('case:concept:name')['concept:name'].apply(np.asarray)\n",
    "has_appeal = traces.apply(lambda x: 'Appeal to Judge' in x or 'Send Appeal to Prefecture' in x)\n",
    "has_appeal.name = 'has_appeal'\n",
    "traces = df.groupby('case:concept:name')['concept:name'].apply(np.asarray)\n",
    "df = df.join(has_appeal,on='case:concept:name')\n",
    "\n",
    "df.head()"
   ]
  },
  {
   "cell_type": "code",
   "execution_count": 22,
   "metadata": {
    "ExecuteTime": {
     "end_time": "2020-06-18T10:29:43.049690Z",
     "start_time": "2020-06-18T10:29:42.437105Z"
    }
   },
   "outputs": [],
   "source": [
    "df_appeal = df[df['has_appeal']==True]\n",
    "df_no_appeal = df[df['has_appeal']==False]"
   ]
  },
  {
   "cell_type": "code",
   "execution_count": 25,
   "metadata": {
    "ExecuteTime": {
     "end_time": "2020-06-18T10:30:13.250454Z",
     "start_time": "2020-06-18T10:29:43.049690Z"
    }
   },
   "outputs": [],
   "source": [
    "log_appeal = log_converter.apply(df_appeal.drop(labels='has_appeal', axis=1), variant=log_converter.Variants.TO_EVENT_LOG)\n",
    "log_no_appeal = log_converter.apply(df_no_appeal.drop(labels='has_appeal', axis=1), variant=log_converter.Variants.TO_EVENT_LOG)"
   ]
  },
  {
   "cell_type": "code",
   "execution_count": 26,
   "metadata": {
    "ExecuteTime": {
     "end_time": "2020-06-18T10:30:20.080290Z",
     "start_time": "2020-06-18T10:30:13.252497Z"
    }
   },
   "outputs": [],
   "source": [
    "for trace in log_appeal:\n",
    "    for event in trace:\n",
    "\n",
    "        todel = []\n",
    "        for a in event:\n",
    "\n",
    "            if type(event[a]) == float:\n",
    "                if math.isnan(event[a]):\n",
    "                    #print(a)\n",
    "                    todel.append(a)\n",
    "\n",
    "        for a in todel:\n",
    "            #print(a)\n",
    "            del event[a]\n",
    "            \n",
    "\n",
    "for trace in log_no_appeal:\n",
    "    for event in trace:\n",
    "\n",
    "        todel = []\n",
    "        for a in event:\n",
    "\n",
    "            if type(event[a]) == float:\n",
    "                if math.isnan(event[a]):\n",
    "                    #print(a)\n",
    "                    todel.append(a)\n",
    "\n",
    "        for a in todel:\n",
    "            #print(a)\n",
    "            del event[a]\n"
   ]
  },
  {
   "cell_type": "code",
   "execution_count": 28,
   "metadata": {
    "ExecuteTime": {
     "end_time": "2020-06-18T10:31:30.100021Z",
     "start_time": "2020-06-18T10:30:20.082325Z"
    }
   },
   "outputs": [],
   "source": [
    "xes_exporter.apply(log_appeal, os.path.join(data_dir, 'FMP_appeal.xes'))\n",
    "xes_exporter.apply(log_no_appeal, os.path.join(data_dir, 'FMP_no_appeal.xes'))"
   ]
  },
  {
   "cell_type": "markdown",
   "metadata": {},
   "source": [
    "# Q1.B"
   ]
  },
  {
   "cell_type": "code",
   "execution_count": 14,
   "metadata": {
    "ExecuteTime": {
     "end_time": "2020-06-17T21:55:01.943768Z",
     "start_time": "2020-06-17T21:54:05.238545Z"
    }
   },
   "outputs": [
    {
     "data": {
      "text/plain": [
       "{'Add penalty',\n",
       " 'Appeal to Judge',\n",
       " 'Create Fine',\n",
       " 'Insert Date Appeal to Prefecture',\n",
       " 'Insert Fine Notification',\n",
       " 'Notify Result Appeal to Offender',\n",
       " 'Payment',\n",
       " 'Receive Result Appeal from Prefecture',\n",
       " 'Send Appeal to Prefecture',\n",
       " 'Send Fine',\n",
       " 'Send for Credit Collection'}"
      ]
     },
     "execution_count": 14,
     "metadata": {},
     "output_type": "execute_result"
    }
   ],
   "source": [
    "# all events in the original log\n",
    "events = set([])\n",
    "for trace in log:\n",
    "    for e in trace:\n",
    "        events.add(e['concept:name'])\n",
    "events"
   ]
  },
  {
   "cell_type": "code",
   "execution_count": 15,
   "metadata": {
    "ExecuteTime": {
     "end_time": "2020-06-17T21:55:02.384108Z",
     "start_time": "2020-06-17T21:55:01.978934Z"
    }
   },
   "outputs": [],
   "source": [
    "def count_unique_traces(traces):\n",
    "    \n",
    "    distinct_traces = []\n",
    "    for t in traces:\n",
    "    \n",
    "        found = False\n",
    "        for distinct in distinct_traces:\n",
    "            if np.array_equal(t, distinct):\n",
    "                found = True\n",
    "                break\n",
    "\n",
    "        if not found:\n",
    "            distinct_traces.append(t)\n",
    "    \n",
    "    return len(distinct_traces)"
   ]
  },
  {
   "cell_type": "code",
   "execution_count": 16,
   "metadata": {
    "ExecuteTime": {
     "end_time": "2020-06-17T21:55:18.684110Z",
     "start_time": "2020-06-17T21:55:02.384108Z"
    }
   },
   "outputs": [
    {
     "name": "stdout",
     "output_type": "stream",
     "text": [
      "150370\n",
      "231\n",
      "4513\n",
      "170\n",
      "145857\n",
      "61\n"
     ]
    }
   ],
   "source": [
    "print(len(log))\n",
    "print(count_unique_traces(traces))\n",
    "\n",
    "print(len(log_appeal))\n",
    "print(count_unique_traces(traces[has_appeal]))\n",
    "\n",
    "print(len(log_no_appeal))\n",
    "print(count_unique_traces(traces[has_appeal==False]))"
   ]
  },
  {
   "cell_type": "code",
   "execution_count": 17,
   "metadata": {
    "ExecuteTime": {
     "end_time": "2020-06-17T21:55:19.684082Z",
     "start_time": "2020-06-17T21:55:18.734007Z"
    }
   },
   "outputs": [
    {
     "name": "stdout",
     "output_type": "stream",
     "text": [
      "561470\n",
      "3.7339229899581032\n",
      "29724\n",
      "6.586306226456903\n",
      "531746\n",
      "3.645666646098576\n"
     ]
    }
   ],
   "source": [
    "print(len(df))\n",
    "print(traces.apply(len).mean())\n",
    "\n",
    "print(len(df_appeal))\n",
    "print(traces[has_appeal].apply(len).mean())\n",
    "\n",
    "print(len(df_no_appeal))\n",
    "print(traces[has_appeal==False].apply(len).mean())\n"
   ]
  },
  {
   "cell_type": "code",
   "execution_count": 18,
   "metadata": {
    "ExecuteTime": {
     "end_time": "2020-06-17T21:55:22.943844Z",
     "start_time": "2020-06-17T21:55:19.694137Z"
    }
   },
   "outputs": [
    {
     "name": "stdout",
     "output_type": "stream",
     "text": [
      "2000-01-01 00:00:00+01:00\n",
      "2013-06-18 00:00:00+02:00\n",
      "2000-01-03 00:00:00+01:00\n",
      "2013-06-14 00:00:00+02:00\n",
      "2000-01-01 00:00:00+01:00\n",
      "2013-06-18 00:00:00+02:00\n"
     ]
    }
   ],
   "source": [
    "print(df['time:timestamp'].min())\n",
    "print(df['time:timestamp'].max())\n",
    "\n",
    "print(df_appeal['time:timestamp'].min())\n",
    "print(df_appeal['time:timestamp'].max())\n",
    "\n",
    "print(df_no_appeal['time:timestamp'].min())\n",
    "print(df_no_appeal['time:timestamp'].max())"
   ]
  },
  {
   "cell_type": "code",
   "execution_count": 19,
   "metadata": {
    "ExecuteTime": {
     "end_time": "2020-06-17T21:55:24.064178Z",
     "start_time": "2020-06-17T21:55:22.958891Z"
    }
   },
   "outputs": [
    {
     "name": "stdout",
     "output_type": "stream",
     "text": [
      "['complete']\n",
      "561470\n",
      "Since all lifecycle events are colete events the number of events and activities are equal\n"
     ]
    }
   ],
   "source": [
    "print(df['lifecycle:transition'].unique())\n",
    "print(df['lifecycle:transition'].count())\n",
    "print('Since all lifecycle events are colete events the number of events and activities are equal')"
   ]
  },
  {
   "cell_type": "code",
   "execution_count": 20,
   "metadata": {
    "ExecuteTime": {
     "end_time": "2020-06-17T21:55:43.604236Z",
     "start_time": "2020-06-17T21:55:24.114037Z"
    }
   },
   "outputs": [],
   "source": [
    "set_length = traces.apply(set).apply(len)\n",
    "set_length.name = 'set_length'\n",
    "trace_length = traces.apply(len)\n",
    "trace_length.name = 'trace_length'\n",
    "\n",
    "df = df.join(set_length,on='case:concept:name')\n",
    "df = df.join(trace_length,on='case:concept:name')\n",
    "\n",
    "df_appeal = df[df['has_appeal']==True]\n",
    "df_no_appeal = df[df['has_appeal']==False]"
   ]
  },
  {
   "cell_type": "code",
   "execution_count": 21,
   "metadata": {
    "ExecuteTime": {
     "end_time": "2020-06-17T21:55:43.804182Z",
     "start_time": "2020-06-17T21:55:43.664047Z"
    }
   },
   "outputs": [
    {
     "name": "stdout",
     "output_type": "stream",
     "text": [
      "0.08120825689707376\n",
      "0.025232135647961243\n",
      "0.08433725876640351\n"
     ]
    }
   ],
   "source": [
    "print(len(df[df['set_length'] != df['trace_length']]) / len(df))\n",
    "\n",
    "print(len(df_appeal[df_appeal['set_length'] != df_appeal['trace_length']]) / len(df_appeal))\n",
    "\n",
    "print(len(df_no_appeal[df_no_appeal['set_length'] != df_no_appeal['trace_length']]) / len(df_no_appeal))"
   ]
  },
  {
   "cell_type": "markdown",
   "metadata": {},
   "source": [
    "# Q1.C"
   ]
  },
  {
   "cell_type": "code",
   "execution_count": 22,
   "metadata": {
    "ExecuteTime": {
     "end_time": "2020-06-17T21:55:46.294098Z",
     "start_time": "2020-06-17T21:55:43.804182Z"
    }
   },
   "outputs": [
    {
     "name": "stdout",
     "output_type": "stream",
     "text": [
      "absolute frequencies\n",
      "concept:name\n",
      "Add penalty                               79860\n",
      "Appeal to Judge                             555\n",
      "Create Fine                              150370\n",
      "Insert Date Appeal to Prefecture           4188\n",
      "Insert Fine Notification                  79860\n",
      "Notify Result Appeal to Offender            896\n",
      "Payment                                   77601\n",
      "Receive Result Appeal from Prefecture       999\n",
      "Send Appeal to Prefecture                  4141\n",
      "Send Fine                                103987\n",
      "Send for Credit Collection                59013\n",
      "Name: case:concept:name, dtype: int64\n",
      "relative frequencies\n",
      "concept:name\n",
      "Add penalty                              0.142234\n",
      "Appeal to Judge                          0.000988\n",
      "Create Fine                              0.267815\n",
      "Insert Date Appeal to Prefecture         0.007459\n",
      "Insert Fine Notification                 0.142234\n",
      "Notify Result Appeal to Offender         0.001596\n",
      "Payment                                  0.138210\n",
      "Receive Result Appeal from Prefecture    0.001779\n",
      "Send Appeal to Prefecture                0.007375\n",
      "Send Fine                                0.185205\n",
      "Send for Credit Collection               0.105104\n",
      "Name: case:concept:name, dtype: float64\n"
     ]
    }
   ],
   "source": [
    "print('absolute frequencies')\n",
    "print(df.groupby('concept:name')['case:concept:name'].count())\n",
    "print('relative frequencies')\n",
    "print(df.groupby('concept:name')['case:concept:name'].count()/len(df))"
   ]
  },
  {
   "cell_type": "code",
   "execution_count": 37,
   "metadata": {
    "ExecuteTime": {
     "end_time": "2020-06-17T21:55:46.294098Z",
     "start_time": "2020-06-17T21:55:43.804182Z"
    }
   },
   "outputs": [
    {
     "name": "stdout",
     "output_type": "stream",
     "text": [
      "absolute frequencies\n",
      "concept:name\n",
      "Add penalty                               79860\n",
      "Appeal to Judge                             555\n",
      "Create Fine                              150370\n",
      "Insert Date Appeal to Prefecture           4188\n",
      "Insert Fine Notification                  79860\n",
      "Notify Result Appeal to Offender            896\n",
      "Payment                                   69715\n",
      "Receive Result Appeal from Prefecture       999\n",
      "Send Appeal to Prefecture                  4141\n",
      "Send Fine                                103987\n",
      "Send for Credit Collection                59013\n",
      "Name: case:concept:name, dtype: int64\n",
      "relative frequencies\n",
      "concept:name\n",
      "Add penalty                              0.531090\n",
      "Appeal to Judge                          0.003691\n",
      "Create Fine                              1.000000\n",
      "Insert Date Appeal to Prefecture         0.027851\n",
      "Insert Fine Notification                 0.531090\n",
      "Notify Result Appeal to Offender         0.005959\n",
      "Payment                                  0.463623\n",
      "Receive Result Appeal from Prefecture    0.006644\n",
      "Send Appeal to Prefecture                0.027539\n",
      "Send Fine                                0.691541\n",
      "Send for Credit Collection               0.392452\n",
      "Name: case:concept:name, dtype: float64\n"
     ]
    }
   ],
   "source": [
    "print('absolute trace frequencies')\n",
    "print(df.groupby('concept:name')['case:concept:name'].nunique())\n",
    "print('relative frequencies')\n",
    "print(df.groupby('concept:name')['case:concept:name'].nunique()/df['case:concept:name'].nunique())"
   ]
  },
  {
   "cell_type": "code",
   "execution_count": 23,
   "metadata": {
    "ExecuteTime": {
     "end_time": "2020-06-17T21:55:46.614253Z",
     "start_time": "2020-06-17T21:55:46.304170Z"
    }
   },
   "outputs": [
    {
     "name": "stdout",
     "output_type": "stream",
     "text": [
      "absolute frequencies\n",
      "concept:name\n",
      "Add penalty                              4357\n",
      "Appeal to Judge                           555\n",
      "Create Fine                              4513\n",
      "Insert Date Appeal to Prefecture         4146\n",
      "Insert Fine Notification                 4357\n",
      "Notify Result Appeal to Offender          863\n",
      "Payment                                   903\n",
      "Receive Result Appeal from Prefecture     964\n",
      "Send Appeal to Prefecture                4141\n",
      "Send Fine                                4513\n",
      "Send for Credit Collection                412\n",
      "Name: case:concept:name, dtype: int64\n",
      "relative frequencies\n",
      "concept:name\n",
      "Add penalty                              0.146582\n",
      "Appeal to Judge                          0.018672\n",
      "Create Fine                              0.151830\n",
      "Insert Date Appeal to Prefecture         0.139483\n",
      "Insert Fine Notification                 0.146582\n",
      "Notify Result Appeal to Offender         0.029034\n",
      "Payment                                  0.030379\n",
      "Receive Result Appeal from Prefecture    0.032432\n",
      "Send Appeal to Prefecture                0.139315\n",
      "Send Fine                                0.151830\n",
      "Send for Credit Collection               0.013861\n",
      "Name: case:concept:name, dtype: float64\n"
     ]
    }
   ],
   "source": [
    "print('absolute frequencies')\n",
    "print(df_appeal.groupby('concept:name')['case:concept:name'].count())\n",
    "print('relative frequencies')\n",
    "print(df_appeal.groupby('concept:name')['case:concept:name'].count()/len(df_appeal))"
   ]
  },
  {
   "cell_type": "code",
   "execution_count": 40,
   "metadata": {
    "ExecuteTime": {
     "end_time": "2020-06-17T21:55:46.294098Z",
     "start_time": "2020-06-17T21:55:43.804182Z"
    }
   },
   "outputs": [
    {
     "name": "stdout",
     "output_type": "stream",
     "text": [
      "absolute trace frequencies\n",
      "concept:name\n",
      "Add penalty                              4357\n",
      "Appeal to Judge                           555\n",
      "Create Fine                              4513\n",
      "Insert Date Appeal to Prefecture         4146\n",
      "Insert Fine Notification                 4357\n",
      "Notify Result Appeal to Offender          863\n",
      "Payment                                   732\n",
      "Receive Result Appeal from Prefecture     964\n",
      "Send Appeal to Prefecture                4141\n",
      "Send Fine                                4513\n",
      "Send for Credit Collection                412\n",
      "Name: case:concept:name, dtype: int64\n",
      "relative frequencies\n",
      "concept:name\n",
      "Add penalty                              0.965433\n",
      "Appeal to Judge                          0.122978\n",
      "Create Fine                              1.000000\n",
      "Insert Date Appeal to Prefecture         0.918679\n",
      "Insert Fine Notification                 0.965433\n",
      "Notify Result Appeal to Offender         0.191225\n",
      "Payment                                  0.162198\n",
      "Receive Result Appeal from Prefecture    0.213605\n",
      "Send Appeal to Prefecture                0.917571\n",
      "Send Fine                                1.000000\n",
      "Send for Credit Collection               0.091292\n",
      "Name: case:concept:name, dtype: float64\n"
     ]
    }
   ],
   "source": [
    "print('absolute trace frequencies')\n",
    "print(df_appeal.groupby('concept:name')['case:concept:name'].nunique())\n",
    "print('relative frequencies')\n",
    "print(df_appeal.groupby('concept:name')['case:concept:name'].nunique()/df_appeal['case:concept:name'].nunique())"
   ]
  },
  {
   "cell_type": "code",
   "execution_count": 24,
   "metadata": {
    "ExecuteTime": {
     "end_time": "2020-06-17T21:55:47.273902Z",
     "start_time": "2020-06-17T21:55:46.614253Z"
    }
   },
   "outputs": [
    {
     "name": "stdout",
     "output_type": "stream",
     "text": [
      "absolute frequencies\n",
      "concept:name\n",
      "Add penalty                               75503\n",
      "Create Fine                              145857\n",
      "Insert Date Appeal to Prefecture             42\n",
      "Insert Fine Notification                  75503\n",
      "Notify Result Appeal to Offender             33\n",
      "Payment                                   76698\n",
      "Receive Result Appeal from Prefecture        35\n",
      "Send Fine                                 99474\n",
      "Send for Credit Collection                58601\n",
      "Name: case:concept:name, dtype: int64\n",
      "relative frequencies\n",
      "concept:name\n",
      "Add penalty                              0.141991\n",
      "Create Fine                              0.274298\n",
      "Insert Date Appeal to Prefecture         0.000079\n",
      "Insert Fine Notification                 0.141991\n",
      "Notify Result Appeal to Offender         0.000062\n",
      "Payment                                  0.144238\n",
      "Receive Result Appeal from Prefecture    0.000066\n",
      "Send Fine                                0.187071\n",
      "Send for Credit Collection               0.110205\n",
      "Name: case:concept:name, dtype: float64\n"
     ]
    }
   ],
   "source": [
    "print('absolute frequencies')\n",
    "print(df_no_appeal.groupby('concept:name')['case:concept:name'].count())\n",
    "print('relative frequencies')\n",
    "print(df_no_appeal.groupby('concept:name')['case:concept:name'].count()/len(df_no_appeal))"
   ]
  },
  {
   "cell_type": "code",
   "execution_count": 41,
   "metadata": {
    "ExecuteTime": {
     "end_time": "2020-06-17T21:55:46.294098Z",
     "start_time": "2020-06-17T21:55:43.804182Z"
    }
   },
   "outputs": [
    {
     "name": "stdout",
     "output_type": "stream",
     "text": [
      "absolute trace frequencies\n",
      "concept:name\n",
      "Add penalty                               75503\n",
      "Create Fine                              145857\n",
      "Insert Date Appeal to Prefecture             42\n",
      "Insert Fine Notification                  75503\n",
      "Notify Result Appeal to Offender             33\n",
      "Payment                                   68983\n",
      "Receive Result Appeal from Prefecture        35\n",
      "Send Fine                                 99474\n",
      "Send for Credit Collection                58601\n",
      "Name: case:concept:name, dtype: int64\n",
      "relative frequencies\n",
      "concept:name\n",
      "Add penalty                              0.517651\n",
      "Create Fine                              1.000000\n",
      "Insert Date Appeal to Prefecture         0.000288\n",
      "Insert Fine Notification                 0.517651\n",
      "Notify Result Appeal to Offender         0.000226\n",
      "Payment                                  0.472950\n",
      "Receive Result Appeal from Prefecture    0.000240\n",
      "Send Fine                                0.681997\n",
      "Send for Credit Collection               0.401770\n",
      "Name: case:concept:name, dtype: float64\n"
     ]
    }
   ],
   "source": [
    "print('absolute trace frequencies')\n",
    "print(df_no_appeal.groupby('concept:name')['case:concept:name'].nunique())\n",
    "print('relative frequencies')\n",
    "print(df_no_appeal.groupby('concept:name')['case:concept:name'].nunique()/df_no_appeal['case:concept:name'].nunique())"
   ]
  },
  {
   "cell_type": "code",
   "execution_count": 25,
   "metadata": {
    "ExecuteTime": {
     "end_time": "2020-06-17T21:55:47.634185Z",
     "start_time": "2020-06-17T21:55:47.273902Z"
    }
   },
   "outputs": [
    {
     "name": "stdout",
     "output_type": "stream",
     "text": [
      "['Create Fine']\n",
      "All traces start with the 'Create Fine' activity\n"
     ]
    }
   ],
   "source": [
    "print(traces.apply(lambda x : x[0]).unique())\n",
    "print(\"All traces start with the 'Create Fine' activity\")"
   ]
  },
  {
   "cell_type": "code",
   "execution_count": 26,
   "metadata": {
    "ExecuteTime": {
     "end_time": "2020-06-17T21:55:48.273972Z",
     "start_time": "2020-06-17T21:55:47.634185Z"
    }
   },
   "outputs": [
    {
     "name": "stdout",
     "output_type": "stream",
     "text": [
      "Payment                                  0.446904\n",
      "Send for Credit Collection               0.392346\n",
      "Send Fine                                0.138026\n",
      "Send Appeal to Prefecture                0.020908\n",
      "Appeal to Judge                          0.000891\n",
      "Notify Result Appeal to Offender         0.000572\n",
      "Receive Result Appeal from Prefecture    0.000352\n",
      "Name: concept:name, dtype: float64\n",
      "Send Appeal to Prefecture                0.696654\n",
      "Payment                                  0.154443\n",
      "Send for Credit Collection               0.087747\n",
      "Appeal to Judge                          0.029692\n",
      "Notify Result Appeal to Offender         0.018170\n",
      "Receive Result Appeal from Prefecture    0.011744\n",
      "Send Fine                                0.001551\n",
      "Name: concept:name, dtype: float64\n",
      "Payment                             0.455953\n",
      "Send for Credit Collection          0.401770\n",
      "Send Fine                           0.142249\n",
      "Notify Result Appeal to Offender    0.000027\n",
      "Name: concept:name, dtype: float64\n"
     ]
    }
   ],
   "source": [
    "end_activity = traces.apply(lambda x : x[-1])\n",
    "print(end_activity.value_counts() / len(traces))\n",
    "\n",
    "end_activity_appeal = traces[has_appeal].apply(lambda x : x[-1])\n",
    "print(end_activity_appeal.value_counts() / len(traces[has_appeal]))\n",
    "\n",
    "end_activity_no_appeal = traces[has_appeal == False].apply(lambda x : x[-1])\n",
    "print(end_activity_no_appeal.value_counts() / len(traces[has_appeal == False]))"
   ]
  },
  {
   "cell_type": "markdown",
   "metadata": {},
   "source": [
    "# Q1.D"
   ]
  },
  {
   "cell_type": "code",
   "execution_count": 52,
   "metadata": {},
   "outputs": [
    {
     "data": {
      "text/html": [
       "<div>\n",
       "<style scoped>\n",
       "    .dataframe tbody tr th:only-of-type {\n",
       "        vertical-align: middle;\n",
       "    }\n",
       "\n",
       "    .dataframe tbody tr th {\n",
       "        vertical-align: top;\n",
       "    }\n",
       "\n",
       "    .dataframe thead th {\n",
       "        text-align: right;\n",
       "    }\n",
       "</style>\n",
       "<table border=\"1\" class=\"dataframe\">\n",
       "  <thead>\n",
       "    <tr style=\"text-align: right;\">\n",
       "      <th></th>\n",
       "      <th>amount</th>\n",
       "      <th>org:resource</th>\n",
       "      <th>dismissal</th>\n",
       "      <th>concept:name</th>\n",
       "      <th>vehicleClass</th>\n",
       "      <th>totalPaymentAmount</th>\n",
       "      <th>lifecycle:transition</th>\n",
       "      <th>time:timestamp</th>\n",
       "      <th>article</th>\n",
       "      <th>points</th>\n",
       "      <th>case:concept:name</th>\n",
       "      <th>expense</th>\n",
       "      <th>notificationType</th>\n",
       "      <th>lastSent</th>\n",
       "      <th>paymentAmount</th>\n",
       "      <th>matricola</th>\n",
       "      <th>has_appeal</th>\n",
       "      <th>trace_duration</th>\n",
       "    </tr>\n",
       "  </thead>\n",
       "  <tbody>\n",
       "    <tr>\n",
       "      <th>0</th>\n",
       "      <td>35.0</td>\n",
       "      <td>561</td>\n",
       "      <td>NIL</td>\n",
       "      <td>Create Fine</td>\n",
       "      <td>A</td>\n",
       "      <td>0.0</td>\n",
       "      <td>complete</td>\n",
       "      <td>2006-07-24 00:00:00+02:00</td>\n",
       "      <td>157.0</td>\n",
       "      <td>0.0</td>\n",
       "      <td>A1</td>\n",
       "      <td>NaN</td>\n",
       "      <td>NaN</td>\n",
       "      <td>NaN</td>\n",
       "      <td>NaN</td>\n",
       "      <td>NaN</td>\n",
       "      <td>False</td>\n",
       "      <td>0.366994</td>\n",
       "    </tr>\n",
       "    <tr>\n",
       "      <th>1</th>\n",
       "      <td>NaN</td>\n",
       "      <td>NaN</td>\n",
       "      <td>NaN</td>\n",
       "      <td>Send Fine</td>\n",
       "      <td>NaN</td>\n",
       "      <td>NaN</td>\n",
       "      <td>complete</td>\n",
       "      <td>2006-12-05 00:00:00+01:00</td>\n",
       "      <td>NaN</td>\n",
       "      <td>NaN</td>\n",
       "      <td>A1</td>\n",
       "      <td>11.0</td>\n",
       "      <td>NaN</td>\n",
       "      <td>NaN</td>\n",
       "      <td>NaN</td>\n",
       "      <td>NaN</td>\n",
       "      <td>False</td>\n",
       "      <td>0.366994</td>\n",
       "    </tr>\n",
       "    <tr>\n",
       "      <th>2</th>\n",
       "      <td>35.0</td>\n",
       "      <td>561</td>\n",
       "      <td>NIL</td>\n",
       "      <td>Create Fine</td>\n",
       "      <td>A</td>\n",
       "      <td>0.0</td>\n",
       "      <td>complete</td>\n",
       "      <td>2006-08-02 00:00:00+02:00</td>\n",
       "      <td>157.0</td>\n",
       "      <td>0.0</td>\n",
       "      <td>A100</td>\n",
       "      <td>NaN</td>\n",
       "      <td>NaN</td>\n",
       "      <td>NaN</td>\n",
       "      <td>NaN</td>\n",
       "      <td>NaN</td>\n",
       "      <td>False</td>\n",
       "      <td>2.658508</td>\n",
       "    </tr>\n",
       "    <tr>\n",
       "      <th>3</th>\n",
       "      <td>NaN</td>\n",
       "      <td>NaN</td>\n",
       "      <td>NaN</td>\n",
       "      <td>Send Fine</td>\n",
       "      <td>NaN</td>\n",
       "      <td>NaN</td>\n",
       "      <td>complete</td>\n",
       "      <td>2006-12-12 00:00:00+01:00</td>\n",
       "      <td>NaN</td>\n",
       "      <td>NaN</td>\n",
       "      <td>A100</td>\n",
       "      <td>11.0</td>\n",
       "      <td>NaN</td>\n",
       "      <td>NaN</td>\n",
       "      <td>NaN</td>\n",
       "      <td>NaN</td>\n",
       "      <td>False</td>\n",
       "      <td>2.658508</td>\n",
       "    </tr>\n",
       "    <tr>\n",
       "      <th>4</th>\n",
       "      <td>NaN</td>\n",
       "      <td>NaN</td>\n",
       "      <td>NaN</td>\n",
       "      <td>Insert Fine Notification</td>\n",
       "      <td>NaN</td>\n",
       "      <td>NaN</td>\n",
       "      <td>complete</td>\n",
       "      <td>2007-01-15 00:00:00+01:00</td>\n",
       "      <td>NaN</td>\n",
       "      <td>NaN</td>\n",
       "      <td>A100</td>\n",
       "      <td>NaN</td>\n",
       "      <td>P</td>\n",
       "      <td>P</td>\n",
       "      <td>NaN</td>\n",
       "      <td>NaN</td>\n",
       "      <td>False</td>\n",
       "      <td>2.658508</td>\n",
       "    </tr>\n",
       "  </tbody>\n",
       "</table>\n",
       "</div>"
      ],
      "text/plain": [
       "   amount org:resource dismissal              concept:name vehicleClass  \\\n",
       "0    35.0          561       NIL               Create Fine            A   \n",
       "1     NaN          NaN       NaN                 Send Fine          NaN   \n",
       "2    35.0          561       NIL               Create Fine            A   \n",
       "3     NaN          NaN       NaN                 Send Fine          NaN   \n",
       "4     NaN          NaN       NaN  Insert Fine Notification          NaN   \n",
       "\n",
       "   totalPaymentAmount lifecycle:transition             time:timestamp  \\\n",
       "0                 0.0             complete  2006-07-24 00:00:00+02:00   \n",
       "1                 NaN             complete  2006-12-05 00:00:00+01:00   \n",
       "2                 0.0             complete  2006-08-02 00:00:00+02:00   \n",
       "3                 NaN             complete  2006-12-12 00:00:00+01:00   \n",
       "4                 NaN             complete  2007-01-15 00:00:00+01:00   \n",
       "\n",
       "   article  points case:concept:name  expense notificationType lastSent  \\\n",
       "0    157.0     0.0                A1      NaN              NaN      NaN   \n",
       "1      NaN     NaN                A1     11.0              NaN      NaN   \n",
       "2    157.0     0.0              A100      NaN              NaN      NaN   \n",
       "3      NaN     NaN              A100     11.0              NaN      NaN   \n",
       "4      NaN     NaN              A100      NaN                P        P   \n",
       "\n",
       "   paymentAmount  matricola  has_appeal  trace_duration  \n",
       "0            NaN        NaN       False        0.366994  \n",
       "1            NaN        NaN       False        0.366994  \n",
       "2            NaN        NaN       False        2.658508  \n",
       "3            NaN        NaN       False        2.658508  \n",
       "4            NaN        NaN       False        2.658508  "
      ]
     },
     "execution_count": 52,
     "metadata": {},
     "output_type": "execute_result"
    }
   ],
   "source": [
    "trace_duration = df.groupby('case:concept:name')['time:timestamp'].max() - df.groupby('case:concept:name')['time:timestamp'].min()\n",
    "\n",
    "df['trace_duration'] = df['case:concept:name'].map(trace_duration) / np.timedelta64(1, 'Y')\n",
    "\n",
    "df.head()"
   ]
  },
  {
   "cell_type": "code",
   "execution_count": 53,
   "metadata": {},
   "outputs": [
    {
     "data": {
      "text/plain": [
       "<matplotlib.axes._subplots.AxesSubplot at 0x7fe2a3723640>"
      ]
     },
     "execution_count": 53,
     "metadata": {},
     "output_type": "execute_result"
    },
    {
     "data": {
      "image/png": "[encoded data removed]",
      "text/plain": [
       "<Figure size 432x288 with 1 Axes>"
      ]
     },
     "metadata": {
      "needs_background": "light"
     },
     "output_type": "display_data"
    }
   ],
   "source": [
    "import seaborn as sns\n",
    "\n",
    "sns.boxplot(\n",
    "    data=df,\n",
    "    x='trace_duration',\n",
    "    y='concept:name'\n",
    ")"
   ]
  },
  {
   "cell_type": "code",
   "execution_count": 49,
   "metadata": {},
   "outputs": [
    {
     "name": "stderr",
     "output_type": "stream",
     "text": [
      "<ipython-input-49-d8536b9b30ec>:3: SettingWithCopyWarning: \n",
      "A value is trying to be set on a copy of a slice from a DataFrame.\n",
      "Try using .loc[row_indexer,col_indexer] = value instead\n",
      "\n",
      "See the caveats in the documentation: https://pandas.pydata.org/pandas-docs/stable/user_guide/indexing.html#returning-a-view-versus-a-copy\n",
      "  df_no_appeal['trace_duration'] = df_no_appeal['case:concept:name'].map(trace_duration) / np.timedelta64(1, 'D')\n"
     ]
    },
    {
     "data": {
      "text/html": [
       "<div>\n",
       "<style scoped>\n",
       "    .dataframe tbody tr th:only-of-type {\n",
       "        vertical-align: middle;\n",
       "    }\n",
       "\n",
       "    .dataframe tbody tr th {\n",
       "        vertical-align: top;\n",
       "    }\n",
       "\n",
       "    .dataframe thead th {\n",
       "        text-align: right;\n",
       "    }\n",
       "</style>\n",
       "<table border=\"1\" class=\"dataframe\">\n",
       "  <thead>\n",
       "    <tr style=\"text-align: right;\">\n",
       "      <th></th>\n",
       "      <th>amount</th>\n",
       "      <th>org:resource</th>\n",
       "      <th>dismissal</th>\n",
       "      <th>concept:name</th>\n",
       "      <th>vehicleClass</th>\n",
       "      <th>totalPaymentAmount</th>\n",
       "      <th>lifecycle:transition</th>\n",
       "      <th>time:timestamp</th>\n",
       "      <th>article</th>\n",
       "      <th>points</th>\n",
       "      <th>case:concept:name</th>\n",
       "      <th>expense</th>\n",
       "      <th>notificationType</th>\n",
       "      <th>lastSent</th>\n",
       "      <th>paymentAmount</th>\n",
       "      <th>matricola</th>\n",
       "      <th>has_appeal</th>\n",
       "      <th>trace_duration</th>\n",
       "    </tr>\n",
       "  </thead>\n",
       "  <tbody>\n",
       "    <tr>\n",
       "      <th>0</th>\n",
       "      <td>35.0</td>\n",
       "      <td>561</td>\n",
       "      <td>NIL</td>\n",
       "      <td>Create Fine</td>\n",
       "      <td>A</td>\n",
       "      <td>0.0</td>\n",
       "      <td>complete</td>\n",
       "      <td>2006-07-24 00:00:00+02:00</td>\n",
       "      <td>157.0</td>\n",
       "      <td>0.0</td>\n",
       "      <td>A1</td>\n",
       "      <td>NaN</td>\n",
       "      <td>NaN</td>\n",
       "      <td>NaN</td>\n",
       "      <td>NaN</td>\n",
       "      <td>NaN</td>\n",
       "      <td>False</td>\n",
       "      <td>134.041667</td>\n",
       "    </tr>\n",
       "    <tr>\n",
       "      <th>1</th>\n",
       "      <td>NaN</td>\n",
       "      <td>NaN</td>\n",
       "      <td>NaN</td>\n",
       "      <td>Send Fine</td>\n",
       "      <td>NaN</td>\n",
       "      <td>NaN</td>\n",
       "      <td>complete</td>\n",
       "      <td>2006-12-05 00:00:00+01:00</td>\n",
       "      <td>NaN</td>\n",
       "      <td>NaN</td>\n",
       "      <td>A1</td>\n",
       "      <td>11.0</td>\n",
       "      <td>NaN</td>\n",
       "      <td>NaN</td>\n",
       "      <td>NaN</td>\n",
       "      <td>NaN</td>\n",
       "      <td>False</td>\n",
       "      <td>134.041667</td>\n",
       "    </tr>\n",
       "    <tr>\n",
       "      <th>2</th>\n",
       "      <td>35.0</td>\n",
       "      <td>561</td>\n",
       "      <td>NIL</td>\n",
       "      <td>Create Fine</td>\n",
       "      <td>A</td>\n",
       "      <td>0.0</td>\n",
       "      <td>complete</td>\n",
       "      <td>2006-08-02 00:00:00+02:00</td>\n",
       "      <td>157.0</td>\n",
       "      <td>0.0</td>\n",
       "      <td>A100</td>\n",
       "      <td>NaN</td>\n",
       "      <td>NaN</td>\n",
       "      <td>NaN</td>\n",
       "      <td>NaN</td>\n",
       "      <td>NaN</td>\n",
       "      <td>False</td>\n",
       "      <td>971.000000</td>\n",
       "    </tr>\n",
       "    <tr>\n",
       "      <th>3</th>\n",
       "      <td>NaN</td>\n",
       "      <td>NaN</td>\n",
       "      <td>NaN</td>\n",
       "      <td>Send Fine</td>\n",
       "      <td>NaN</td>\n",
       "      <td>NaN</td>\n",
       "      <td>complete</td>\n",
       "      <td>2006-12-12 00:00:00+01:00</td>\n",
       "      <td>NaN</td>\n",
       "      <td>NaN</td>\n",
       "      <td>A100</td>\n",
       "      <td>11.0</td>\n",
       "      <td>NaN</td>\n",
       "      <td>NaN</td>\n",
       "      <td>NaN</td>\n",
       "      <td>NaN</td>\n",
       "      <td>False</td>\n",
       "      <td>971.000000</td>\n",
       "    </tr>\n",
       "    <tr>\n",
       "      <th>4</th>\n",
       "      <td>NaN</td>\n",
       "      <td>NaN</td>\n",
       "      <td>NaN</td>\n",
       "      <td>Insert Fine Notification</td>\n",
       "      <td>NaN</td>\n",
       "      <td>NaN</td>\n",
       "      <td>complete</td>\n",
       "      <td>2007-01-15 00:00:00+01:00</td>\n",
       "      <td>NaN</td>\n",
       "      <td>NaN</td>\n",
       "      <td>A100</td>\n",
       "      <td>NaN</td>\n",
       "      <td>P</td>\n",
       "      <td>P</td>\n",
       "      <td>NaN</td>\n",
       "      <td>NaN</td>\n",
       "      <td>False</td>\n",
       "      <td>971.000000</td>\n",
       "    </tr>\n",
       "  </tbody>\n",
       "</table>\n",
       "</div>"
      ],
      "text/plain": [
       "   amount org:resource dismissal              concept:name vehicleClass  \\\n",
       "0    35.0          561       NIL               Create Fine            A   \n",
       "1     NaN          NaN       NaN                 Send Fine          NaN   \n",
       "2    35.0          561       NIL               Create Fine            A   \n",
       "3     NaN          NaN       NaN                 Send Fine          NaN   \n",
       "4     NaN          NaN       NaN  Insert Fine Notification          NaN   \n",
       "\n",
       "   totalPaymentAmount lifecycle:transition             time:timestamp  \\\n",
       "0                 0.0             complete  2006-07-24 00:00:00+02:00   \n",
       "1                 NaN             complete  2006-12-05 00:00:00+01:00   \n",
       "2                 0.0             complete  2006-08-02 00:00:00+02:00   \n",
       "3                 NaN             complete  2006-12-12 00:00:00+01:00   \n",
       "4                 NaN             complete  2007-01-15 00:00:00+01:00   \n",
       "\n",
       "   article  points case:concept:name  expense notificationType lastSent  \\\n",
       "0    157.0     0.0                A1      NaN              NaN      NaN   \n",
       "1      NaN     NaN                A1     11.0              NaN      NaN   \n",
       "2    157.0     0.0              A100      NaN              NaN      NaN   \n",
       "3      NaN     NaN              A100     11.0              NaN      NaN   \n",
       "4      NaN     NaN              A100      NaN                P        P   \n",
       "\n",
       "   paymentAmount  matricola  has_appeal  trace_duration  \n",
       "0            NaN        NaN       False      134.041667  \n",
       "1            NaN        NaN       False      134.041667  \n",
       "2            NaN        NaN       False      971.000000  \n",
       "3            NaN        NaN       False      971.000000  \n",
       "4            NaN        NaN       False      971.000000  "
      ]
     },
     "execution_count": 49,
     "metadata": {},
     "output_type": "execute_result"
    }
   ],
   "source": [
    "trace_duration = df_no_appeal.groupby('case:concept:name')['time:timestamp'].max() - df_no_appeal.groupby('case:concept:name')['time:timestamp'].min()\n",
    "\n",
    "df_no_appeal['trace_duration'] = df_no_appeal['case:concept:name'].map(trace_duration) / np.timedelta64(1, 'D')\n",
    "\n",
    "df_no_appeal.head()"
   ]
  },
  {
   "cell_type": "code",
   "execution_count": 50,
   "metadata": {},
   "outputs": [
    {
     "data": {
      "text/plain": [
       "<matplotlib.axes._subplots.AxesSubplot at 0x7fe29e3bf5e0>"
      ]
     },
     "execution_count": 50,
     "metadata": {},
     "output_type": "execute_result"
    },
    {
     "data": {
      "image/png": "[encoded data removed]",
      "text/plain": [
       "<Figure size 432x288 with 1 Axes>"
      ]
     },
     "metadata": {
      "needs_background": "light"
     },
     "output_type": "display_data"
    }
   ],
   "source": [
    "import seaborn as sns\n",
    "\n",
    "sns.barplot(\n",
    "    data=df_no_appeal,\n",
    "    x='trace_duration',\n",
    "    y='concept:name'\n",
    ")"
   ]
  },
  {
   "cell_type": "markdown",
   "metadata": {},
   "source": [
    "# Additional investigations"
   ]
  },
  {
   "cell_type": "code",
   "execution_count": 27,
   "metadata": {
    "ExecuteTime": {
     "end_time": "2020-06-17T21:56:00.644187Z",
     "start_time": "2020-06-17T21:55:48.284012Z"
    }
   },
   "outputs": [
    {
     "data": {
      "image/png": "[encoded data removed]",
      "text/plain": [
       "<IPython.core.display.Image object>"
      ]
     },
     "metadata": {},
     "output_type": "display_data"
    }
   ],
   "source": [
    "from pm4py.algo.discovery.dfg import algorithm as dfg_discovery\n",
    "dfg = dfg_discovery.apply(log_no_appeal)\n",
    "\n",
    "from pm4py.visualization.dfg import visualizer as dfg_visualization\n",
    "gviz = dfg_visualization.apply(dfg, log=log_no_appeal, variant=dfg_visualization.Variants.FREQUENCY)\n",
    "dfg_visualization.view(gviz)"
   ]
  },
  {
   "cell_type": "code",
   "execution_count": null,
   "metadata": {},
   "outputs": [],
   "source": []
  },
  {
   "cell_type": "code",
   "execution_count": null,
   "metadata": {},
   "outputs": [],
   "source": []
  },
  {
   "cell_type": "code",
   "execution_count": null,
   "metadata": {},
   "outputs": [],
   "source": []
  },
  {
   "cell_type": "code",
   "execution_count": null,
   "metadata": {},
   "outputs": [],
   "source": []
  }
 ],
 "metadata": {
  "kernelspec": {
   "display_name": "Python 3",
   "language": "python",
   "name": "python3"
  },
  "language_info": {
   "codemirror_mode": {
    "name": "ipython",
    "version": 3
   },
   "file_extension": ".py",
   "mimetype": "text/x-python",
   "name": "python",
   "nbconvert_exporter": "python",
   "pygments_lexer": "ipython3",
   "version": "3.8.2"
  }
 },
 "nbformat": 4,
 "nbformat_minor": 2
}
