{
 "cells": [
  {
   "cell_type": "code",
   "execution_count": 1,
   "metadata": {
    "ExecuteTime": {
     "end_time": "2020-06-18T10:10:38.412193Z",
     "start_time": "2020-06-18T10:10:17.864618Z"
    }
   },
   "outputs": [],
   "source": [
    "from pm4py.objects.log.importer.xes import importer as xes_importer\n",
    "from pm4py.objects.petri.importer import importer as pnml_importer\n",
    "from pm4py.algo.conformance.tokenreplay import algorithm as token_replay\n",
    "from pm4py.algo.conformance.alignments import algorithm as alignments\n"
   ]
  },
  {
   "cell_type": "markdown",
   "metadata": {},
   "source": [
    "# Q1\n",
    "\n",
    "b)"
   ]
  },
  {
   "cell_type": "code",
   "execution_count": 2,
   "metadata": {},
   "outputs": [
    {
     "data": {
      "application/vnd.jupyter.widget-view+json": {
       "model_id": "d4fe303b9ea5475d93b0ba25cc47d8bd",
       "version_major": 2,
       "version_minor": 0
      },
      "text/plain": [
       "HBox(children=(IntProgress(value=0, description='parsing log, completed traces :: ', max=145822, style=Progres…"
      ]
     },
     "metadata": {},
     "output_type": "display_data"
    },
    {
     "name": "stdout",
     "output_type": "stream",
     "text": [
      "\n"
     ]
    }
   ],
   "source": [
    "no_appeals_log = xes_importer.apply(\"../../FMP_no_appeals_cleaned.xes\")\n",
    "\n",
    "no_appeals_net, no_appeals_initial_marking, no_appeals_final_marking = pnml_importer.apply(\"../results/im_no_appeals.pnml\")\n",
    "\n",
    "no_appeals_replayed_traces = token_replay.apply(no_appeals_log, no_appeals_net, no_appeals_initial_marking, no_appeals_final_marking)\n"
   ]
  },
  {
   "cell_type": "code",
   "execution_count": 3,
   "metadata": {},
   "outputs": [
    {
     "data": {
      "application/vnd.jupyter.widget-view+json": {
       "model_id": "aead1ca0aa9e4eb6bc48f1dfc15ac9c1",
       "version_major": 2,
       "version_minor": 0
      },
      "text/plain": [
       "HBox(children=(IntProgress(value=0, description='parsing log, completed traces :: ', max=4513, style=ProgressS…"
      ]
     },
     "metadata": {},
     "output_type": "display_data"
    },
    {
     "name": "stdout",
     "output_type": "stream",
     "text": [
      "\n"
     ]
    }
   ],
   "source": [
    "appeals_log = xes_importer.apply(\"../../FMP_appeals.xes\")\n",
    "\n",
    "appeals_net, appeals_initial_marking, appeals_final_marking = pnml_importer.apply(\"../results/im_appeals.pnml\")\n",
    "\n",
    "appeals_replayed_traces = token_replay.apply(appeals_log, appeals_net, appeals_initial_marking, appeals_final_marking)\n",
    "\n"
   ]
  },
  {
   "cell_type": "code",
   "execution_count": 4,
   "metadata": {},
   "outputs": [],
   "source": [
    "def replay_fitness(traces):\n",
    "    consumed = 0\n",
    "    produced = 0\n",
    "    missing = 0\n",
    "    remaining = 0\n",
    "\n",
    "    for trace in traces:\n",
    "        consumed += trace[\"consumed_tokens\"]\n",
    "        produced += trace[\"produced_tokens\"]\n",
    "        missing += trace[\"missing_tokens\"]\n",
    "        remaining += trace[\"remaining_tokens\"]\n",
    "    \n",
    "    return 0.5 * (1-remaining/produced) + 0.5 * (1-missing/consumed)"
   ]
  },
  {
   "cell_type": "code",
   "execution_count": 5,
   "metadata": {},
   "outputs": [
    {
     "name": "stdout",
     "output_type": "stream",
     "text": [
      "Replay Fitness appeals log:\n",
      "0.9742098248593428\n",
      "\n",
      "Replay Fitness no appeals log:\n",
      "0.9925702001102812\n"
     ]
    }
   ],
   "source": [
    "print(\"Replay Fitness appeals log:\")\n",
    "print(replay_fitness(appeals_replayed_traces))\n",
    "\n",
    "print(\"\\nReplay Fitness no appeals log:\")\n",
    "print(replay_fitness(no_appeals_replayed_traces))\n"
   ]
  },
  {
   "cell_type": "code",
   "execution_count": 6,
   "metadata": {},
   "outputs": [],
   "source": [
    "no_appeals_alignments = alignments.apply_log(no_appeals_log, no_appeals_net, no_appeals_initial_marking, no_appeals_final_marking)\n",
    "\n",
    "appeals_alignments = alignments.apply_log(appeals_log, appeals_net, appeals_initial_marking, appeals_final_marking)\n"
   ]
  },
  {
   "cell_type": "code",
   "execution_count": 7,
   "metadata": {},
   "outputs": [],
   "source": [
    "def alignment_fitness(alignments):\n",
    "    count = 0\n",
    "    fitness = 0\n",
    "    for alignment in alignments:\n",
    "        count += 1\n",
    "        fitness += alignment[\"fitness\"]\n",
    "        \n",
    "    return fitness / count"
   ]
  },
  {
   "cell_type": "code",
   "execution_count": 8,
   "metadata": {},
   "outputs": [
    {
     "name": "stdout",
     "output_type": "stream",
     "text": [
      "Alignment Fitness appeals log:\n",
      "0.9747675764921188\n",
      "\n",
      "Alignment Fitness no appeals log:\n",
      "0.9912948999129073\n"
     ]
    }
   ],
   "source": [
    "print(\"Alignment Fitness appeals log:\")\n",
    "print(alignment_fitness(appeals_alignments))\n",
    "\n",
    "print(\"\\nAlignment Fitness no appeals log:\")\n",
    "print(alignment_fitness(no_appeals_alignments))"
   ]
  },
  {
   "cell_type": "code",
   "execution_count": null,
   "metadata": {},
   "outputs": [],
   "source": []
  }
 ],
 "metadata": {
  "kernelspec": {
   "display_name": "Python 3",
   "language": "python",
   "name": "python3"
  },
  "language_info": {
   "codemirror_mode": {
    "name": "ipython",
    "version": 3
   },
   "file_extension": ".py",
   "mimetype": "text/x-python",
   "name": "python",
   "nbconvert_exporter": "python",
   "pygments_lexer": "ipython3",
   "version": "3.6.3"
  }
 },
 "nbformat": 4,
 "nbformat_minor": 2
}
