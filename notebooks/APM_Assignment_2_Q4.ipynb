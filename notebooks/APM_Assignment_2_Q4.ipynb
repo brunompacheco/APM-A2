{
 "cells": [
  {
   "cell_type": "code",
   "execution_count": 63,
   "metadata": {
    "ExecuteTime": {
     "end_time": "2020-06-18T10:10:38.412193Z",
     "start_time": "2020-06-18T10:10:17.864618Z"
    }
   },
   "outputs": [],
   "source": [
    "from pm4py.objects.log.importer.xes import importer as xes_importer\n",
    "from pm4py.objects.petri.importer import importer as pnml_importer\n",
    "from pm4py.objects.conversion.log import converter as log_converter\n",
    "from pm4py.visualization.petrinet import visualizer as pn_visualizer\n",
    "import datetime\n",
    "import pandas as pd\n",
    "import numpy as np\n"
   ]
  },
  {
   "cell_type": "markdown",
   "metadata": {},
   "source": [
    "# Q4\n",
    "\n",
    "### Import"
   ]
  },
  {
   "cell_type": "code",
   "execution_count": 2,
   "metadata": {},
   "outputs": [
    {
     "data": {
      "application/vnd.jupyter.widget-view+json": {
       "model_id": "1fd19fd7bbf447efaf270890350afd1f",
       "version_major": 2,
       "version_minor": 0
      },
      "text/plain": [
       "HBox(children=(IntProgress(value=0, description='parsing log, completed traces :: ', max=145822, style=Progres…"
      ]
     },
     "metadata": {},
     "output_type": "display_data"
    },
    {
     "name": "stdout",
     "output_type": "stream",
     "text": [
      "\n"
     ]
    }
   ],
   "source": [
    "no_appeals_log = xes_importer.apply(\"../../FMP_no_appeals_cleaned.xes\")\n",
    "\n",
    "no_appeals_net, no_appeals_initial_marking, no_appeals_final_marking = pnml_importer.apply(\"../results/im_no_appeals.pnml\")\n"
   ]
  },
  {
   "cell_type": "code",
   "execution_count": 3,
   "metadata": {},
   "outputs": [
    {
     "data": {
      "application/vnd.jupyter.widget-view+json": {
       "model_id": "47d45b145eb940ff99f5c379c9d28e95",
       "version_major": 2,
       "version_minor": 0
      },
      "text/plain": [
       "HBox(children=(IntProgress(value=0, description='parsing log, completed traces :: ', max=4513, style=ProgressS…"
      ]
     },
     "metadata": {},
     "output_type": "display_data"
    },
    {
     "name": "stdout",
     "output_type": "stream",
     "text": [
      "\n"
     ]
    }
   ],
   "source": [
    "appeals_log = xes_importer.apply(\"../../FMP_appeals.xes\")\n",
    "\n",
    "appeals_net, appeals_initial_marking, appeals_final_marking = pnml_importer.apply(\"../results/im_appeals.pnml\")\n"
   ]
  },
  {
   "cell_type": "code",
   "execution_count": 10,
   "metadata": {},
   "outputs": [
    {
     "data": {
      "application/vnd.jupyter.widget-view+json": {
       "model_id": "87f256ca4cdc4150b5c29999bed9bef4",
       "version_major": 2,
       "version_minor": 0
      },
      "text/plain": [
       "HBox(children=(IntProgress(value=0, description='parsing log, completed traces :: ', max=412, style=ProgressSt…"
      ]
     },
     "metadata": {},
     "output_type": "display_data"
    },
    {
     "name": "stdout",
     "output_type": "stream",
     "text": [
      "\n"
     ]
    }
   ],
   "source": [
    "credit_collection_log = xes_importer.apply(\"../../FMP_appeals_credit_collection.xes\")\n",
    "\n",
    "credit_df = log_converter.apply(credit_collection_log, variant=log_converter.Variants.TO_DATA_FRAME)\n"
   ]
  },
  {
   "cell_type": "code",
   "execution_count": 125,
   "metadata": {},
   "outputs": [
    {
     "data": {
      "application/vnd.jupyter.widget-view+json": {
       "model_id": "00dbc20719334877970c48ca6e4edea7",
       "version_major": 2,
       "version_minor": 0
      },
      "text/plain": [
       "HBox(children=(IntProgress(value=0, description='parsing log, completed traces :: ', max=4513, style=ProgressS…"
      ]
     },
     "metadata": {},
     "output_type": "display_data"
    },
    {
     "name": "stdout",
     "output_type": "stream",
     "text": [
      "\n"
     ]
    }
   ],
   "source": [
    "appeals_duration_log = xes_importer.apply(\"../../FMP_appeals_duration.xes\")\n",
    "\n",
    "appeals_df = log_converter.apply(appeals_duration_log, variant=log_converter.Variants.TO_DATA_FRAME)\n"
   ]
  },
  {
   "cell_type": "markdown",
   "metadata": {},
   "source": [
    "---\n",
    "a)"
   ]
  },
  {
   "cell_type": "code",
   "execution_count": 33,
   "metadata": {},
   "outputs": [
    {
     "data": {
      "text/html": [
       "<div>\n",
       "<style scoped>\n",
       "    .dataframe tbody tr th:only-of-type {\n",
       "        vertical-align: middle;\n",
       "    }\n",
       "\n",
       "    .dataframe tbody tr th {\n",
       "        vertical-align: top;\n",
       "    }\n",
       "\n",
       "    .dataframe thead th {\n",
       "        text-align: right;\n",
       "    }\n",
       "</style>\n",
       "<table border=\"1\" class=\"dataframe\">\n",
       "  <thead>\n",
       "    <tr style=\"text-align: right;\">\n",
       "      <th></th>\n",
       "      <th>concept:instance</th>\n",
       "      <th>amount</th>\n",
       "      <th>time:timestamp</th>\n",
       "      <th>article</th>\n",
       "      <th>points</th>\n",
       "      <th>duration</th>\n",
       "      <th>org:resource</th>\n",
       "      <th>dismissal</th>\n",
       "      <th>concept:name</th>\n",
       "      <th>vehicleClass</th>\n",
       "      <th>case_duration</th>\n",
       "      <th>totalPaymentAmount</th>\n",
       "      <th>lifecycle:transition</th>\n",
       "      <th>case:concept:name</th>\n",
       "      <th>expense</th>\n",
       "      <th>notificationType</th>\n",
       "      <th>lastSent</th>\n",
       "      <th>matricola</th>\n",
       "      <th>paymentAmount</th>\n",
       "    </tr>\n",
       "  </thead>\n",
       "  <tbody>\n",
       "    <tr>\n",
       "      <th>8</th>\n",
       "      <td>412</td>\n",
       "      <td>NaN</td>\n",
       "      <td>2009-03-29 22:00:00+00:00</td>\n",
       "      <td>NaN</td>\n",
       "      <td>NaN</td>\n",
       "      <td>498.958333</td>\n",
       "      <td>NaN</td>\n",
       "      <td>NaN</td>\n",
       "      <td>Send for Credit Collection</td>\n",
       "      <td>NaN</td>\n",
       "      <td>654.0</td>\n",
       "      <td>NaN</td>\n",
       "      <td>complete</td>\n",
       "      <td>A13617</td>\n",
       "      <td>NaN</td>\n",
       "      <td>NaN</td>\n",
       "      <td>NaN</td>\n",
       "      <td>NaN</td>\n",
       "      <td>NaN</td>\n",
       "    </tr>\n",
       "    <tr>\n",
       "      <th>17</th>\n",
       "      <td>475</td>\n",
       "      <td>NaN</td>\n",
       "      <td>2010-10-14 22:00:00+00:00</td>\n",
       "      <td>NaN</td>\n",
       "      <td>NaN</td>\n",
       "      <td>819.000000</td>\n",
       "      <td>NaN</td>\n",
       "      <td>NaN</td>\n",
       "      <td>Send for Credit Collection</td>\n",
       "      <td>NaN</td>\n",
       "      <td>1137.0</td>\n",
       "      <td>NaN</td>\n",
       "      <td>complete</td>\n",
       "      <td>A14652</td>\n",
       "      <td>NaN</td>\n",
       "      <td>NaN</td>\n",
       "      <td>NaN</td>\n",
       "      <td>NaN</td>\n",
       "      <td>NaN</td>\n",
       "    </tr>\n",
       "    <tr>\n",
       "      <th>26</th>\n",
       "      <td>502</td>\n",
       "      <td>NaN</td>\n",
       "      <td>2009-03-29 22:00:00+00:00</td>\n",
       "      <td>NaN</td>\n",
       "      <td>NaN</td>\n",
       "      <td>507.958333</td>\n",
       "      <td>NaN</td>\n",
       "      <td>NaN</td>\n",
       "      <td>Send for Credit Collection</td>\n",
       "      <td>NaN</td>\n",
       "      <td>663.0</td>\n",
       "      <td>NaN</td>\n",
       "      <td>complete</td>\n",
       "      <td>A14910</td>\n",
       "      <td>NaN</td>\n",
       "      <td>NaN</td>\n",
       "      <td>NaN</td>\n",
       "      <td>NaN</td>\n",
       "      <td>NaN</td>\n",
       "    </tr>\n",
       "    <tr>\n",
       "      <th>32</th>\n",
       "      <td>529</td>\n",
       "      <td>NaN</td>\n",
       "      <td>2009-03-29 22:00:00+00:00</td>\n",
       "      <td>NaN</td>\n",
       "      <td>NaN</td>\n",
       "      <td>760.958333</td>\n",
       "      <td>NaN</td>\n",
       "      <td>NaN</td>\n",
       "      <td>Send for Credit Collection</td>\n",
       "      <td>NaN</td>\n",
       "      <td>960.0</td>\n",
       "      <td>NaN</td>\n",
       "      <td>complete</td>\n",
       "      <td>A1516</td>\n",
       "      <td>NaN</td>\n",
       "      <td>NaN</td>\n",
       "      <td>NaN</td>\n",
       "      <td>NaN</td>\n",
       "      <td>NaN</td>\n",
       "    </tr>\n",
       "    <tr>\n",
       "      <th>38</th>\n",
       "      <td>556</td>\n",
       "      <td>NaN</td>\n",
       "      <td>2010-10-14 22:00:00+00:00</td>\n",
       "      <td>NaN</td>\n",
       "      <td>NaN</td>\n",
       "      <td>953.958333</td>\n",
       "      <td>NaN</td>\n",
       "      <td>NaN</td>\n",
       "      <td>Send for Credit Collection</td>\n",
       "      <td>NaN</td>\n",
       "      <td>1140.0</td>\n",
       "      <td>NaN</td>\n",
       "      <td>complete</td>\n",
       "      <td>A15307</td>\n",
       "      <td>NaN</td>\n",
       "      <td>NaN</td>\n",
       "      <td>NaN</td>\n",
       "      <td>NaN</td>\n",
       "      <td>NaN</td>\n",
       "    </tr>\n",
       "  </tbody>\n",
       "</table>\n",
       "</div>"
      ],
      "text/plain": [
       "   concept:instance  amount            time:timestamp  article  points  \\\n",
       "8               412     NaN 2009-03-29 22:00:00+00:00      NaN     NaN   \n",
       "17              475     NaN 2010-10-14 22:00:00+00:00      NaN     NaN   \n",
       "26              502     NaN 2009-03-29 22:00:00+00:00      NaN     NaN   \n",
       "32              529     NaN 2009-03-29 22:00:00+00:00      NaN     NaN   \n",
       "38              556     NaN 2010-10-14 22:00:00+00:00      NaN     NaN   \n",
       "\n",
       "      duration org:resource dismissal                concept:name  \\\n",
       "8   498.958333          NaN       NaN  Send for Credit Collection   \n",
       "17  819.000000          NaN       NaN  Send for Credit Collection   \n",
       "26  507.958333          NaN       NaN  Send for Credit Collection   \n",
       "32  760.958333          NaN       NaN  Send for Credit Collection   \n",
       "38  953.958333          NaN       NaN  Send for Credit Collection   \n",
       "\n",
       "   vehicleClass  case_duration  totalPaymentAmount lifecycle:transition  \\\n",
       "8           NaN          654.0                 NaN             complete   \n",
       "17          NaN         1137.0                 NaN             complete   \n",
       "26          NaN          663.0                 NaN             complete   \n",
       "32          NaN          960.0                 NaN             complete   \n",
       "38          NaN         1140.0                 NaN             complete   \n",
       "\n",
       "   case:concept:name  expense notificationType lastSent  matricola  \\\n",
       "8             A13617      NaN              NaN      NaN        NaN   \n",
       "17            A14652      NaN              NaN      NaN        NaN   \n",
       "26            A14910      NaN              NaN      NaN        NaN   \n",
       "32             A1516      NaN              NaN      NaN        NaN   \n",
       "38            A15307      NaN              NaN      NaN        NaN   \n",
       "\n",
       "    paymentAmount  \n",
       "8             NaN  \n",
       "17            NaN  \n",
       "26            NaN  \n",
       "32            NaN  \n",
       "38            NaN  "
      ]
     },
     "execution_count": 33,
     "metadata": {},
     "output_type": "execute_result"
    }
   ],
   "source": [
    "# only keep send for credit collection events\n",
    "filtered_df = credit_df[credit_df[\"concept:name\"] == \"Send for Credit Collection\"]\n",
    "\n",
    "filtered_df.head()\n"
   ]
  },
  {
   "cell_type": "code",
   "execution_count": 34,
   "metadata": {},
   "outputs": [
    {
     "data": {
      "text/html": [
       "<div>\n",
       "<style scoped>\n",
       "    .dataframe tbody tr th:only-of-type {\n",
       "        vertical-align: middle;\n",
       "    }\n",
       "\n",
       "    .dataframe tbody tr th {\n",
       "        vertical-align: top;\n",
       "    }\n",
       "\n",
       "    .dataframe thead th {\n",
       "        text-align: right;\n",
       "    }\n",
       "</style>\n",
       "<table border=\"1\" class=\"dataframe\">\n",
       "  <thead>\n",
       "    <tr style=\"text-align: right;\">\n",
       "      <th></th>\n",
       "      <th>duration</th>\n",
       "    </tr>\n",
       "  </thead>\n",
       "  <tbody>\n",
       "    <tr>\n",
       "      <th>count</th>\n",
       "      <td>412.000000</td>\n",
       "    </tr>\n",
       "    <tr>\n",
       "      <th>mean</th>\n",
       "      <td>690.893811</td>\n",
       "    </tr>\n",
       "    <tr>\n",
       "      <th>std</th>\n",
       "      <td>268.384542</td>\n",
       "    </tr>\n",
       "    <tr>\n",
       "      <th>min</th>\n",
       "      <td>39.000000</td>\n",
       "    </tr>\n",
       "    <tr>\n",
       "      <th>25%</th>\n",
       "      <td>502.958333</td>\n",
       "    </tr>\n",
       "    <tr>\n",
       "      <th>50%</th>\n",
       "      <td>643.000000</td>\n",
       "    </tr>\n",
       "    <tr>\n",
       "      <th>75%</th>\n",
       "      <td>838.000000</td>\n",
       "    </tr>\n",
       "    <tr>\n",
       "      <th>max</th>\n",
       "      <td>1594.958333</td>\n",
       "    </tr>\n",
       "  </tbody>\n",
       "</table>\n",
       "</div>"
      ],
      "text/plain": [
       "          duration\n",
       "count   412.000000\n",
       "mean    690.893811\n",
       "std     268.384542\n",
       "min      39.000000\n",
       "25%     502.958333\n",
       "50%     643.000000\n",
       "75%     838.000000\n",
       "max    1594.958333"
      ]
     },
     "execution_count": 34,
     "metadata": {},
     "output_type": "execute_result"
    }
   ],
   "source": [
    "#compute stats for the event duration\n",
    "filtered_df[[\"duration\"]].describe()\n"
   ]
  },
  {
   "cell_type": "code",
   "execution_count": 109,
   "metadata": {},
   "outputs": [],
   "source": [
    "#check what influence it has when there are two credit collections per year\n",
    "\n",
    "def perform_credit_collection_at(dates, minimum_wait):\n",
    "    new_durations = []\n",
    "    for index, row in filtered_df.iterrows():\n",
    "        timestamp = row[\"time:timestamp\"]\n",
    "        duration = row[\"duration\"]\n",
    "        minimum = duration\n",
    "        \n",
    "        timestamp = timestamp + pd.DateOffset(days=-duration)\n",
    "    \n",
    "        for date in dates:\n",
    "            delta = (date - timestamp.astimezone(None)).days\n",
    "\n",
    "            if delta < minimum_wait:\n",
    "                continue\n",
    "        \n",
    "            if abs(delta) < minimum:\n",
    "                minimum = abs(delta)\n",
    "\n",
    "        new_durations.append(minimum)\n",
    "    \n",
    "    print(np.mean(new_durations))\n",
    "    "
   ]
  },
  {
   "cell_type": "code",
   "execution_count": 120,
   "metadata": {},
   "outputs": [
    {
     "name": "stdout",
     "output_type": "stream",
     "text": [
      "186.47825647249192\n"
     ]
    }
   ],
   "source": [
    "#check impact of yearly cycle\n",
    "yearly_dates = [pd.Timestamp(2000, 1, 1, 0),\n",
    "pd.Timestamp(2001, 1, 1, 0),\n",
    "pd.Timestamp(2002, 1, 1, 0),\n",
    "pd.Timestamp(2003, 1, 1, 0),\n",
    "pd.Timestamp(2004, 1, 1, 0),\n",
    "pd.Timestamp(2005, 1, 1, 0),\n",
    "pd.Timestamp(2006, 1, 1, 0),\n",
    "pd.Timestamp(2007, 1, 1, 0),\n",
    "pd.Timestamp(2008, 1, 1, 0),\n",
    "pd.Timestamp(2009, 1, 1, 0),\n",
    "pd.Timestamp(2010, 1, 1, 0),\n",
    "pd.Timestamp(2011, 1, 1, 0),\n",
    "pd.Timestamp(2012, 1, 1, 0),\n",
    "pd.Timestamp(2013, 1, 1, 0),\n",
    "pd.Timestamp(2014, 1, 1, 0)]\n",
    "\n",
    "perform_credit_collection_at(yearly_dates, 0)"
   ]
  },
  {
   "cell_type": "code",
   "execution_count": 114,
   "metadata": {},
   "outputs": [
    {
     "name": "stdout",
     "output_type": "stream",
     "text": [
      "95.1626213592233\n"
     ]
    }
   ],
   "source": [
    "#check impact of half-yearly cycle\n",
    "half_yearly_dates = [pd.Timestamp(2000, 1, 1, 0),\n",
    "pd.Timestamp(2000, 6, 1, 0),\n",
    "pd.Timestamp(2001, 1, 1, 0),\n",
    "pd.Timestamp(2001, 6, 1, 0),\n",
    "pd.Timestamp(2002, 1, 1, 0),\n",
    "pd.Timestamp(2002, 6, 1, 0),\n",
    "pd.Timestamp(2003, 1, 1, 0),\n",
    "pd.Timestamp(2003, 6, 1, 0),\n",
    "pd.Timestamp(2004, 1, 1, 0),\n",
    "pd.Timestamp(2004, 6, 1, 0),\n",
    "pd.Timestamp(2005, 1, 1, 0),\n",
    "pd.Timestamp(2005, 6, 1, 0),\n",
    "pd.Timestamp(2006, 1, 1, 0),\n",
    "pd.Timestamp(2006, 6, 1, 0),\n",
    "pd.Timestamp(2007, 1, 1, 0),\n",
    "pd.Timestamp(2007, 6, 1, 0),\n",
    "pd.Timestamp(2008, 1, 1, 0),\n",
    "pd.Timestamp(2008, 6, 1, 0),\n",
    "pd.Timestamp(2009, 1, 1, 0),\n",
    "pd.Timestamp(2009, 6, 1, 0),\n",
    "pd.Timestamp(2010, 1, 1, 0),\n",
    "pd.Timestamp(2010, 6, 1, 0),\n",
    "pd.Timestamp(2011, 1, 1, 0),\n",
    "pd.Timestamp(2011, 6, 1, 0),\n",
    "pd.Timestamp(2012, 1, 1, 0),\n",
    "pd.Timestamp(2012, 6, 1, 0),\n",
    "pd.Timestamp(2013, 1, 1, 0),\n",
    "pd.Timestamp(2013, 6, 1, 0),\n",
    "pd.Timestamp(2014, 1, 1, 0),\n",
    "pd.Timestamp(2014, 6, 1, 0)]\n",
    "\n",
    "perform_credit_collection_at(half_yearly_dates, 0)"
   ]
  },
  {
   "cell_type": "code",
   "execution_count": 122,
   "metadata": {},
   "outputs": [
    {
     "name": "stdout",
     "output_type": "stream",
     "text": [
      "351.6533171521036\n",
      "266.6019417475728\n"
     ]
    }
   ],
   "source": [
    "#in a last check we perform a half-yearly cycle that has a minimum waiting time of 1 year\n",
    "\n",
    "perform_credit_collection_at(yearly_dates, 180)\n",
    "\n",
    "perform_credit_collection_at(half_yearly_dates, 180)\n"
   ]
  },
  {
   "cell_type": "code",
   "execution_count": 123,
   "metadata": {},
   "outputs": [
    {
     "name": "stdout",
     "output_type": "stream",
     "text": [
      "502.1695995145631\n",
      "440.87115695792886\n"
     ]
    }
   ],
   "source": [
    "#in a last check we perform a half-yearly cycle that has a minimum waiting time of 1/2 year\n",
    "\n",
    "perform_credit_collection_at(yearly_dates, 365)\n",
    "\n",
    "perform_credit_collection_at(half_yearly_dates, 365)\n"
   ]
  },
  {
   "cell_type": "code",
   "execution_count": 130,
   "metadata": {},
   "outputs": [
    {
     "data": {
      "text/html": [
       "<div>\n",
       "<style scoped>\n",
       "    .dataframe tbody tr th:only-of-type {\n",
       "        vertical-align: middle;\n",
       "    }\n",
       "\n",
       "    .dataframe tbody tr th {\n",
       "        vertical-align: top;\n",
       "    }\n",
       "\n",
       "    .dataframe thead th {\n",
       "        text-align: right;\n",
       "    }\n",
       "</style>\n",
       "<table border=\"1\" class=\"dataframe\">\n",
       "  <thead>\n",
       "    <tr style=\"text-align: right;\">\n",
       "      <th></th>\n",
       "      <th>event_duration</th>\n",
       "    </tr>\n",
       "  </thead>\n",
       "  <tbody>\n",
       "    <tr>\n",
       "      <th>count</th>\n",
       "      <td>4141.000000</td>\n",
       "    </tr>\n",
       "    <tr>\n",
       "      <th>mean</th>\n",
       "      <td>203.530045</td>\n",
       "    </tr>\n",
       "    <tr>\n",
       "      <th>std</th>\n",
       "      <td>559.544717</td>\n",
       "    </tr>\n",
       "    <tr>\n",
       "      <th>min</th>\n",
       "      <td>0.000000</td>\n",
       "    </tr>\n",
       "    <tr>\n",
       "      <th>25%</th>\n",
       "      <td>9.000000</td>\n",
       "    </tr>\n",
       "    <tr>\n",
       "      <th>50%</th>\n",
       "      <td>24.000000</td>\n",
       "    </tr>\n",
       "    <tr>\n",
       "      <th>75%</th>\n",
       "      <td>44.000000</td>\n",
       "    </tr>\n",
       "    <tr>\n",
       "      <th>max</th>\n",
       "      <td>4221.041667</td>\n",
       "    </tr>\n",
       "  </tbody>\n",
       "</table>\n",
       "</div>"
      ],
      "text/plain": [
       "       event_duration\n",
       "count     4141.000000\n",
       "mean       203.530045\n",
       "std        559.544717\n",
       "min          0.000000\n",
       "25%          9.000000\n",
       "50%         24.000000\n",
       "75%         44.000000\n",
       "max       4221.041667"
      ]
     },
     "execution_count": 130,
     "metadata": {},
     "output_type": "execute_result"
    }
   ],
   "source": [
    "#calculate mean waiting time for the send appeal event\n",
    "send_appeal_df = appeals_df[appeals_df[\"concept:name\"] == \"Send Appeal to Prefecture\"]\n",
    "\n",
    "send_appeal_df[[\"event_duration\"]].describe()\n"
   ]
  },
  {
   "cell_type": "code",
   "execution_count": 132,
   "metadata": {},
   "outputs": [
    {
     "data": {
      "text/html": [
       "<div>\n",
       "<style scoped>\n",
       "    .dataframe tbody tr th:only-of-type {\n",
       "        vertical-align: middle;\n",
       "    }\n",
       "\n",
       "    .dataframe tbody tr th {\n",
       "        vertical-align: top;\n",
       "    }\n",
       "\n",
       "    .dataframe thead th {\n",
       "        text-align: right;\n",
       "    }\n",
       "</style>\n",
       "<table border=\"1\" class=\"dataframe\">\n",
       "  <thead>\n",
       "    <tr style=\"text-align: right;\">\n",
       "      <th></th>\n",
       "      <th>event_duration</th>\n",
       "    </tr>\n",
       "  </thead>\n",
       "  <tbody>\n",
       "    <tr>\n",
       "      <th>count</th>\n",
       "      <td>863.000000</td>\n",
       "    </tr>\n",
       "    <tr>\n",
       "      <th>mean</th>\n",
       "      <td>32.393299</td>\n",
       "    </tr>\n",
       "    <tr>\n",
       "      <th>std</th>\n",
       "      <td>36.826151</td>\n",
       "    </tr>\n",
       "    <tr>\n",
       "      <th>min</th>\n",
       "      <td>0.000000</td>\n",
       "    </tr>\n",
       "    <tr>\n",
       "      <th>25%</th>\n",
       "      <td>7.000000</td>\n",
       "    </tr>\n",
       "    <tr>\n",
       "      <th>50%</th>\n",
       "      <td>14.000000</td>\n",
       "    </tr>\n",
       "    <tr>\n",
       "      <th>75%</th>\n",
       "      <td>47.979167</td>\n",
       "    </tr>\n",
       "    <tr>\n",
       "      <th>max</th>\n",
       "      <td>193.958333</td>\n",
       "    </tr>\n",
       "  </tbody>\n",
       "</table>\n",
       "</div>"
      ],
      "text/plain": [
       "       event_duration\n",
       "count      863.000000\n",
       "mean        32.393299\n",
       "std         36.826151\n",
       "min          0.000000\n",
       "25%          7.000000\n",
       "50%         14.000000\n",
       "75%         47.979167\n",
       "max        193.958333"
      ]
     },
     "execution_count": 132,
     "metadata": {},
     "output_type": "execute_result"
    }
   ],
   "source": [
    "#calculate mean waiting time for the send appeal event\n",
    "notify_appeal_df = appeals_df[appeals_df[\"concept:name\"] == \"Notify Result Appeal to Offender\"]\n",
    "\n",
    "notify_appeal_df[[\"event_duration\"]].describe()"
   ]
  },
  {
   "cell_type": "markdown",
   "metadata": {},
   "source": [
    "---\n",
    "b)"
   ]
  },
  {
   "cell_type": "code",
   "execution_count": 6,
   "metadata": {},
   "outputs": [],
   "source": [
    "parameters = {pn_visualizer.Variants.PERFORMANCE.value.Parameters.FORMAT: \"png\"}\n",
    "\n",
    "no_appeals_performance_viz = pn_visualizer.apply(no_appeals_net, no_appeals_initial_marking, no_appeals_final_marking, parameters=parameters, variant=pn_visualizer.Variants.PERFORMANCE, log=no_appeals_log)\n",
    "pn_visualizer.save(no_appeals_performance_viz, \"no_appeals_performance.png\")\n"
   ]
  },
  {
   "cell_type": "code",
   "execution_count": 7,
   "metadata": {},
   "outputs": [],
   "source": [
    "appeals_performance_viz = pn_visualizer.apply(appeals_net, appeals_initial_marking, appeals_final_marking, parameters=parameters, variant=pn_visualizer.Variants.PERFORMANCE, log=appeals_log)\n",
    "pn_visualizer.save(appeals_performance_viz, \"appeals_performance.png\")\n"
   ]
  },
  {
   "cell_type": "raw",
   "metadata": {},
   "source": []
  }
 ],
 "metadata": {
  "kernelspec": {
   "display_name": "Python 3",
   "language": "python",
   "name": "python3"
  },
  "language_info": {
   "codemirror_mode": {
    "name": "ipython",
    "version": 3
   },
   "file_extension": ".py",
   "mimetype": "text/x-python",
   "name": "python",
   "nbconvert_exporter": "python",
   "pygments_lexer": "ipython3",
   "version": "3.6.3"
  }
 },
 "nbformat": 4,
 "nbformat_minor": 2
}
