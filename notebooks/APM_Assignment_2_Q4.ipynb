{
 "cells": [
  {
   "cell_type": "code",
   "execution_count": 1,
   "metadata": {
    "ExecuteTime": {
     "end_time": "2020-06-18T10:10:38.412193Z",
     "start_time": "2020-06-18T10:10:17.864618Z"
    }
   },
   "outputs": [],
   "source": [
    "from pm4py.objects.log.importer.xes import importer as xes_importer\n",
    "from pm4py.objects.petri.importer import importer as pnml_importer\n",
    "from pm4py.visualization.petrinet import visualizer as pn_visualizer\n"
   ]
  },
  {
   "cell_type": "markdown",
   "metadata": {},
   "source": [
    "# Q4\n",
    "\n",
    "### Import"
   ]
  },
  {
   "cell_type": "code",
   "execution_count": 2,
   "metadata": {},
   "outputs": [
    {
     "data": {
      "application/vnd.jupyter.widget-view+json": {
       "model_id": "1fd19fd7bbf447efaf270890350afd1f",
       "version_major": 2,
       "version_minor": 0
      },
      "text/plain": [
       "HBox(children=(IntProgress(value=0, description='parsing log, completed traces :: ', max=145822, style=Progres…"
      ]
     },
     "metadata": {},
     "output_type": "display_data"
    },
    {
     "name": "stdout",
     "output_type": "stream",
     "text": [
      "\n"
     ]
    }
   ],
   "source": [
    "no_appeals_log = xes_importer.apply(\"../../FMP_no_appeals_cleaned.xes\")\n",
    "\n",
    "no_appeals_net, no_appeals_initial_marking, no_appeals_final_marking = pnml_importer.apply(\"../results/im_no_appeals.pnml\")\n"
   ]
  },
  {
   "cell_type": "code",
   "execution_count": 3,
   "metadata": {},
   "outputs": [
    {
     "data": {
      "application/vnd.jupyter.widget-view+json": {
       "model_id": "47d45b145eb940ff99f5c379c9d28e95",
       "version_major": 2,
       "version_minor": 0
      },
      "text/plain": [
       "HBox(children=(IntProgress(value=0, description='parsing log, completed traces :: ', max=4513, style=ProgressS…"
      ]
     },
     "metadata": {},
     "output_type": "display_data"
    },
    {
     "name": "stdout",
     "output_type": "stream",
     "text": [
      "\n"
     ]
    }
   ],
   "source": [
    "appeals_log = xes_importer.apply(\"../../FMP_appeals.xes\")\n",
    "\n",
    "appeals_net, appeals_initial_marking, appeals_final_marking = pnml_importer.apply(\"../results/im_appeals.pnml\")\n"
   ]
  },
  {
   "cell_type": "code",
   "execution_count": 6,
   "metadata": {},
   "outputs": [],
   "source": [
    "parameters = {pn_visualizer.Variants.PERFORMANCE.value.Parameters.FORMAT: \"png\"}\n",
    "\n",
    "no_appeals_performance_viz = pn_visualizer.apply(no_appeals_net, no_appeals_initial_marking, no_appeals_final_marking, parameters=parameters, variant=pn_visualizer.Variants.PERFORMANCE, log=no_appeals_log)\n",
    "pn_visualizer.save(no_appeals_performance_viz, \"no_appeals_performance.png\")\n"
   ]
  },
  {
   "cell_type": "code",
   "execution_count": 7,
   "metadata": {},
   "outputs": [],
   "source": [
    "appeals_performance_viz = pn_visualizer.apply(appeals_net, appeals_initial_marking, appeals_final_marking, parameters=parameters, variant=pn_visualizer.Variants.PERFORMANCE, log=appeals_log)\n",
    "pn_visualizer.save(appeals_performance_viz, \"appeals_performance.png\")\n"
   ]
  },
  {
   "cell_type": "code",
   "execution_count": null,
   "metadata": {},
   "outputs": [],
   "source": []
  }
 ],
 "metadata": {
  "kernelspec": {
   "display_name": "Python 3",
   "language": "python",
   "name": "python3"
  },
  "language_info": {
   "codemirror_mode": {
    "name": "ipython",
    "version": 3
   },
   "file_extension": ".py",
   "mimetype": "text/x-python",
   "name": "python",
   "nbconvert_exporter": "python",
   "pygments_lexer": "ipython3",
   "version": "3.6.3"
  }
 },
 "nbformat": 4,
 "nbformat_minor": 2
}
