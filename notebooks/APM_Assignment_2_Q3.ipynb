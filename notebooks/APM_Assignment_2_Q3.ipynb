{
 "cells": [
  {
   "cell_type": "code",
   "execution_count": 173,
   "metadata": {
    "ExecuteTime": {
     "end_time": "2020-07-17T18:00:12.568225Z",
     "start_time": "2020-07-17T18:00:12.536949Z"
    }
   },
   "outputs": [],
   "source": [
    "import numpy as np\n",
    "import pandas as pd\n",
    "import math\n",
    "import matplotlib.pyplot as plt\n",
    "\n",
    "from pm4py.objects.log.importer.xes import importer as xes_importer\n",
    "from pm4py.objects.conversion.log import converter as log_converter\n",
    "from pm4py.objects.log.exporter.xes import exporter as xes_exporter"
   ]
  },
  {
   "cell_type": "code",
   "execution_count": 6,
   "metadata": {
    "ExecuteTime": {
     "end_time": "2020-07-17T12:23:45.142224Z",
     "start_time": "2020-07-17T12:22:59.935329Z"
    }
   },
   "outputs": [],
   "source": [
    "log = xes_importer.apply('FMP_no_appeal.xes')"
   ]
  },
  {
   "cell_type": "code",
   "execution_count": 7,
   "metadata": {
    "ExecuteTime": {
     "end_time": "2020-07-17T12:23:52.564905Z",
     "start_time": "2020-07-17T12:23:45.144250Z"
    }
   },
   "outputs": [],
   "source": [
    "df = log_converter.apply(log, variant=log_converter.Variants.TO_DATA_FRAME)"
   ]
  },
  {
   "cell_type": "code",
   "execution_count": 8,
   "metadata": {
    "ExecuteTime": {
     "end_time": "2020-07-17T12:24:20.041581Z",
     "start_time": "2020-07-17T12:23:52.566929Z"
    }
   },
   "outputs": [],
   "source": [
    "traces = df.groupby('case:concept:name')['concept:name'].apply(np.asarray)"
   ]
  },
  {
   "cell_type": "code",
   "execution_count": 9,
   "metadata": {
    "ExecuteTime": {
     "end_time": "2020-07-17T12:24:55.639351Z",
     "start_time": "2020-07-17T12:24:20.041581Z"
    }
   },
   "outputs": [],
   "source": [
    "last_event = traces.apply(lambda x : x[-1])\n",
    "last_event.name = 'lastEvent'\n",
    "df = df.join(last_event,on='case:concept:name')\n",
    "\n",
    "starttime = df.groupby('case:concept:name')['time:timestamp'].min()\n",
    "starttime.name = 'starttime'\n",
    "df = df.join(starttime,on='case:concept:name')\n",
    "\n",
    "startamount = df.groupby('case:concept:name')['amount'].min()\n",
    "startamount.name = 'startamount'\n",
    "df = df.join(startamount,on='case:concept:name')\n",
    "\n",
    "has_penalty = traces.apply(lambda x : 'Add penalty' in x)\n",
    "has_penalty.name = 'has_penalty'\n",
    "df = df.join(has_penalty,on='case:concept:name')"
   ]
  },
  {
   "cell_type": "code",
   "execution_count": 10,
   "metadata": {
    "ExecuteTime": {
     "end_time": "2020-07-17T12:24:56.719200Z",
     "start_time": "2020-07-17T12:24:55.639351Z"
    }
   },
   "outputs": [
    {
     "data": {
      "text/plain": [
       "58601"
      ]
     },
     "execution_count": 10,
     "metadata": {},
     "output_type": "execute_result"
    }
   ],
   "source": [
    "number_cases = len(df['case:concept:name'].unique())\n",
    "number_credit_collections = len(df[df['lastEvent']=='Send for Credit Collection']['case:concept:name'].unique())\n",
    "df_no_collect = df[df['lastEvent']!='Send for Credit Collection']\n",
    "number_credit_collections"
   ]
  },
  {
   "cell_type": "code",
   "execution_count": 129,
   "metadata": {
    "ExecuteTime": {
     "end_time": "2020-07-17T16:26:22.388269Z",
     "start_time": "2020-07-17T16:26:20.064800Z"
    }
   },
   "outputs": [
    {
     "ename": "ValueError",
     "evalue": "columns overlap but no suffix specified: Index(['payed'], dtype='object')",
     "output_type": "error",
     "traceback": [
      "\u001b[1;31m---------------------------------------------------------------------------\u001b[0m",
      "\u001b[1;31mValueError\u001b[0m                                Traceback (most recent call last)",
      "\u001b[1;32m<ipython-input-129-435ca6a74da3>\u001b[0m in \u001b[0;36m<module>\u001b[1;34m\u001b[0m\n\u001b[0;32m      8\u001b[0m \u001b[1;33m\u001b[0m\u001b[0m\n\u001b[0;32m      9\u001b[0m \u001b[0mpayed\u001b[0m\u001b[1;33m.\u001b[0m\u001b[0mname\u001b[0m \u001b[1;33m=\u001b[0m \u001b[1;34m'payed'\u001b[0m\u001b[1;33m\u001b[0m\u001b[1;33m\u001b[0m\u001b[0m\n\u001b[1;32m---> 10\u001b[1;33m \u001b[0mdf\u001b[0m \u001b[1;33m=\u001b[0m \u001b[0mdf\u001b[0m\u001b[1;33m.\u001b[0m\u001b[0mjoin\u001b[0m\u001b[1;33m(\u001b[0m\u001b[0mpayed\u001b[0m\u001b[1;33m,\u001b[0m\u001b[0mon\u001b[0m\u001b[1;33m=\u001b[0m\u001b[1;34m'case:concept:name'\u001b[0m\u001b[1;33m)\u001b[0m\u001b[1;33m\u001b[0m\u001b[1;33m\u001b[0m\u001b[0m\n\u001b[0m\u001b[0;32m     11\u001b[0m \u001b[1;33m\u001b[0m\u001b[0m\n\u001b[0;32m     12\u001b[0m \u001b[0mbalance\u001b[0m\u001b[1;33m.\u001b[0m\u001b[0mname\u001b[0m \u001b[1;33m=\u001b[0m \u001b[1;34m'balance'\u001b[0m\u001b[1;33m\u001b[0m\u001b[1;33m\u001b[0m\u001b[0m\n",
      "\u001b[1;32m~\\AppData\\Roaming\\Python\\Python36\\site-packages\\pandas\\core\\frame.py\u001b[0m in \u001b[0;36mjoin\u001b[1;34m(self, other, on, how, lsuffix, rsuffix, sort)\u001b[0m\n\u001b[0;32m   7207\u001b[0m         \"\"\"\n\u001b[0;32m   7208\u001b[0m         return self._join_compat(\n\u001b[1;32m-> 7209\u001b[1;33m             \u001b[0mother\u001b[0m\u001b[1;33m,\u001b[0m \u001b[0mon\u001b[0m\u001b[1;33m=\u001b[0m\u001b[0mon\u001b[0m\u001b[1;33m,\u001b[0m \u001b[0mhow\u001b[0m\u001b[1;33m=\u001b[0m\u001b[0mhow\u001b[0m\u001b[1;33m,\u001b[0m \u001b[0mlsuffix\u001b[0m\u001b[1;33m=\u001b[0m\u001b[0mlsuffix\u001b[0m\u001b[1;33m,\u001b[0m \u001b[0mrsuffix\u001b[0m\u001b[1;33m=\u001b[0m\u001b[0mrsuffix\u001b[0m\u001b[1;33m,\u001b[0m \u001b[0msort\u001b[0m\u001b[1;33m=\u001b[0m\u001b[0msort\u001b[0m\u001b[1;33m\u001b[0m\u001b[1;33m\u001b[0m\u001b[0m\n\u001b[0m\u001b[0;32m   7210\u001b[0m         )\n\u001b[0;32m   7211\u001b[0m \u001b[1;33m\u001b[0m\u001b[0m\n",
      "\u001b[1;32m~\\AppData\\Roaming\\Python\\Python36\\site-packages\\pandas\\core\\frame.py\u001b[0m in \u001b[0;36m_join_compat\u001b[1;34m(self, other, on, how, lsuffix, rsuffix, sort)\u001b[0m\n\u001b[0;32m   7230\u001b[0m                 \u001b[0mright_index\u001b[0m\u001b[1;33m=\u001b[0m\u001b[1;32mTrue\u001b[0m\u001b[1;33m,\u001b[0m\u001b[1;33m\u001b[0m\u001b[1;33m\u001b[0m\u001b[0m\n\u001b[0;32m   7231\u001b[0m                 \u001b[0msuffixes\u001b[0m\u001b[1;33m=\u001b[0m\u001b[1;33m(\u001b[0m\u001b[0mlsuffix\u001b[0m\u001b[1;33m,\u001b[0m \u001b[0mrsuffix\u001b[0m\u001b[1;33m)\u001b[0m\u001b[1;33m,\u001b[0m\u001b[1;33m\u001b[0m\u001b[1;33m\u001b[0m\u001b[0m\n\u001b[1;32m-> 7232\u001b[1;33m                 \u001b[0msort\u001b[0m\u001b[1;33m=\u001b[0m\u001b[0msort\u001b[0m\u001b[1;33m,\u001b[0m\u001b[1;33m\u001b[0m\u001b[1;33m\u001b[0m\u001b[0m\n\u001b[0m\u001b[0;32m   7233\u001b[0m             )\n\u001b[0;32m   7234\u001b[0m         \u001b[1;32melse\u001b[0m\u001b[1;33m:\u001b[0m\u001b[1;33m\u001b[0m\u001b[1;33m\u001b[0m\u001b[0m\n",
      "\u001b[1;32m~\\AppData\\Roaming\\Python\\Python36\\site-packages\\pandas\\core\\reshape\\merge.py\u001b[0m in \u001b[0;36mmerge\u001b[1;34m(left, right, how, on, left_on, right_on, left_index, right_index, sort, suffixes, copy, indicator, validate)\u001b[0m\n\u001b[0;32m     86\u001b[0m         \u001b[0mvalidate\u001b[0m\u001b[1;33m=\u001b[0m\u001b[0mvalidate\u001b[0m\u001b[1;33m,\u001b[0m\u001b[1;33m\u001b[0m\u001b[1;33m\u001b[0m\u001b[0m\n\u001b[0;32m     87\u001b[0m     )\n\u001b[1;32m---> 88\u001b[1;33m     \u001b[1;32mreturn\u001b[0m \u001b[0mop\u001b[0m\u001b[1;33m.\u001b[0m\u001b[0mget_result\u001b[0m\u001b[1;33m(\u001b[0m\u001b[1;33m)\u001b[0m\u001b[1;33m\u001b[0m\u001b[1;33m\u001b[0m\u001b[0m\n\u001b[0m\u001b[0;32m     89\u001b[0m \u001b[1;33m\u001b[0m\u001b[0m\n\u001b[0;32m     90\u001b[0m \u001b[1;33m\u001b[0m\u001b[0m\n",
      "\u001b[1;32m~\\AppData\\Roaming\\Python\\Python36\\site-packages\\pandas\\core\\reshape\\merge.py\u001b[0m in \u001b[0;36mget_result\u001b[1;34m(self)\u001b[0m\n\u001b[0;32m    647\u001b[0m \u001b[1;33m\u001b[0m\u001b[0m\n\u001b[0;32m    648\u001b[0m         llabels, rlabels = _items_overlap_with_suffix(\n\u001b[1;32m--> 649\u001b[1;33m             \u001b[0mldata\u001b[0m\u001b[1;33m.\u001b[0m\u001b[0mitems\u001b[0m\u001b[1;33m,\u001b[0m \u001b[0mlsuf\u001b[0m\u001b[1;33m,\u001b[0m \u001b[0mrdata\u001b[0m\u001b[1;33m.\u001b[0m\u001b[0mitems\u001b[0m\u001b[1;33m,\u001b[0m \u001b[0mrsuf\u001b[0m\u001b[1;33m\u001b[0m\u001b[1;33m\u001b[0m\u001b[0m\n\u001b[0m\u001b[0;32m    650\u001b[0m         )\n\u001b[0;32m    651\u001b[0m \u001b[1;33m\u001b[0m\u001b[0m\n",
      "\u001b[1;32m~\\AppData\\Roaming\\Python\\Python36\\site-packages\\pandas\\core\\reshape\\merge.py\u001b[0m in \u001b[0;36m_items_overlap_with_suffix\u001b[1;34m(left, lsuffix, right, rsuffix)\u001b[0m\n\u001b[0;32m   2024\u001b[0m         raise ValueError(\n\u001b[0;32m   2025\u001b[0m             \u001b[1;34m\"columns overlap but no suffix specified: \"\u001b[0m\u001b[1;33m\u001b[0m\u001b[1;33m\u001b[0m\u001b[0m\n\u001b[1;32m-> 2026\u001b[1;33m             \u001b[1;34m\"{rename}\"\u001b[0m\u001b[1;33m.\u001b[0m\u001b[0mformat\u001b[0m\u001b[1;33m(\u001b[0m\u001b[0mrename\u001b[0m\u001b[1;33m=\u001b[0m\u001b[0mto_rename\u001b[0m\u001b[1;33m)\u001b[0m\u001b[1;33m\u001b[0m\u001b[1;33m\u001b[0m\u001b[0m\n\u001b[0m\u001b[0;32m   2027\u001b[0m         )\n\u001b[0;32m   2028\u001b[0m \u001b[1;33m\u001b[0m\u001b[0m\n",
      "\u001b[1;31mValueError\u001b[0m: columns overlap but no suffix specified: Index(['payed'], dtype='object')"
     ]
    }
   ],
   "source": [
    "toPay = (df_no_collect.groupby('case:concept:name')['amount'].max() +\n",
    "         df_no_collect.groupby('case:concept:name')['expense'].sum())\n",
    "payed = df_no_collect.groupby('case:concept:name')['totalPaymentAmount'].max()\n",
    "balance = toPay - payed\n",
    "\n",
    "toPay.name = 'toPay'\n",
    "df = df.join(toPay,on='case:concept:name')\n",
    "\n",
    "payed.name = 'payed'\n",
    "df = df.join(payed,on='case:concept:name')\n",
    "\n",
    "balance.name = 'balance'\n",
    "df = df.join(balance,on='case:concept:name')"
   ]
  },
  {
   "cell_type": "code",
   "execution_count": 36,
   "metadata": {
    "ExecuteTime": {
     "end_time": "2020-07-17T12:58:07.382067Z",
     "start_time": "2020-07-17T12:58:07.350809Z"
    }
   },
   "outputs": [],
   "source": [
    "def eval_payment(x):\n",
    "    \n",
    "    if x['lastEvent'] == 'Send for Credit Collection':\n",
    "        return 'exact'\n",
    "    \n",
    "    if int(x['balance']) == 0:\n",
    "        return 'exact'\n",
    "    \n",
    "    if x['balance'] < 0:\n",
    "        return 'over'\n",
    "    \n",
    "    if x['payed'] == 0:\n",
    "        return 'no'\n",
    "    \n",
    "    if x['balance'] > 0 and x['payed'] > 0:\n",
    "        return 'some'"
   ]
  },
  {
   "cell_type": "code",
   "execution_count": 39,
   "metadata": {
    "ExecuteTime": {
     "end_time": "2020-07-17T12:59:50.427090Z",
     "start_time": "2020-07-17T12:59:08.552123Z"
    }
   },
   "outputs": [],
   "source": [
    "df['outcome'] = df[['lastEvent', 'balance', 'payed']].apply(lambda x : eval_payment(x), axis=1)"
   ]
  },
  {
   "cell_type": "code",
   "execution_count": 84,
   "metadata": {
    "ExecuteTime": {
     "end_time": "2020-07-17T13:45:39.763023Z",
     "start_time": "2020-07-17T13:45:18.171418Z"
    }
   },
   "outputs": [
    {
     "name": "stdout",
     "output_type": "stream",
     "text": [
      "True\n",
      "0.8102662196534962\n",
      "0.005443687995776685\n",
      "0.139794456213963\n",
      "0.04449563613676409\n",
      "1438950.6\n",
      "1459775.5\n"
     ]
    }
   ],
   "source": [
    "\n",
    "exact_payment = len(df[df['outcome']=='exact'].groupby('case:concept:name')) / number_cases\n",
    "\n",
    "over_payment = len(df[df['outcome']=='over'].groupby('case:concept:name')) / number_cases\n",
    "\n",
    "no_payment = len(df[df['outcome']=='no'].groupby('case:concept:name')) / number_cases\n",
    "\n",
    "some_payment = len(df[df['outcome']=='some'].groupby('case:concept:name')) / number_cases\n",
    "\n",
    "total_deficit = balance.sum()\n",
    "\n",
    "total_deficit_cleaned = balance[balance>0].sum()\n",
    "\n",
    "#sanity_check:\n",
    "print(exact_payment + over_payment + no_payment + some_payment == 1)\n",
    "\n",
    "print(exact_payment)\n",
    "print(over_payment)\n",
    "print(no_payment)\n",
    "print(some_payment)\n",
    "print(total_deficit)\n",
    "print(total_deficit_cleaned)"
   ]
  },
  {
   "cell_type": "code",
   "execution_count": 9,
   "metadata": {
    "ExecuteTime": {
     "end_time": "2020-07-14T14:39:40.480317Z",
     "start_time": "2020-07-14T14:39:40.345332Z"
    }
   },
   "outputs": [
    {
     "data": {
      "text/plain": [
       "array(['Send Fine'], dtype=object)"
      ]
     },
     "execution_count": 9,
     "metadata": {},
     "output_type": "execute_result"
    }
   ],
   "source": [
    "df[df['expense']>0]['concept:name'].unique()"
   ]
  },
  {
   "cell_type": "code",
   "execution_count": 10,
   "metadata": {
    "ExecuteTime": {
     "end_time": "2020-07-14T14:39:40.579889Z",
     "start_time": "2020-07-14T14:39:40.484824Z"
    }
   },
   "outputs": [],
   "source": [
    "def count_activity(trace, activity):\n",
    "    i = 0\n",
    "    for event in trace:\n",
    "        if event == activity:\n",
    "            i += 1\n",
    "    return i"
   ]
  },
  {
   "cell_type": "code",
   "execution_count": 11,
   "metadata": {
    "ExecuteTime": {
     "end_time": "2020-07-14T14:39:41.349920Z",
     "start_time": "2020-07-14T14:39:40.579889Z"
    }
   },
   "outputs": [
    {
     "data": {
      "text/plain": [
       "99474"
      ]
     },
     "execution_count": 11,
     "metadata": {},
     "output_type": "execute_result"
    }
   ],
   "source": [
    "traces.apply(lambda x : count_activity(x, 'Send Fine')).sum()"
   ]
  },
  {
   "cell_type": "code",
   "execution_count": 12,
   "metadata": {
    "ExecuteTime": {
     "end_time": "2020-07-14T14:39:42.040289Z",
     "start_time": "2020-07-14T14:39:41.360025Z"
    }
   },
   "outputs": [
    {
     "data": {
      "text/plain": [
       "145857"
      ]
     },
     "execution_count": 12,
     "metadata": {},
     "output_type": "execute_result"
    }
   ],
   "source": [
    "len(traces.apply(lambda x : count_activity(x, 'Send Fine')))"
   ]
  },
  {
   "cell_type": "code",
   "execution_count": 13,
   "metadata": {
    "ExecuteTime": {
     "end_time": "2020-07-14T14:39:47.120243Z",
     "start_time": "2020-07-14T14:39:42.040289Z"
    }
   },
   "outputs": [
    {
     "name": "stderr",
     "output_type": "stream",
     "text": [
      "C:\\Users\\Sezin\\Anaconda3\\lib\\site-packages\\statsmodels\\tools\\_testing.py:19: FutureWarning: pandas.util.testing is deprecated. Use the functions in the public API at pandas.testing instead.\n",
      "  import pandas.util.testing as tm\n"
     ]
    },
    {
     "data": {
      "text/plain": [
       "<matplotlib.axes._subplots.AxesSubplot at 0x1ab82224d68>"
      ]
     },
     "execution_count": 13,
     "metadata": {},
     "output_type": "execute_result"
    }
   ],
   "source": [
    "import seaborn as sns\n",
    "sns.distplot(df[df['concept:name']=='Send Fine']['expense'], kde=False)"
   ]
  },
  {
   "cell_type": "code",
   "execution_count": 14,
   "metadata": {
    "ExecuteTime": {
     "end_time": "2020-07-14T14:39:47.400229Z",
     "start_time": "2020-07-14T14:39:47.120243Z"
    }
   },
   "outputs": [
    {
     "data": {
      "text/plain": [
       "array(['Create Fine', 'Add penalty'], dtype=object)"
      ]
     },
     "execution_count": 14,
     "metadata": {},
     "output_type": "execute_result"
    }
   ],
   "source": [
    "df[df['amount']>0]['concept:name'].unique()"
   ]
  },
  {
   "cell_type": "code",
   "execution_count": 15,
   "metadata": {
    "ExecuteTime": {
     "end_time": "2020-07-14T14:39:48.020040Z",
     "start_time": "2020-07-14T14:39:47.400229Z"
    }
   },
   "outputs": [
    {
     "data": {
      "text/plain": [
       "array([1], dtype=int64)"
      ]
     },
     "execution_count": 15,
     "metadata": {},
     "output_type": "execute_result"
    }
   ],
   "source": [
    "traces.apply(lambda x : count_activity(x, 'Create Fine')).unique()"
   ]
  },
  {
   "cell_type": "code",
   "execution_count": 16,
   "metadata": {
    "ExecuteTime": {
     "end_time": "2020-07-14T14:39:48.519946Z",
     "start_time": "2020-07-14T14:39:48.020040Z"
    }
   },
   "outputs": [
    {
     "data": {
      "text/plain": [
       "array([0, 1], dtype=int64)"
      ]
     },
     "execution_count": 16,
     "metadata": {},
     "output_type": "execute_result"
    }
   ],
   "source": [
    "traces.apply(lambda x : count_activity(x, 'Add penalty')).unique()"
   ]
  },
  {
   "cell_type": "code",
   "execution_count": 115,
   "metadata": {
    "ExecuteTime": {
     "end_time": "2020-07-17T14:58:51.148850Z",
     "start_time": "2020-07-17T14:58:47.323195Z"
    }
   },
   "outputs": [],
   "source": [
    "df['diff'] = df['time:timestamp'] - df['starttime']"
   ]
  },
  {
   "cell_type": "code",
   "execution_count": 49,
   "metadata": {
    "ExecuteTime": {
     "end_time": "2020-07-14T17:04:56.773480Z",
     "start_time": "2020-07-14T17:04:51.904838Z"
    }
   },
   "outputs": [
    {
     "name": "stdout",
     "output_type": "stream",
     "text": [
      "min 59 days 23:00:00\n",
      "max 792 days 01:00:00\n",
      "std 43 days 14:00:20.200169\n",
      "median 164 days 01:00:00\n",
      "5         226\n",
      "10        205\n",
      "15        185\n",
      "24        194\n",
      "29        184\n",
      "         ... \n",
      "531721    114\n",
      "531726    119\n",
      "531734    118\n",
      "531739    114\n",
      "531744    118\n",
      "Name: diff, Length: 75503, dtype: int64\n"
     ]
    },
    {
     "data": {
      "text/plain": [
       "<matplotlib.axes._subplots.AxesSubplot at 0x1ab837a3e80>"
      ]
     },
     "execution_count": 49,
     "metadata": {},
     "output_type": "execute_result"
    },
    {
     "data": {
      "image/png": "[encoded data removed]",
      "text/plain": [
       "<Figure size 432x288 with 1 Axes>"
      ]
     },
     "metadata": {
      "needs_background": "light"
     },
     "output_type": "display_data"
    }
   ],
   "source": [
    "print('min ' + str(df[df['concept:name']=='Add penalty']['diff'].min()))\n",
    "print('max ' + str(df[df['concept:name']=='Add penalty']['diff'].max()))\n",
    "print('std ' + str(df[df['concept:name']=='Add penalty']['diff'].std()))\n",
    "print('median ' + str(df[df['concept:name']=='Add penalty']['diff'].median()))\n",
    "print(df[df['concept:name']=='Add penalty']['diff'].apply(lambda x : x.days))\n",
    "sns.distplot(df[df['concept:name']=='Add penalty']['diff'].apply(lambda x : x.days))"
   ]
  },
  {
   "cell_type": "code",
   "execution_count": 51,
   "metadata": {
    "ExecuteTime": {
     "end_time": "2020-07-14T17:21:16.202459Z",
     "start_time": "2020-07-14T17:21:15.389843Z"
    }
   },
   "outputs": [
    {
     "data": {
      "text/html": [
       "<div>\n",
       "<style scoped>\n",
       "    .dataframe tbody tr th:only-of-type {\n",
       "        vertical-align: middle;\n",
       "    }\n",
       "\n",
       "    .dataframe tbody tr th {\n",
       "        vertical-align: top;\n",
       "    }\n",
       "\n",
       "    .dataframe thead th {\n",
       "        text-align: right;\n",
       "    }\n",
       "</style>\n",
       "<table border=\"1\" class=\"dataframe\">\n",
       "  <thead>\n",
       "    <tr style=\"text-align: right;\">\n",
       "      <th></th>\n",
       "      <th>amount</th>\n",
       "      <th>org:resource</th>\n",
       "      <th>dismissal</th>\n",
       "      <th>concept:name</th>\n",
       "      <th>vehicleClass</th>\n",
       "      <th>totalPaymentAmount</th>\n",
       "      <th>lifecycle:transition</th>\n",
       "      <th>time:timestamp</th>\n",
       "      <th>article</th>\n",
       "      <th>case:concept:name</th>\n",
       "      <th>expense</th>\n",
       "      <th>notificationType</th>\n",
       "      <th>lastSent</th>\n",
       "      <th>paymentAmount</th>\n",
       "      <th>lastEvent</th>\n",
       "      <th>starttime</th>\n",
       "      <th>diff</th>\n",
       "    </tr>\n",
       "    <tr>\n",
       "      <th>points</th>\n",
       "      <th></th>\n",
       "      <th></th>\n",
       "      <th></th>\n",
       "      <th></th>\n",
       "      <th></th>\n",
       "      <th></th>\n",
       "      <th></th>\n",
       "      <th></th>\n",
       "      <th></th>\n",
       "      <th></th>\n",
       "      <th></th>\n",
       "      <th></th>\n",
       "      <th></th>\n",
       "      <th></th>\n",
       "      <th></th>\n",
       "      <th></th>\n",
       "      <th></th>\n",
       "    </tr>\n",
       "  </thead>\n",
       "  <tbody>\n",
       "    <tr>\n",
       "      <th>0.0</th>\n",
       "      <td>142944</td>\n",
       "      <td>142944</td>\n",
       "      <td>142944</td>\n",
       "      <td>142944</td>\n",
       "      <td>142944</td>\n",
       "      <td>142944</td>\n",
       "      <td>142944</td>\n",
       "      <td>142944</td>\n",
       "      <td>142944</td>\n",
       "      <td>142944</td>\n",
       "      <td>0</td>\n",
       "      <td>0</td>\n",
       "      <td>0</td>\n",
       "      <td>0</td>\n",
       "      <td>142944</td>\n",
       "      <td>142944</td>\n",
       "      <td>142944</td>\n",
       "    </tr>\n",
       "    <tr>\n",
       "      <th>1.0</th>\n",
       "      <td>1</td>\n",
       "      <td>1</td>\n",
       "      <td>1</td>\n",
       "      <td>1</td>\n",
       "      <td>1</td>\n",
       "      <td>1</td>\n",
       "      <td>1</td>\n",
       "      <td>1</td>\n",
       "      <td>1</td>\n",
       "      <td>1</td>\n",
       "      <td>0</td>\n",
       "      <td>0</td>\n",
       "      <td>0</td>\n",
       "      <td>0</td>\n",
       "      <td>1</td>\n",
       "      <td>1</td>\n",
       "      <td>1</td>\n",
       "    </tr>\n",
       "    <tr>\n",
       "      <th>2.0</th>\n",
       "      <td>1721</td>\n",
       "      <td>1721</td>\n",
       "      <td>1721</td>\n",
       "      <td>1721</td>\n",
       "      <td>1721</td>\n",
       "      <td>1721</td>\n",
       "      <td>1721</td>\n",
       "      <td>1721</td>\n",
       "      <td>1721</td>\n",
       "      <td>1721</td>\n",
       "      <td>0</td>\n",
       "      <td>0</td>\n",
       "      <td>0</td>\n",
       "      <td>0</td>\n",
       "      <td>1721</td>\n",
       "      <td>1721</td>\n",
       "      <td>1721</td>\n",
       "    </tr>\n",
       "    <tr>\n",
       "      <th>3.0</th>\n",
       "      <td>133</td>\n",
       "      <td>133</td>\n",
       "      <td>133</td>\n",
       "      <td>133</td>\n",
       "      <td>133</td>\n",
       "      <td>133</td>\n",
       "      <td>133</td>\n",
       "      <td>133</td>\n",
       "      <td>133</td>\n",
       "      <td>133</td>\n",
       "      <td>0</td>\n",
       "      <td>0</td>\n",
       "      <td>0</td>\n",
       "      <td>0</td>\n",
       "      <td>133</td>\n",
       "      <td>133</td>\n",
       "      <td>133</td>\n",
       "    </tr>\n",
       "    <tr>\n",
       "      <th>4.0</th>\n",
       "      <td>11</td>\n",
       "      <td>11</td>\n",
       "      <td>11</td>\n",
       "      <td>11</td>\n",
       "      <td>11</td>\n",
       "      <td>11</td>\n",
       "      <td>11</td>\n",
       "      <td>11</td>\n",
       "      <td>11</td>\n",
       "      <td>11</td>\n",
       "      <td>0</td>\n",
       "      <td>0</td>\n",
       "      <td>0</td>\n",
       "      <td>0</td>\n",
       "      <td>11</td>\n",
       "      <td>11</td>\n",
       "      <td>11</td>\n",
       "    </tr>\n",
       "    <tr>\n",
       "      <th>5.0</th>\n",
       "      <td>836</td>\n",
       "      <td>836</td>\n",
       "      <td>836</td>\n",
       "      <td>836</td>\n",
       "      <td>836</td>\n",
       "      <td>836</td>\n",
       "      <td>836</td>\n",
       "      <td>836</td>\n",
       "      <td>836</td>\n",
       "      <td>836</td>\n",
       "      <td>0</td>\n",
       "      <td>0</td>\n",
       "      <td>0</td>\n",
       "      <td>0</td>\n",
       "      <td>836</td>\n",
       "      <td>836</td>\n",
       "      <td>836</td>\n",
       "    </tr>\n",
       "    <tr>\n",
       "      <th>6.0</th>\n",
       "      <td>141</td>\n",
       "      <td>141</td>\n",
       "      <td>141</td>\n",
       "      <td>141</td>\n",
       "      <td>141</td>\n",
       "      <td>141</td>\n",
       "      <td>141</td>\n",
       "      <td>141</td>\n",
       "      <td>141</td>\n",
       "      <td>141</td>\n",
       "      <td>0</td>\n",
       "      <td>0</td>\n",
       "      <td>0</td>\n",
       "      <td>0</td>\n",
       "      <td>141</td>\n",
       "      <td>141</td>\n",
       "      <td>141</td>\n",
       "    </tr>\n",
       "    <tr>\n",
       "      <th>8.0</th>\n",
       "      <td>18</td>\n",
       "      <td>18</td>\n",
       "      <td>18</td>\n",
       "      <td>18</td>\n",
       "      <td>18</td>\n",
       "      <td>18</td>\n",
       "      <td>18</td>\n",
       "      <td>18</td>\n",
       "      <td>18</td>\n",
       "      <td>18</td>\n",
       "      <td>0</td>\n",
       "      <td>0</td>\n",
       "      <td>0</td>\n",
       "      <td>0</td>\n",
       "      <td>18</td>\n",
       "      <td>18</td>\n",
       "      <td>18</td>\n",
       "    </tr>\n",
       "    <tr>\n",
       "      <th>10.0</th>\n",
       "      <td>52</td>\n",
       "      <td>52</td>\n",
       "      <td>52</td>\n",
       "      <td>52</td>\n",
       "      <td>52</td>\n",
       "      <td>52</td>\n",
       "      <td>52</td>\n",
       "      <td>52</td>\n",
       "      <td>52</td>\n",
       "      <td>52</td>\n",
       "      <td>0</td>\n",
       "      <td>0</td>\n",
       "      <td>0</td>\n",
       "      <td>0</td>\n",
       "      <td>52</td>\n",
       "      <td>52</td>\n",
       "      <td>52</td>\n",
       "    </tr>\n",
       "  </tbody>\n",
       "</table>\n",
       "</div>"
      ],
      "text/plain": [
       "        amount  org:resource  dismissal  concept:name  vehicleClass  \\\n",
       "points                                                                \n",
       "0.0     142944        142944     142944        142944        142944   \n",
       "1.0          1             1          1             1             1   \n",
       "2.0       1721          1721       1721          1721          1721   \n",
       "3.0        133           133        133           133           133   \n",
       "4.0         11            11         11            11            11   \n",
       "5.0        836           836        836           836           836   \n",
       "6.0        141           141        141           141           141   \n",
       "8.0         18            18         18            18            18   \n",
       "10.0        52            52         52            52            52   \n",
       "\n",
       "        totalPaymentAmount  lifecycle:transition  time:timestamp  article  \\\n",
       "points                                                                      \n",
       "0.0                 142944                142944          142944   142944   \n",
       "1.0                      1                     1               1        1   \n",
       "2.0                   1721                  1721            1721     1721   \n",
       "3.0                    133                   133             133      133   \n",
       "4.0                     11                    11              11       11   \n",
       "5.0                    836                   836             836      836   \n",
       "6.0                    141                   141             141      141   \n",
       "8.0                     18                    18              18       18   \n",
       "10.0                    52                    52              52       52   \n",
       "\n",
       "        case:concept:name  expense  notificationType  lastSent  paymentAmount  \\\n",
       "points                                                                          \n",
       "0.0                142944        0                 0         0              0   \n",
       "1.0                     1        0                 0         0              0   \n",
       "2.0                  1721        0                 0         0              0   \n",
       "3.0                   133        0                 0         0              0   \n",
       "4.0                    11        0                 0         0              0   \n",
       "5.0                   836        0                 0         0              0   \n",
       "6.0                   141        0                 0         0              0   \n",
       "8.0                    18        0                 0         0              0   \n",
       "10.0                   52        0                 0         0              0   \n",
       "\n",
       "        lastEvent  starttime    diff  \n",
       "points                                \n",
       "0.0        142944     142944  142944  \n",
       "1.0             1          1       1  \n",
       "2.0          1721       1721    1721  \n",
       "3.0           133        133     133  \n",
       "4.0            11         11      11  \n",
       "5.0           836        836     836  \n",
       "6.0           141        141     141  \n",
       "8.0            18         18      18  \n",
       "10.0           52         52      52  "
      ]
     },
     "execution_count": 51,
     "metadata": {},
     "output_type": "execute_result"
    }
   ],
   "source": [
    "df.groupby('points').count()"
   ]
  },
  {
   "cell_type": "code",
   "execution_count": null,
   "metadata": {},
   "outputs": [],
   "source": []
  },
  {
   "cell_type": "code",
   "execution_count": 24,
   "metadata": {
    "ExecuteTime": {
     "end_time": "2020-07-14T14:52:51.491022Z",
     "start_time": "2020-07-14T14:52:51.328243Z"
    }
   },
   "outputs": [
    {
     "data": {
      "text/plain": [
       "5           A100\n",
       "10        A10000\n",
       "15        A10004\n",
       "24        A10008\n",
       "29        A10009\n",
       "           ...  \n",
       "531721     V9992\n",
       "531726     V9995\n",
       "531734     V9997\n",
       "531739     V9998\n",
       "531744     V9999\n",
       "Name: case:concept:name, Length: 75503, dtype: object"
      ]
     },
     "execution_count": 24,
     "metadata": {},
     "output_type": "execute_result"
    }
   ],
   "source": [
    "df[df['concept:name']=='Add penalty']['case:concept:name']"
   ]
  },
  {
   "cell_type": "code",
   "execution_count": 27,
   "metadata": {
    "ExecuteTime": {
     "end_time": "2020-07-14T14:55:25.560972Z",
     "start_time": "2020-07-14T14:55:25.391701Z"
    },
    "scrolled": true
   },
   "outputs": [
    {
     "data": {
      "text/html": [
       "<div>\n",
       "<style scoped>\n",
       "    .dataframe tbody tr th:only-of-type {\n",
       "        vertical-align: middle;\n",
       "    }\n",
       "\n",
       "    .dataframe tbody tr th {\n",
       "        vertical-align: top;\n",
       "    }\n",
       "\n",
       "    .dataframe thead th {\n",
       "        text-align: right;\n",
       "    }\n",
       "</style>\n",
       "<table border=\"1\" class=\"dataframe\">\n",
       "  <thead>\n",
       "    <tr style=\"text-align: right;\">\n",
       "      <th></th>\n",
       "      <th>amount</th>\n",
       "      <th>org:resource</th>\n",
       "      <th>dismissal</th>\n",
       "      <th>concept:name</th>\n",
       "      <th>vehicleClass</th>\n",
       "      <th>totalPaymentAmount</th>\n",
       "      <th>lifecycle:transition</th>\n",
       "      <th>time:timestamp</th>\n",
       "      <th>article</th>\n",
       "      <th>points</th>\n",
       "      <th>case:concept:name</th>\n",
       "      <th>expense</th>\n",
       "      <th>notificationType</th>\n",
       "      <th>lastSent</th>\n",
       "      <th>paymentAmount</th>\n",
       "      <th>lastEvent</th>\n",
       "      <th>starttime</th>\n",
       "      <th>diff</th>\n",
       "    </tr>\n",
       "  </thead>\n",
       "  <tbody>\n",
       "    <tr>\n",
       "      <th>2</th>\n",
       "      <td>35.0</td>\n",
       "      <td>561</td>\n",
       "      <td>NIL</td>\n",
       "      <td>Create Fine</td>\n",
       "      <td>A</td>\n",
       "      <td>0.0</td>\n",
       "      <td>complete</td>\n",
       "      <td>2006-08-02 00:00:00+02:00</td>\n",
       "      <td>157.0</td>\n",
       "      <td>0.0</td>\n",
       "      <td>A100</td>\n",
       "      <td>NaN</td>\n",
       "      <td>NaN</td>\n",
       "      <td>NaN</td>\n",
       "      <td>NaN</td>\n",
       "      <td>Send for Credit Collection</td>\n",
       "      <td>2006-08-02 00:00:00+02:00</td>\n",
       "      <td>0 days 00:00:00</td>\n",
       "    </tr>\n",
       "    <tr>\n",
       "      <th>3</th>\n",
       "      <td>NaN</td>\n",
       "      <td>NaN</td>\n",
       "      <td>NaN</td>\n",
       "      <td>Send Fine</td>\n",
       "      <td>NaN</td>\n",
       "      <td>NaN</td>\n",
       "      <td>complete</td>\n",
       "      <td>2006-12-12 00:00:00+01:00</td>\n",
       "      <td>NaN</td>\n",
       "      <td>NaN</td>\n",
       "      <td>A100</td>\n",
       "      <td>11.0</td>\n",
       "      <td>NaN</td>\n",
       "      <td>NaN</td>\n",
       "      <td>NaN</td>\n",
       "      <td>Send for Credit Collection</td>\n",
       "      <td>2006-08-02 00:00:00+02:00</td>\n",
       "      <td>132 days 01:00:00</td>\n",
       "    </tr>\n",
       "    <tr>\n",
       "      <th>4</th>\n",
       "      <td>NaN</td>\n",
       "      <td>NaN</td>\n",
       "      <td>NaN</td>\n",
       "      <td>Insert Fine Notification</td>\n",
       "      <td>NaN</td>\n",
       "      <td>NaN</td>\n",
       "      <td>complete</td>\n",
       "      <td>2007-01-15 00:00:00+01:00</td>\n",
       "      <td>NaN</td>\n",
       "      <td>NaN</td>\n",
       "      <td>A100</td>\n",
       "      <td>NaN</td>\n",
       "      <td>P</td>\n",
       "      <td>P</td>\n",
       "      <td>NaN</td>\n",
       "      <td>Send for Credit Collection</td>\n",
       "      <td>2006-08-02 00:00:00+02:00</td>\n",
       "      <td>166 days 01:00:00</td>\n",
       "    </tr>\n",
       "    <tr>\n",
       "      <th>5</th>\n",
       "      <td>71.5</td>\n",
       "      <td>NaN</td>\n",
       "      <td>NaN</td>\n",
       "      <td>Add penalty</td>\n",
       "      <td>NaN</td>\n",
       "      <td>NaN</td>\n",
       "      <td>complete</td>\n",
       "      <td>2007-03-16 00:00:00+01:00</td>\n",
       "      <td>NaN</td>\n",
       "      <td>NaN</td>\n",
       "      <td>A100</td>\n",
       "      <td>NaN</td>\n",
       "      <td>NaN</td>\n",
       "      <td>NaN</td>\n",
       "      <td>NaN</td>\n",
       "      <td>Send for Credit Collection</td>\n",
       "      <td>2006-08-02 00:00:00+02:00</td>\n",
       "      <td>226 days 01:00:00</td>\n",
       "    </tr>\n",
       "    <tr>\n",
       "      <th>6</th>\n",
       "      <td>NaN</td>\n",
       "      <td>NaN</td>\n",
       "      <td>NaN</td>\n",
       "      <td>Send for Credit Collection</td>\n",
       "      <td>NaN</td>\n",
       "      <td>NaN</td>\n",
       "      <td>complete</td>\n",
       "      <td>2009-03-30 00:00:00+02:00</td>\n",
       "      <td>NaN</td>\n",
       "      <td>NaN</td>\n",
       "      <td>A100</td>\n",
       "      <td>NaN</td>\n",
       "      <td>NaN</td>\n",
       "      <td>NaN</td>\n",
       "      <td>NaN</td>\n",
       "      <td>Send for Credit Collection</td>\n",
       "      <td>2006-08-02 00:00:00+02:00</td>\n",
       "      <td>971 days 00:00:00</td>\n",
       "    </tr>\n",
       "  </tbody>\n",
       "</table>\n",
       "</div>"
      ],
      "text/plain": [
       "   amount org:resource dismissal                concept:name vehicleClass  \\\n",
       "2    35.0          561       NIL                 Create Fine            A   \n",
       "3     NaN          NaN       NaN                   Send Fine          NaN   \n",
       "4     NaN          NaN       NaN    Insert Fine Notification          NaN   \n",
       "5    71.5          NaN       NaN                 Add penalty          NaN   \n",
       "6     NaN          NaN       NaN  Send for Credit Collection          NaN   \n",
       "\n",
       "   totalPaymentAmount lifecycle:transition             time:timestamp  \\\n",
       "2                 0.0             complete  2006-08-02 00:00:00+02:00   \n",
       "3                 NaN             complete  2006-12-12 00:00:00+01:00   \n",
       "4                 NaN             complete  2007-01-15 00:00:00+01:00   \n",
       "5                 NaN             complete  2007-03-16 00:00:00+01:00   \n",
       "6                 NaN             complete  2009-03-30 00:00:00+02:00   \n",
       "\n",
       "   article  points case:concept:name  expense notificationType lastSent  \\\n",
       "2    157.0     0.0              A100      NaN              NaN      NaN   \n",
       "3      NaN     NaN              A100     11.0              NaN      NaN   \n",
       "4      NaN     NaN              A100      NaN                P        P   \n",
       "5      NaN     NaN              A100      NaN              NaN      NaN   \n",
       "6      NaN     NaN              A100      NaN              NaN      NaN   \n",
       "\n",
       "   paymentAmount                   lastEvent                  starttime  \\\n",
       "2            NaN  Send for Credit Collection  2006-08-02 00:00:00+02:00   \n",
       "3            NaN  Send for Credit Collection  2006-08-02 00:00:00+02:00   \n",
       "4            NaN  Send for Credit Collection  2006-08-02 00:00:00+02:00   \n",
       "5            NaN  Send for Credit Collection  2006-08-02 00:00:00+02:00   \n",
       "6            NaN  Send for Credit Collection  2006-08-02 00:00:00+02:00   \n",
       "\n",
       "               diff  \n",
       "2   0 days 00:00:00  \n",
       "3 132 days 01:00:00  \n",
       "4 166 days 01:00:00  \n",
       "5 226 days 01:00:00  \n",
       "6 971 days 00:00:00  "
      ]
     },
     "execution_count": 27,
     "metadata": {},
     "output_type": "execute_result"
    }
   ],
   "source": [
    "df[df['case:concept:name']=='A100']"
   ]
  },
  {
   "cell_type": "markdown",
   "metadata": {},
   "source": [
    "# Playground\n"
   ]
  },
  {
   "cell_type": "code",
   "execution_count": 20,
   "metadata": {
    "ExecuteTime": {
     "end_time": "2020-07-14T14:51:30.251245Z",
     "start_time": "2020-07-14T14:51:29.495936Z"
    }
   },
   "outputs": [
    {
     "name": "stdout",
     "output_type": "stream",
     "text": [
      "[ 0. nan]\n",
      "[nan]\n"
     ]
    }
   ],
   "source": [
    "#values that total Payment takes for non Payment events\n",
    "print(df[df['concept:name']!='Payment']['totalPaymentAmount'].unique())\n",
    "\n",
    "#values that payment amount takes for non Payment events\n",
    "print(df[df['concept:name']!='Payment']['paymentAmount'].unique())"
   ]
  },
  {
   "cell_type": "code",
   "execution_count": 21,
   "metadata": {
    "ExecuteTime": {
     "end_time": "2020-07-14T14:51:32.392269Z",
     "start_time": "2020-07-14T14:51:30.251245Z"
    }
   },
   "outputs": [
    {
     "data": {
      "text/plain": [
       "False"
      ]
     },
     "execution_count": 21,
     "metadata": {},
     "output_type": "execute_result"
    }
   ],
   "source": [
    "traces.apply(lambda x : 'Send for Credit Collection' in x[:-1]).any()\n",
    "#If Send for credit collection appears it is the last event"
   ]
  },
  {
   "cell_type": "code",
   "execution_count": 82,
   "metadata": {
    "ExecuteTime": {
     "end_time": "2020-07-14T21:17:33.569477Z",
     "start_time": "2020-07-14T21:17:33.348588Z"
    }
   },
   "outputs": [
    {
     "data": {
      "text/html": [
       "<div>\n",
       "<style scoped>\n",
       "    .dataframe tbody tr th:only-of-type {\n",
       "        vertical-align: middle;\n",
       "    }\n",
       "\n",
       "    .dataframe tbody tr th {\n",
       "        vertical-align: top;\n",
       "    }\n",
       "\n",
       "    .dataframe thead th {\n",
       "        text-align: right;\n",
       "    }\n",
       "</style>\n",
       "<table border=\"1\" class=\"dataframe\">\n",
       "  <thead>\n",
       "    <tr style=\"text-align: right;\">\n",
       "      <th></th>\n",
       "      <th>amount</th>\n",
       "      <th>org:resource</th>\n",
       "      <th>dismissal</th>\n",
       "      <th>concept:name</th>\n",
       "      <th>vehicleClass</th>\n",
       "      <th>totalPaymentAmount</th>\n",
       "      <th>lifecycle:transition</th>\n",
       "      <th>time:timestamp</th>\n",
       "      <th>article</th>\n",
       "      <th>points</th>\n",
       "      <th>case:concept:name</th>\n",
       "      <th>expense</th>\n",
       "      <th>notificationType</th>\n",
       "      <th>lastSent</th>\n",
       "      <th>paymentAmount</th>\n",
       "      <th>lastEvent</th>\n",
       "      <th>diff</th>\n",
       "      <th>starttime</th>\n",
       "      <th>startamount</th>\n",
       "    </tr>\n",
       "  </thead>\n",
       "  <tbody>\n",
       "    <tr>\n",
       "      <th>78431</th>\n",
       "      <td>0.0</td>\n",
       "      <td>22</td>\n",
       "      <td>NIL</td>\n",
       "      <td>Create Fine</td>\n",
       "      <td>C</td>\n",
       "      <td>0.0</td>\n",
       "      <td>complete</td>\n",
       "      <td>2002-05-21 00:00:00+02:00</td>\n",
       "      <td>171.0</td>\n",
       "      <td>0.0</td>\n",
       "      <td>C11600</td>\n",
       "      <td>NaN</td>\n",
       "      <td>NaN</td>\n",
       "      <td>NaN</td>\n",
       "      <td>NaN</td>\n",
       "      <td>Payment</td>\n",
       "      <td>0 days 00:00:00</td>\n",
       "      <td>2002-05-21 00:00:00+02:00</td>\n",
       "      <td>0.0</td>\n",
       "    </tr>\n",
       "    <tr>\n",
       "      <th>79730</th>\n",
       "      <td>0.0</td>\n",
       "      <td>811</td>\n",
       "      <td>NIL</td>\n",
       "      <td>Create Fine</td>\n",
       "      <td>C</td>\n",
       "      <td>0.0</td>\n",
       "      <td>complete</td>\n",
       "      <td>2000-10-11 00:00:00+02:00</td>\n",
       "      <td>171.0</td>\n",
       "      <td>0.0</td>\n",
       "      <td>C12623</td>\n",
       "      <td>NaN</td>\n",
       "      <td>NaN</td>\n",
       "      <td>NaN</td>\n",
       "      <td>NaN</td>\n",
       "      <td>Send Fine</td>\n",
       "      <td>0 days 00:00:00</td>\n",
       "      <td>2000-10-11 00:00:00+02:00</td>\n",
       "      <td>0.0</td>\n",
       "    </tr>\n",
       "    <tr>\n",
       "      <th>83566</th>\n",
       "      <td>0.0</td>\n",
       "      <td>831</td>\n",
       "      <td>I</td>\n",
       "      <td>Create Fine</td>\n",
       "      <td>C</td>\n",
       "      <td>0.0</td>\n",
       "      <td>complete</td>\n",
       "      <td>2002-06-01 00:00:00+02:00</td>\n",
       "      <td>171.0</td>\n",
       "      <td>0.0</td>\n",
       "      <td>C14862</td>\n",
       "      <td>NaN</td>\n",
       "      <td>NaN</td>\n",
       "      <td>NaN</td>\n",
       "      <td>NaN</td>\n",
       "      <td>Send Fine</td>\n",
       "      <td>0 days 00:00:00</td>\n",
       "      <td>2002-06-01 00:00:00+02:00</td>\n",
       "      <td>0.0</td>\n",
       "    </tr>\n",
       "    <tr>\n",
       "      <th>84318</th>\n",
       "      <td>0.0</td>\n",
       "      <td>46</td>\n",
       "      <td>NIL</td>\n",
       "      <td>Create Fine</td>\n",
       "      <td>A</td>\n",
       "      <td>0.0</td>\n",
       "      <td>complete</td>\n",
       "      <td>2003-09-28 00:00:00+02:00</td>\n",
       "      <td>153.0</td>\n",
       "      <td>0.0</td>\n",
       "      <td>C15288</td>\n",
       "      <td>NaN</td>\n",
       "      <td>NaN</td>\n",
       "      <td>NaN</td>\n",
       "      <td>NaN</td>\n",
       "      <td>Payment</td>\n",
       "      <td>0 days 00:00:00</td>\n",
       "      <td>2003-09-28 00:00:00+02:00</td>\n",
       "      <td>0.0</td>\n",
       "    </tr>\n",
       "    <tr>\n",
       "      <th>84321</th>\n",
       "      <td>0.0</td>\n",
       "      <td>NaN</td>\n",
       "      <td>NaN</td>\n",
       "      <td>Add penalty</td>\n",
       "      <td>NaN</td>\n",
       "      <td>NaN</td>\n",
       "      <td>complete</td>\n",
       "      <td>2003-11-27 00:00:00+01:00</td>\n",
       "      <td>NaN</td>\n",
       "      <td>NaN</td>\n",
       "      <td>C15288</td>\n",
       "      <td>NaN</td>\n",
       "      <td>NaN</td>\n",
       "      <td>NaN</td>\n",
       "      <td>NaN</td>\n",
       "      <td>Payment</td>\n",
       "      <td>60 days 01:00:00</td>\n",
       "      <td>2003-09-28 00:00:00+02:00</td>\n",
       "      <td>0.0</td>\n",
       "    </tr>\n",
       "    <tr>\n",
       "      <th>86191</th>\n",
       "      <td>0.0</td>\n",
       "      <td>55</td>\n",
       "      <td>NIL</td>\n",
       "      <td>Create Fine</td>\n",
       "      <td>M</td>\n",
       "      <td>0.0</td>\n",
       "      <td>complete</td>\n",
       "      <td>2003-08-27 00:00:00+02:00</td>\n",
       "      <td>180.0</td>\n",
       "      <td>0.0</td>\n",
       "      <td>C16861</td>\n",
       "      <td>NaN</td>\n",
       "      <td>NaN</td>\n",
       "      <td>NaN</td>\n",
       "      <td>NaN</td>\n",
       "      <td>Payment</td>\n",
       "      <td>0 days 00:00:00</td>\n",
       "      <td>2003-08-27 00:00:00+02:00</td>\n",
       "      <td>0.0</td>\n",
       "    </tr>\n",
       "    <tr>\n",
       "      <th>86194</th>\n",
       "      <td>0.0</td>\n",
       "      <td>NaN</td>\n",
       "      <td>NaN</td>\n",
       "      <td>Add penalty</td>\n",
       "      <td>NaN</td>\n",
       "      <td>NaN</td>\n",
       "      <td>complete</td>\n",
       "      <td>2003-10-26 00:00:00+02:00</td>\n",
       "      <td>NaN</td>\n",
       "      <td>NaN</td>\n",
       "      <td>C16861</td>\n",
       "      <td>NaN</td>\n",
       "      <td>NaN</td>\n",
       "      <td>NaN</td>\n",
       "      <td>NaN</td>\n",
       "      <td>Payment</td>\n",
       "      <td>60 days 00:00:00</td>\n",
       "      <td>2003-08-27 00:00:00+02:00</td>\n",
       "      <td>0.0</td>\n",
       "    </tr>\n",
       "    <tr>\n",
       "      <th>88390</th>\n",
       "      <td>0.0</td>\n",
       "      <td>49</td>\n",
       "      <td>NIL</td>\n",
       "      <td>Create Fine</td>\n",
       "      <td>C</td>\n",
       "      <td>0.0</td>\n",
       "      <td>complete</td>\n",
       "      <td>2005-11-03 00:00:00+01:00</td>\n",
       "      <td>171.0</td>\n",
       "      <td>0.0</td>\n",
       "      <td>C18355</td>\n",
       "      <td>NaN</td>\n",
       "      <td>NaN</td>\n",
       "      <td>NaN</td>\n",
       "      <td>NaN</td>\n",
       "      <td>Send Fine</td>\n",
       "      <td>0 days 00:00:00</td>\n",
       "      <td>2005-11-03 00:00:00+01:00</td>\n",
       "      <td>0.0</td>\n",
       "    </tr>\n",
       "    <tr>\n",
       "      <th>88612</th>\n",
       "      <td>0.0</td>\n",
       "      <td>46</td>\n",
       "      <td>NIL</td>\n",
       "      <td>Create Fine</td>\n",
       "      <td>A</td>\n",
       "      <td>0.0</td>\n",
       "      <td>complete</td>\n",
       "      <td>2006-04-19 00:00:00+02:00</td>\n",
       "      <td>218.0</td>\n",
       "      <td>0.0</td>\n",
       "      <td>C18500</td>\n",
       "      <td>NaN</td>\n",
       "      <td>NaN</td>\n",
       "      <td>NaN</td>\n",
       "      <td>NaN</td>\n",
       "      <td>Send Fine</td>\n",
       "      <td>0 days 00:00:00</td>\n",
       "      <td>2006-04-19 00:00:00+02:00</td>\n",
       "      <td>0.0</td>\n",
       "    </tr>\n",
       "    <tr>\n",
       "      <th>89499</th>\n",
       "      <td>0.0</td>\n",
       "      <td>45</td>\n",
       "      <td>NIL</td>\n",
       "      <td>Create Fine</td>\n",
       "      <td>A</td>\n",
       "      <td>0.0</td>\n",
       "      <td>complete</td>\n",
       "      <td>2010-12-06 00:00:00+01:00</td>\n",
       "      <td>192.0</td>\n",
       "      <td>3.0</td>\n",
       "      <td>C19061</td>\n",
       "      <td>NaN</td>\n",
       "      <td>NaN</td>\n",
       "      <td>NaN</td>\n",
       "      <td>NaN</td>\n",
       "      <td>Payment</td>\n",
       "      <td>0 days 00:00:00</td>\n",
       "      <td>2010-12-06 00:00:00+01:00</td>\n",
       "      <td>0.0</td>\n",
       "    </tr>\n",
       "    <tr>\n",
       "      <th>89502</th>\n",
       "      <td>0.0</td>\n",
       "      <td>NaN</td>\n",
       "      <td>NaN</td>\n",
       "      <td>Add penalty</td>\n",
       "      <td>NaN</td>\n",
       "      <td>NaN</td>\n",
       "      <td>complete</td>\n",
       "      <td>2011-02-04 00:00:00+01:00</td>\n",
       "      <td>NaN</td>\n",
       "      <td>NaN</td>\n",
       "      <td>C19061</td>\n",
       "      <td>NaN</td>\n",
       "      <td>NaN</td>\n",
       "      <td>NaN</td>\n",
       "      <td>NaN</td>\n",
       "      <td>Payment</td>\n",
       "      <td>60 days 00:00:00</td>\n",
       "      <td>2010-12-06 00:00:00+01:00</td>\n",
       "      <td>0.0</td>\n",
       "    </tr>\n",
       "    <tr>\n",
       "      <th>90169</th>\n",
       "      <td>0.0</td>\n",
       "      <td>57</td>\n",
       "      <td>NIL</td>\n",
       "      <td>Create Fine</td>\n",
       "      <td>A</td>\n",
       "      <td>0.0</td>\n",
       "      <td>complete</td>\n",
       "      <td>2007-08-04 00:00:00+02:00</td>\n",
       "      <td>167.0</td>\n",
       "      <td>0.0</td>\n",
       "      <td>C19449</td>\n",
       "      <td>NaN</td>\n",
       "      <td>NaN</td>\n",
       "      <td>NaN</td>\n",
       "      <td>NaN</td>\n",
       "      <td>Payment</td>\n",
       "      <td>0 days 00:00:00</td>\n",
       "      <td>2007-08-04 00:00:00+02:00</td>\n",
       "      <td>0.0</td>\n",
       "    </tr>\n",
       "    <tr>\n",
       "      <th>90172</th>\n",
       "      <td>0.0</td>\n",
       "      <td>NaN</td>\n",
       "      <td>NaN</td>\n",
       "      <td>Add penalty</td>\n",
       "      <td>NaN</td>\n",
       "      <td>NaN</td>\n",
       "      <td>complete</td>\n",
       "      <td>2007-10-03 00:00:00+02:00</td>\n",
       "      <td>NaN</td>\n",
       "      <td>NaN</td>\n",
       "      <td>C19449</td>\n",
       "      <td>NaN</td>\n",
       "      <td>NaN</td>\n",
       "      <td>NaN</td>\n",
       "      <td>NaN</td>\n",
       "      <td>Payment</td>\n",
       "      <td>60 days 00:00:00</td>\n",
       "      <td>2007-08-04 00:00:00+02:00</td>\n",
       "      <td>0.0</td>\n",
       "    </tr>\n",
       "    <tr>\n",
       "      <th>90189</th>\n",
       "      <td>0.0</td>\n",
       "      <td>57</td>\n",
       "      <td>NIL</td>\n",
       "      <td>Create Fine</td>\n",
       "      <td>A</td>\n",
       "      <td>0.0</td>\n",
       "      <td>complete</td>\n",
       "      <td>2007-08-04 00:00:00+02:00</td>\n",
       "      <td>167.0</td>\n",
       "      <td>0.0</td>\n",
       "      <td>C19460</td>\n",
       "      <td>NaN</td>\n",
       "      <td>NaN</td>\n",
       "      <td>NaN</td>\n",
       "      <td>NaN</td>\n",
       "      <td>Payment</td>\n",
       "      <td>0 days 00:00:00</td>\n",
       "      <td>2007-08-04 00:00:00+02:00</td>\n",
       "      <td>0.0</td>\n",
       "    </tr>\n",
       "    <tr>\n",
       "      <th>90192</th>\n",
       "      <td>0.0</td>\n",
       "      <td>NaN</td>\n",
       "      <td>NaN</td>\n",
       "      <td>Add penalty</td>\n",
       "      <td>NaN</td>\n",
       "      <td>NaN</td>\n",
       "      <td>complete</td>\n",
       "      <td>2007-10-03 00:00:00+02:00</td>\n",
       "      <td>NaN</td>\n",
       "      <td>NaN</td>\n",
       "      <td>C19460</td>\n",
       "      <td>NaN</td>\n",
       "      <td>NaN</td>\n",
       "      <td>NaN</td>\n",
       "      <td>NaN</td>\n",
       "      <td>Payment</td>\n",
       "      <td>60 days 00:00:00</td>\n",
       "      <td>2007-08-04 00:00:00+02:00</td>\n",
       "      <td>0.0</td>\n",
       "    </tr>\n",
       "    <tr>\n",
       "      <th>91702</th>\n",
       "      <td>0.0</td>\n",
       "      <td>39</td>\n",
       "      <td>NIL</td>\n",
       "      <td>Create Fine</td>\n",
       "      <td>A</td>\n",
       "      <td>0.0</td>\n",
       "      <td>complete</td>\n",
       "      <td>2009-02-12 00:00:00+01:00</td>\n",
       "      <td>116.0</td>\n",
       "      <td>0.0</td>\n",
       "      <td>C20415</td>\n",
       "      <td>NaN</td>\n",
       "      <td>NaN</td>\n",
       "      <td>NaN</td>\n",
       "      <td>NaN</td>\n",
       "      <td>Send Fine</td>\n",
       "      <td>0 days 00:00:00</td>\n",
       "      <td>2009-02-12 00:00:00+01:00</td>\n",
       "      <td>0.0</td>\n",
       "    </tr>\n",
       "    <tr>\n",
       "      <th>92200</th>\n",
       "      <td>0.0</td>\n",
       "      <td>850</td>\n",
       "      <td>NIL</td>\n",
       "      <td>Create Fine</td>\n",
       "      <td>M</td>\n",
       "      <td>0.0</td>\n",
       "      <td>complete</td>\n",
       "      <td>2009-06-11 00:00:00+02:00</td>\n",
       "      <td>218.0</td>\n",
       "      <td>0.0</td>\n",
       "      <td>C20736</td>\n",
       "      <td>NaN</td>\n",
       "      <td>NaN</td>\n",
       "      <td>NaN</td>\n",
       "      <td>NaN</td>\n",
       "      <td>Send Fine</td>\n",
       "      <td>0 days 00:00:00</td>\n",
       "      <td>2009-06-11 00:00:00+02:00</td>\n",
       "      <td>0.0</td>\n",
       "    </tr>\n",
       "    <tr>\n",
       "      <th>95113</th>\n",
       "      <td>0.0</td>\n",
       "      <td>53</td>\n",
       "      <td>NIL</td>\n",
       "      <td>Create Fine</td>\n",
       "      <td>A</td>\n",
       "      <td>0.0</td>\n",
       "      <td>complete</td>\n",
       "      <td>2012-06-29 00:00:00+02:00</td>\n",
       "      <td>189.0</td>\n",
       "      <td>10.0</td>\n",
       "      <td>C22435</td>\n",
       "      <td>NaN</td>\n",
       "      <td>NaN</td>\n",
       "      <td>NaN</td>\n",
       "      <td>NaN</td>\n",
       "      <td>Send Fine</td>\n",
       "      <td>0 days 00:00:00</td>\n",
       "      <td>2012-06-29 00:00:00+02:00</td>\n",
       "      <td>0.0</td>\n",
       "    </tr>\n",
       "    <tr>\n",
       "      <th>95117</th>\n",
       "      <td>0.0</td>\n",
       "      <td>53</td>\n",
       "      <td>NIL</td>\n",
       "      <td>Create Fine</td>\n",
       "      <td>A</td>\n",
       "      <td>0.0</td>\n",
       "      <td>complete</td>\n",
       "      <td>2012-06-29 00:00:00+02:00</td>\n",
       "      <td>187.0</td>\n",
       "      <td>0.0</td>\n",
       "      <td>C22437</td>\n",
       "      <td>NaN</td>\n",
       "      <td>NaN</td>\n",
       "      <td>NaN</td>\n",
       "      <td>NaN</td>\n",
       "      <td>Send Fine</td>\n",
       "      <td>0 days 00:00:00</td>\n",
       "      <td>2012-06-29 00:00:00+02:00</td>\n",
       "      <td>0.0</td>\n",
       "    </tr>\n",
       "    <tr>\n",
       "      <th>305859</th>\n",
       "      <td>0.0</td>\n",
       "      <td>50</td>\n",
       "      <td>NIL</td>\n",
       "      <td>Create Fine</td>\n",
       "      <td>A</td>\n",
       "      <td>0.0</td>\n",
       "      <td>complete</td>\n",
       "      <td>2008-07-06 00:00:00+02:00</td>\n",
       "      <td>41.0</td>\n",
       "      <td>0.0</td>\n",
       "      <td>S126257</td>\n",
       "      <td>NaN</td>\n",
       "      <td>NaN</td>\n",
       "      <td>NaN</td>\n",
       "      <td>NaN</td>\n",
       "      <td>Send Fine</td>\n",
       "      <td>0 days 00:00:00</td>\n",
       "      <td>2008-07-06 00:00:00+02:00</td>\n",
       "      <td>0.0</td>\n",
       "    </tr>\n",
       "    <tr>\n",
       "      <th>318817</th>\n",
       "      <td>0.0</td>\n",
       "      <td>29</td>\n",
       "      <td>NIL</td>\n",
       "      <td>Create Fine</td>\n",
       "      <td>A</td>\n",
       "      <td>0.0</td>\n",
       "      <td>complete</td>\n",
       "      <td>2009-03-11 00:00:00+01:00</td>\n",
       "      <td>40.0</td>\n",
       "      <td>0.0</td>\n",
       "      <td>S134167</td>\n",
       "      <td>NaN</td>\n",
       "      <td>NaN</td>\n",
       "      <td>NaN</td>\n",
       "      <td>NaN</td>\n",
       "      <td>Payment</td>\n",
       "      <td>0 days 00:00:00</td>\n",
       "      <td>2009-03-11 00:00:00+01:00</td>\n",
       "      <td>0.0</td>\n",
       "    </tr>\n",
       "    <tr>\n",
       "      <th>458981</th>\n",
       "      <td>0.0</td>\n",
       "      <td>831</td>\n",
       "      <td>NIL</td>\n",
       "      <td>Create Fine</td>\n",
       "      <td>C</td>\n",
       "      <td>0.0</td>\n",
       "      <td>complete</td>\n",
       "      <td>2001-09-06 00:00:00+02:00</td>\n",
       "      <td>192.0</td>\n",
       "      <td>0.0</td>\n",
       "      <td>S69673</td>\n",
       "      <td>NaN</td>\n",
       "      <td>NaN</td>\n",
       "      <td>NaN</td>\n",
       "      <td>NaN</td>\n",
       "      <td>Send Fine</td>\n",
       "      <td>0 days 00:00:00</td>\n",
       "      <td>2001-09-06 00:00:00+02:00</td>\n",
       "      <td>0.0</td>\n",
       "    </tr>\n",
       "    <tr>\n",
       "      <th>483157</th>\n",
       "      <td>0.0</td>\n",
       "      <td>39</td>\n",
       "      <td>NIL</td>\n",
       "      <td>Create Fine</td>\n",
       "      <td>A</td>\n",
       "      <td>0.0</td>\n",
       "      <td>complete</td>\n",
       "      <td>2003-09-20 00:00:00+02:00</td>\n",
       "      <td>7.0</td>\n",
       "      <td>0.0</td>\n",
       "      <td>S82134</td>\n",
       "      <td>NaN</td>\n",
       "      <td>NaN</td>\n",
       "      <td>NaN</td>\n",
       "      <td>NaN</td>\n",
       "      <td>Payment</td>\n",
       "      <td>0 days 00:00:00</td>\n",
       "      <td>2003-09-20 00:00:00+02:00</td>\n",
       "      <td>0.0</td>\n",
       "    </tr>\n",
       "    <tr>\n",
       "      <th>489274</th>\n",
       "      <td>0.0</td>\n",
       "      <td>36</td>\n",
       "      <td>NIL</td>\n",
       "      <td>Create Fine</td>\n",
       "      <td>A</td>\n",
       "      <td>0.0</td>\n",
       "      <td>complete</td>\n",
       "      <td>2005-05-07 00:00:00+02:00</td>\n",
       "      <td>7.0</td>\n",
       "      <td>0.0</td>\n",
       "      <td>S86431</td>\n",
       "      <td>NaN</td>\n",
       "      <td>NaN</td>\n",
       "      <td>NaN</td>\n",
       "      <td>NaN</td>\n",
       "      <td>Payment</td>\n",
       "      <td>0 days 00:00:00</td>\n",
       "      <td>2005-05-07 00:00:00+02:00</td>\n",
       "      <td>0.0</td>\n",
       "    </tr>\n",
       "    <tr>\n",
       "      <th>492245</th>\n",
       "      <td>0.0</td>\n",
       "      <td>31</td>\n",
       "      <td>NIL</td>\n",
       "      <td>Create Fine</td>\n",
       "      <td>A</td>\n",
       "      <td>0.0</td>\n",
       "      <td>complete</td>\n",
       "      <td>2005-03-25 00:00:00+01:00</td>\n",
       "      <td>41.0</td>\n",
       "      <td>0.0</td>\n",
       "      <td>S88455</td>\n",
       "      <td>NaN</td>\n",
       "      <td>NaN</td>\n",
       "      <td>NaN</td>\n",
       "      <td>NaN</td>\n",
       "      <td>Send Fine</td>\n",
       "      <td>0 days 00:00:00</td>\n",
       "      <td>2005-03-25 00:00:00+01:00</td>\n",
       "      <td>0.0</td>\n",
       "    </tr>\n",
       "    <tr>\n",
       "      <th>494208</th>\n",
       "      <td>0.0</td>\n",
       "      <td>40</td>\n",
       "      <td>NIL</td>\n",
       "      <td>Create Fine</td>\n",
       "      <td>A</td>\n",
       "      <td>0.0</td>\n",
       "      <td>complete</td>\n",
       "      <td>2003-12-07 00:00:00+01:00</td>\n",
       "      <td>7.0</td>\n",
       "      <td>0.0</td>\n",
       "      <td>S90477</td>\n",
       "      <td>NaN</td>\n",
       "      <td>NaN</td>\n",
       "      <td>NaN</td>\n",
       "      <td>NaN</td>\n",
       "      <td>Send Fine</td>\n",
       "      <td>0 days 00:00:00</td>\n",
       "      <td>2003-12-07 00:00:00+01:00</td>\n",
       "      <td>0.0</td>\n",
       "    </tr>\n",
       "    <tr>\n",
       "      <th>495978</th>\n",
       "      <td>0.0</td>\n",
       "      <td>845</td>\n",
       "      <td>NIL</td>\n",
       "      <td>Create Fine</td>\n",
       "      <td>A</td>\n",
       "      <td>0.0</td>\n",
       "      <td>complete</td>\n",
       "      <td>2004-05-08 00:00:00+02:00</td>\n",
       "      <td>7.0</td>\n",
       "      <td>0.0</td>\n",
       "      <td>S92094</td>\n",
       "      <td>NaN</td>\n",
       "      <td>NaN</td>\n",
       "      <td>NaN</td>\n",
       "      <td>NaN</td>\n",
       "      <td>Payment</td>\n",
       "      <td>0 days 00:00:00</td>\n",
       "      <td>2004-05-08 00:00:00+02:00</td>\n",
       "      <td>0.0</td>\n",
       "    </tr>\n",
       "    <tr>\n",
       "      <th>495981</th>\n",
       "      <td>0.0</td>\n",
       "      <td>NaN</td>\n",
       "      <td>NaN</td>\n",
       "      <td>Add penalty</td>\n",
       "      <td>NaN</td>\n",
       "      <td>NaN</td>\n",
       "      <td>complete</td>\n",
       "      <td>2004-10-03 00:00:00+02:00</td>\n",
       "      <td>NaN</td>\n",
       "      <td>NaN</td>\n",
       "      <td>S92094</td>\n",
       "      <td>NaN</td>\n",
       "      <td>NaN</td>\n",
       "      <td>NaN</td>\n",
       "      <td>NaN</td>\n",
       "      <td>Payment</td>\n",
       "      <td>148 days 00:00:00</td>\n",
       "      <td>2004-05-08 00:00:00+02:00</td>\n",
       "      <td>0.0</td>\n",
       "    </tr>\n",
       "    <tr>\n",
       "      <th>497319</th>\n",
       "      <td>0.0</td>\n",
       "      <td>55</td>\n",
       "      <td>NIL</td>\n",
       "      <td>Create Fine</td>\n",
       "      <td>A</td>\n",
       "      <td>0.0</td>\n",
       "      <td>complete</td>\n",
       "      <td>2004-05-16 00:00:00+02:00</td>\n",
       "      <td>7.0</td>\n",
       "      <td>0.0</td>\n",
       "      <td>S93160</td>\n",
       "      <td>NaN</td>\n",
       "      <td>NaN</td>\n",
       "      <td>NaN</td>\n",
       "      <td>NaN</td>\n",
       "      <td>Payment</td>\n",
       "      <td>0 days 00:00:00</td>\n",
       "      <td>2004-05-16 00:00:00+02:00</td>\n",
       "      <td>0.0</td>\n",
       "    </tr>\n",
       "    <tr>\n",
       "      <th>497322</th>\n",
       "      <td>0.0</td>\n",
       "      <td>NaN</td>\n",
       "      <td>NaN</td>\n",
       "      <td>Add penalty</td>\n",
       "      <td>NaN</td>\n",
       "      <td>NaN</td>\n",
       "      <td>complete</td>\n",
       "      <td>2004-11-17 00:00:00+01:00</td>\n",
       "      <td>NaN</td>\n",
       "      <td>NaN</td>\n",
       "      <td>S93160</td>\n",
       "      <td>NaN</td>\n",
       "      <td>NaN</td>\n",
       "      <td>NaN</td>\n",
       "      <td>NaN</td>\n",
       "      <td>Payment</td>\n",
       "      <td>185 days 01:00:00</td>\n",
       "      <td>2004-05-16 00:00:00+02:00</td>\n",
       "      <td>0.0</td>\n",
       "    </tr>\n",
       "    <tr>\n",
       "      <th>502884</th>\n",
       "      <td>0.0</td>\n",
       "      <td>46</td>\n",
       "      <td>NIL</td>\n",
       "      <td>Create Fine</td>\n",
       "      <td>A</td>\n",
       "      <td>0.0</td>\n",
       "      <td>complete</td>\n",
       "      <td>2005-03-01 00:00:00+01:00</td>\n",
       "      <td>41.0</td>\n",
       "      <td>0.0</td>\n",
       "      <td>S96543</td>\n",
       "      <td>NaN</td>\n",
       "      <td>NaN</td>\n",
       "      <td>NaN</td>\n",
       "      <td>NaN</td>\n",
       "      <td>Send Fine</td>\n",
       "      <td>0 days 00:00:00</td>\n",
       "      <td>2005-03-01 00:00:00+01:00</td>\n",
       "      <td>0.0</td>\n",
       "    </tr>\n",
       "    <tr>\n",
       "      <th>504451</th>\n",
       "      <td>0.0</td>\n",
       "      <td>37</td>\n",
       "      <td>NIL</td>\n",
       "      <td>Create Fine</td>\n",
       "      <td>A</td>\n",
       "      <td>0.0</td>\n",
       "      <td>complete</td>\n",
       "      <td>2004-05-08 00:00:00+02:00</td>\n",
       "      <td>7.0</td>\n",
       "      <td>0.0</td>\n",
       "      <td>S97535</td>\n",
       "      <td>NaN</td>\n",
       "      <td>NaN</td>\n",
       "      <td>NaN</td>\n",
       "      <td>NaN</td>\n",
       "      <td>Send Fine</td>\n",
       "      <td>0 days 00:00:00</td>\n",
       "      <td>2004-05-08 00:00:00+02:00</td>\n",
       "      <td>0.0</td>\n",
       "    </tr>\n",
       "    <tr>\n",
       "      <th>507219</th>\n",
       "      <td>0.0</td>\n",
       "      <td>11</td>\n",
       "      <td>NIL</td>\n",
       "      <td>Create Fine</td>\n",
       "      <td>M</td>\n",
       "      <td>0.0</td>\n",
       "      <td>complete</td>\n",
       "      <td>2005-02-05 00:00:00+01:00</td>\n",
       "      <td>41.0</td>\n",
       "      <td>0.0</td>\n",
       "      <td>S99541</td>\n",
       "      <td>NaN</td>\n",
       "      <td>NaN</td>\n",
       "      <td>NaN</td>\n",
       "      <td>NaN</td>\n",
       "      <td>Payment</td>\n",
       "      <td>0 days 00:00:00</td>\n",
       "      <td>2005-02-05 00:00:00+01:00</td>\n",
       "      <td>0.0</td>\n",
       "    </tr>\n",
       "    <tr>\n",
       "      <th>507222</th>\n",
       "      <td>0.0</td>\n",
       "      <td>NaN</td>\n",
       "      <td>NaN</td>\n",
       "      <td>Add penalty</td>\n",
       "      <td>NaN</td>\n",
       "      <td>NaN</td>\n",
       "      <td>complete</td>\n",
       "      <td>2005-08-19 00:00:00+02:00</td>\n",
       "      <td>NaN</td>\n",
       "      <td>NaN</td>\n",
       "      <td>S99541</td>\n",
       "      <td>NaN</td>\n",
       "      <td>NaN</td>\n",
       "      <td>NaN</td>\n",
       "      <td>NaN</td>\n",
       "      <td>Payment</td>\n",
       "      <td>194 days 23:00:00</td>\n",
       "      <td>2005-02-05 00:00:00+01:00</td>\n",
       "      <td>0.0</td>\n",
       "    </tr>\n",
       "  </tbody>\n",
       "</table>\n",
       "</div>"
      ],
      "text/plain": [
       "        amount org:resource dismissal concept:name vehicleClass  \\\n",
       "78431      0.0           22       NIL  Create Fine            C   \n",
       "79730      0.0          811       NIL  Create Fine            C   \n",
       "83566      0.0          831         I  Create Fine            C   \n",
       "84318      0.0           46       NIL  Create Fine            A   \n",
       "84321      0.0          NaN       NaN  Add penalty          NaN   \n",
       "86191      0.0           55       NIL  Create Fine            M   \n",
       "86194      0.0          NaN       NaN  Add penalty          NaN   \n",
       "88390      0.0           49       NIL  Create Fine            C   \n",
       "88612      0.0           46       NIL  Create Fine            A   \n",
       "89499      0.0           45       NIL  Create Fine            A   \n",
       "89502      0.0          NaN       NaN  Add penalty          NaN   \n",
       "90169      0.0           57       NIL  Create Fine            A   \n",
       "90172      0.0          NaN       NaN  Add penalty          NaN   \n",
       "90189      0.0           57       NIL  Create Fine            A   \n",
       "90192      0.0          NaN       NaN  Add penalty          NaN   \n",
       "91702      0.0           39       NIL  Create Fine            A   \n",
       "92200      0.0          850       NIL  Create Fine            M   \n",
       "95113      0.0           53       NIL  Create Fine            A   \n",
       "95117      0.0           53       NIL  Create Fine            A   \n",
       "305859     0.0           50       NIL  Create Fine            A   \n",
       "318817     0.0           29       NIL  Create Fine            A   \n",
       "458981     0.0          831       NIL  Create Fine            C   \n",
       "483157     0.0           39       NIL  Create Fine            A   \n",
       "489274     0.0           36       NIL  Create Fine            A   \n",
       "492245     0.0           31       NIL  Create Fine            A   \n",
       "494208     0.0           40       NIL  Create Fine            A   \n",
       "495978     0.0          845       NIL  Create Fine            A   \n",
       "495981     0.0          NaN       NaN  Add penalty          NaN   \n",
       "497319     0.0           55       NIL  Create Fine            A   \n",
       "497322     0.0          NaN       NaN  Add penalty          NaN   \n",
       "502884     0.0           46       NIL  Create Fine            A   \n",
       "504451     0.0           37       NIL  Create Fine            A   \n",
       "507219     0.0           11       NIL  Create Fine            M   \n",
       "507222     0.0          NaN       NaN  Add penalty          NaN   \n",
       "\n",
       "        totalPaymentAmount lifecycle:transition             time:timestamp  \\\n",
       "78431                  0.0             complete  2002-05-21 00:00:00+02:00   \n",
       "79730                  0.0             complete  2000-10-11 00:00:00+02:00   \n",
       "83566                  0.0             complete  2002-06-01 00:00:00+02:00   \n",
       "84318                  0.0             complete  2003-09-28 00:00:00+02:00   \n",
       "84321                  NaN             complete  2003-11-27 00:00:00+01:00   \n",
       "86191                  0.0             complete  2003-08-27 00:00:00+02:00   \n",
       "86194                  NaN             complete  2003-10-26 00:00:00+02:00   \n",
       "88390                  0.0             complete  2005-11-03 00:00:00+01:00   \n",
       "88612                  0.0             complete  2006-04-19 00:00:00+02:00   \n",
       "89499                  0.0             complete  2010-12-06 00:00:00+01:00   \n",
       "89502                  NaN             complete  2011-02-04 00:00:00+01:00   \n",
       "90169                  0.0             complete  2007-08-04 00:00:00+02:00   \n",
       "90172                  NaN             complete  2007-10-03 00:00:00+02:00   \n",
       "90189                  0.0             complete  2007-08-04 00:00:00+02:00   \n",
       "90192                  NaN             complete  2007-10-03 00:00:00+02:00   \n",
       "91702                  0.0             complete  2009-02-12 00:00:00+01:00   \n",
       "92200                  0.0             complete  2009-06-11 00:00:00+02:00   \n",
       "95113                  0.0             complete  2012-06-29 00:00:00+02:00   \n",
       "95117                  0.0             complete  2012-06-29 00:00:00+02:00   \n",
       "305859                 0.0             complete  2008-07-06 00:00:00+02:00   \n",
       "318817                 0.0             complete  2009-03-11 00:00:00+01:00   \n",
       "458981                 0.0             complete  2001-09-06 00:00:00+02:00   \n",
       "483157                 0.0             complete  2003-09-20 00:00:00+02:00   \n",
       "489274                 0.0             complete  2005-05-07 00:00:00+02:00   \n",
       "492245                 0.0             complete  2005-03-25 00:00:00+01:00   \n",
       "494208                 0.0             complete  2003-12-07 00:00:00+01:00   \n",
       "495978                 0.0             complete  2004-05-08 00:00:00+02:00   \n",
       "495981                 NaN             complete  2004-10-03 00:00:00+02:00   \n",
       "497319                 0.0             complete  2004-05-16 00:00:00+02:00   \n",
       "497322                 NaN             complete  2004-11-17 00:00:00+01:00   \n",
       "502884                 0.0             complete  2005-03-01 00:00:00+01:00   \n",
       "504451                 0.0             complete  2004-05-08 00:00:00+02:00   \n",
       "507219                 0.0             complete  2005-02-05 00:00:00+01:00   \n",
       "507222                 NaN             complete  2005-08-19 00:00:00+02:00   \n",
       "\n",
       "        article  points case:concept:name  expense notificationType lastSent  \\\n",
       "78431     171.0     0.0            C11600      NaN              NaN      NaN   \n",
       "79730     171.0     0.0            C12623      NaN              NaN      NaN   \n",
       "83566     171.0     0.0            C14862      NaN              NaN      NaN   \n",
       "84318     153.0     0.0            C15288      NaN              NaN      NaN   \n",
       "84321       NaN     NaN            C15288      NaN              NaN      NaN   \n",
       "86191     180.0     0.0            C16861      NaN              NaN      NaN   \n",
       "86194       NaN     NaN            C16861      NaN              NaN      NaN   \n",
       "88390     171.0     0.0            C18355      NaN              NaN      NaN   \n",
       "88612     218.0     0.0            C18500      NaN              NaN      NaN   \n",
       "89499     192.0     3.0            C19061      NaN              NaN      NaN   \n",
       "89502       NaN     NaN            C19061      NaN              NaN      NaN   \n",
       "90169     167.0     0.0            C19449      NaN              NaN      NaN   \n",
       "90172       NaN     NaN            C19449      NaN              NaN      NaN   \n",
       "90189     167.0     0.0            C19460      NaN              NaN      NaN   \n",
       "90192       NaN     NaN            C19460      NaN              NaN      NaN   \n",
       "91702     116.0     0.0            C20415      NaN              NaN      NaN   \n",
       "92200     218.0     0.0            C20736      NaN              NaN      NaN   \n",
       "95113     189.0    10.0            C22435      NaN              NaN      NaN   \n",
       "95117     187.0     0.0            C22437      NaN              NaN      NaN   \n",
       "305859     41.0     0.0           S126257      NaN              NaN      NaN   \n",
       "318817     40.0     0.0           S134167      NaN              NaN      NaN   \n",
       "458981    192.0     0.0            S69673      NaN              NaN      NaN   \n",
       "483157      7.0     0.0            S82134      NaN              NaN      NaN   \n",
       "489274      7.0     0.0            S86431      NaN              NaN      NaN   \n",
       "492245     41.0     0.0            S88455      NaN              NaN      NaN   \n",
       "494208      7.0     0.0            S90477      NaN              NaN      NaN   \n",
       "495978      7.0     0.0            S92094      NaN              NaN      NaN   \n",
       "495981      NaN     NaN            S92094      NaN              NaN      NaN   \n",
       "497319      7.0     0.0            S93160      NaN              NaN      NaN   \n",
       "497322      NaN     NaN            S93160      NaN              NaN      NaN   \n",
       "502884     41.0     0.0            S96543      NaN              NaN      NaN   \n",
       "504451      7.0     0.0            S97535      NaN              NaN      NaN   \n",
       "507219     41.0     0.0            S99541      NaN              NaN      NaN   \n",
       "507222      NaN     NaN            S99541      NaN              NaN      NaN   \n",
       "\n",
       "        paymentAmount  lastEvent              diff                  starttime  \\\n",
       "78431             NaN    Payment   0 days 00:00:00  2002-05-21 00:00:00+02:00   \n",
       "79730             NaN  Send Fine   0 days 00:00:00  2000-10-11 00:00:00+02:00   \n",
       "83566             NaN  Send Fine   0 days 00:00:00  2002-06-01 00:00:00+02:00   \n",
       "84318             NaN    Payment   0 days 00:00:00  2003-09-28 00:00:00+02:00   \n",
       "84321             NaN    Payment  60 days 01:00:00  2003-09-28 00:00:00+02:00   \n",
       "86191             NaN    Payment   0 days 00:00:00  2003-08-27 00:00:00+02:00   \n",
       "86194             NaN    Payment  60 days 00:00:00  2003-08-27 00:00:00+02:00   \n",
       "88390             NaN  Send Fine   0 days 00:00:00  2005-11-03 00:00:00+01:00   \n",
       "88612             NaN  Send Fine   0 days 00:00:00  2006-04-19 00:00:00+02:00   \n",
       "89499             NaN    Payment   0 days 00:00:00  2010-12-06 00:00:00+01:00   \n",
       "89502             NaN    Payment  60 days 00:00:00  2010-12-06 00:00:00+01:00   \n",
       "90169             NaN    Payment   0 days 00:00:00  2007-08-04 00:00:00+02:00   \n",
       "90172             NaN    Payment  60 days 00:00:00  2007-08-04 00:00:00+02:00   \n",
       "90189             NaN    Payment   0 days 00:00:00  2007-08-04 00:00:00+02:00   \n",
       "90192             NaN    Payment  60 days 00:00:00  2007-08-04 00:00:00+02:00   \n",
       "91702             NaN  Send Fine   0 days 00:00:00  2009-02-12 00:00:00+01:00   \n",
       "92200             NaN  Send Fine   0 days 00:00:00  2009-06-11 00:00:00+02:00   \n",
       "95113             NaN  Send Fine   0 days 00:00:00  2012-06-29 00:00:00+02:00   \n",
       "95117             NaN  Send Fine   0 days 00:00:00  2012-06-29 00:00:00+02:00   \n",
       "305859            NaN  Send Fine   0 days 00:00:00  2008-07-06 00:00:00+02:00   \n",
       "318817            NaN    Payment   0 days 00:00:00  2009-03-11 00:00:00+01:00   \n",
       "458981            NaN  Send Fine   0 days 00:00:00  2001-09-06 00:00:00+02:00   \n",
       "483157            NaN    Payment   0 days 00:00:00  2003-09-20 00:00:00+02:00   \n",
       "489274            NaN    Payment   0 days 00:00:00  2005-05-07 00:00:00+02:00   \n",
       "492245            NaN  Send Fine   0 days 00:00:00  2005-03-25 00:00:00+01:00   \n",
       "494208            NaN  Send Fine   0 days 00:00:00  2003-12-07 00:00:00+01:00   \n",
       "495978            NaN    Payment   0 days 00:00:00  2004-05-08 00:00:00+02:00   \n",
       "495981            NaN    Payment 148 days 00:00:00  2004-05-08 00:00:00+02:00   \n",
       "497319            NaN    Payment   0 days 00:00:00  2004-05-16 00:00:00+02:00   \n",
       "497322            NaN    Payment 185 days 01:00:00  2004-05-16 00:00:00+02:00   \n",
       "502884            NaN  Send Fine   0 days 00:00:00  2005-03-01 00:00:00+01:00   \n",
       "504451            NaN  Send Fine   0 days 00:00:00  2004-05-08 00:00:00+02:00   \n",
       "507219            NaN    Payment   0 days 00:00:00  2005-02-05 00:00:00+01:00   \n",
       "507222            NaN    Payment 194 days 23:00:00  2005-02-05 00:00:00+01:00   \n",
       "\n",
       "        startamount  \n",
       "78431           0.0  \n",
       "79730           0.0  \n",
       "83566           0.0  \n",
       "84318           0.0  \n",
       "84321           0.0  \n",
       "86191           0.0  \n",
       "86194           0.0  \n",
       "88390           0.0  \n",
       "88612           0.0  \n",
       "89499           0.0  \n",
       "89502           0.0  \n",
       "90169           0.0  \n",
       "90172           0.0  \n",
       "90189           0.0  \n",
       "90192           0.0  \n",
       "91702           0.0  \n",
       "92200           0.0  \n",
       "95113           0.0  \n",
       "95117           0.0  \n",
       "305859          0.0  \n",
       "318817          0.0  \n",
       "458981          0.0  \n",
       "483157          0.0  \n",
       "489274          0.0  \n",
       "492245          0.0  \n",
       "494208          0.0  \n",
       "495978          0.0  \n",
       "495981          0.0  \n",
       "497319          0.0  \n",
       "497322          0.0  \n",
       "502884          0.0  \n",
       "504451          0.0  \n",
       "507219          0.0  \n",
       "507222          0.0  "
      ]
     },
     "execution_count": 82,
     "metadata": {},
     "output_type": "execute_result"
    }
   ],
   "source": [
    "df[df['concept:name']=='Add penalty']['amount'].unique()\n",
    "df[df['amount']==0]"
   ]
  },
  {
   "cell_type": "code",
   "execution_count": 163,
   "metadata": {
    "ExecuteTime": {
     "end_time": "2020-07-17T17:56:55.806722Z",
     "start_time": "2020-07-17T17:56:54.335123Z"
    }
   },
   "outputs": [],
   "source": [
    "penalty_rule = df[df['concept:name']=='Add penalty']['amount'] - 2*df[df['concept:name']=='Add penalty']['startamount']"
   ]
  },
  {
   "cell_type": "code",
   "execution_count": 164,
   "metadata": {
    "ExecuteTime": {
     "end_time": "2020-07-17T17:56:57.265581Z",
     "start_time": "2020-07-17T17:56:57.234349Z"
    }
   },
   "outputs": [
    {
     "data": {
      "text/plain": [
       "75503"
      ]
     },
     "execution_count": 164,
     "metadata": {},
     "output_type": "execute_result"
    }
   ],
   "source": [
    "len(penalty_rule)"
   ]
  },
  {
   "cell_type": "code",
   "execution_count": 165,
   "metadata": {
    "ExecuteTime": {
     "end_time": "2020-07-17T17:56:58.307595Z",
     "start_time": "2020-07-17T17:56:58.213842Z"
    }
   },
   "outputs": [
    {
     "data": {
      "text/plain": [
       "-702.00         1\n",
       "-30.00          1\n",
       "-1.50          28\n",
       "-1.00        3124\n",
       "-0.67           2\n",
       "-0.50        1792\n",
       "-0.01          43\n",
       "-0.01        7538\n",
       "-0.01          31\n",
       " 0.00       14511\n",
       " 0.01         977\n",
       " 0.02          18\n",
       " 0.25           3\n",
       " 0.38           1\n",
       " 0.39           1\n",
       " 0.50        1504\n",
       " 1.00        2126\n",
       " 1.05         737\n",
       " 1.05         891\n",
       " 1.50       24274\n",
       " 1.57          89\n",
       " 1.57        9034\n",
       " 2.00        8558\n",
       " 2.10           3\n",
       " 2.50         172\n",
       " 3.00          10\n",
       " 4.00           9\n",
       " 145.43         3\n",
       " 289.28         1\n",
       " 301.50         4\n",
       " 311.50         3\n",
       " 327.50         3\n",
       " 334.50         3\n",
       " 478.00         2\n",
       " 518.00         1\n",
       " 1110.00        3\n",
       " 3774.00        2\n",
       "dtype: int64"
      ]
     },
     "execution_count": 165,
     "metadata": {},
     "output_type": "execute_result"
    }
   ],
   "source": [
    "penalty_rule.groupby(penalty_rule).count()"
   ]
  },
  {
   "cell_type": "code",
   "execution_count": 187,
   "metadata": {
    "ExecuteTime": {
     "end_time": "2020-07-17T18:11:30.911015Z",
     "start_time": "2020-07-17T18:11:29.908183Z"
    }
   },
   "outputs": [
    {
     "data": {
      "image/png": "[encoded data removed]",
      "text/plain": [
       "<Figure size 1152x648 with 1 Axes>"
      ]
     },
     "metadata": {
      "needs_background": "light"
     },
     "output_type": "display_data"
    }
   ],
   "source": [
    "fig = plt.figure(figsize=(16,9))\n",
    "plot = sns.distplot(penalty_rule[(penalty_rule<=2.5) & (penalty_rule>=-2.5)], kde=False)\n",
    "plot = plot.get_figure()\n",
    "plt.xlabel(\"Change from baseline Rule in $\", size =16)\n",
    "plt.title(\"Histogram of Variation Around the Baseline Rule without Outliers\", size=25)\n",
    "plot.savefig('baselineVar.png')"
   ]
  },
  {
   "cell_type": "code",
   "execution_count": 178,
   "metadata": {
    "ExecuteTime": {
     "end_time": "2020-07-17T18:06:39.907309Z",
     "start_time": "2020-07-17T18:06:31.391631Z"
    }
   },
   "outputs": [],
   "source": [
    "dlz_no_penalty = df[df['has_penalty']==False].groupby('case:concept:name')['diff'].max().apply(lambda x : x.days)\n",
    "dlz_penalty = df[df['has_penalty']].groupby('case:concept:name')['diff'].max().apply(lambda x : x.days)\n",
    "time_to_penalty = df[df['has_penalty'] & (df['concept:name']=='Add penalty')]['diff'].apply(lambda x : x.days)\n"
   ]
  },
  {
   "cell_type": "code",
   "execution_count": 186,
   "metadata": {
    "ExecuteTime": {
     "end_time": "2020-07-17T18:11:06.034526Z",
     "start_time": "2020-07-17T18:11:05.100648Z"
    }
   },
   "outputs": [
    {
     "data": {
      "image/png": "[encoded data removed]",
      "text/plain": [
       "<Figure size 1152x648 with 1 Axes>"
      ]
     },
     "metadata": {
      "needs_background": "light"
     },
     "output_type": "display_data"
    }
   ],
   "source": [
    "fig = plt.figure(figsize=(16,9))\n",
    "plot = sns.distplot(dlz_no_penalty[dlz_no_penalty<800])\n",
    "plot = plot.get_figure()\n",
    "plt.xlabel(\"Case Duration in Days\", size =16)\n",
    "plt.title(\"Distribution of Case Duration (No Penalty)\", size=25)\n",
    "plot.savefig('dlz_no_penalty.png')"
   ]
  },
  {
   "cell_type": "code",
   "execution_count": 188,
   "metadata": {
    "ExecuteTime": {
     "end_time": "2020-07-17T18:12:01.714426Z",
     "start_time": "2020-07-17T18:12:00.711680Z"
    }
   },
   "outputs": [
    {
     "data": {
      "image/png": "[encoded data removed]",
      "text/plain": [
       "<Figure size 1152x648 with 1 Axes>"
      ]
     },
     "metadata": {
      "needs_background": "light"
     },
     "output_type": "display_data"
    }
   ],
   "source": [
    "fig = plt.figure(figsize=(16,9))\n",
    "plot = sns.distplot(time_to_penalty)\n",
    "plot = plot.get_figure()\n",
    "plt.xlabel(\"Case Duration in Days\", size =16)\n",
    "plt.title(\"Distribution of Case Duration until Penalty Event\", size=25)\n",
    "plot.savefig('time2penalty.png')"
   ]
  },
  {
   "cell_type": "code",
   "execution_count": 152,
   "metadata": {
    "ExecuteTime": {
     "end_time": "2020-07-14T22:23:16.963249Z",
     "start_time": "2020-07-14T22:23:16.409569Z"
    }
   },
   "outputs": [
    {
     "data": {
      "text/plain": [
       "<matplotlib.axes._subplots.AxesSubplot at 0x1aba0bc9748>"
      ]
     },
     "execution_count": 152,
     "metadata": {},
     "output_type": "execute_result"
    },
    {
     "data": {
      "image/png": "[encoded data removed]",
      "text/plain": [
       "<Figure size 432x288 with 1 Axes>"
      ]
     },
     "metadata": {
      "needs_background": "light"
     },
     "output_type": "display_data"
    }
   ],
   "source": [
    "sns.distplot(dlz_penalty)"
   ]
  },
  {
   "cell_type": "code",
   "execution_count": 151,
   "metadata": {
    "ExecuteTime": {
     "end_time": "2020-07-14T22:22:04.339223Z",
     "start_time": "2020-07-14T22:22:04.165323Z"
    }
   },
   "outputs": [
    {
     "data": {
      "text/plain": [
       "lastEvent\n",
       "Payment      102539\n",
       "Send Fine     41860\n",
       "Name: case:concept:name, dtype: int64"
      ]
     },
     "execution_count": 151,
     "metadata": {},
     "output_type": "execute_result"
    }
   ],
   "source": [
    "df[df['has_penalty']==False].groupby('lastEvent')['case:concept:name'].count()"
   ]
  },
  {
   "cell_type": "markdown",
   "metadata": {
    "ExecuteTime": {
     "end_time": "2020-07-17T12:37:46.560577Z",
     "start_time": "2020-07-17T12:37:46.233543Z"
    }
   },
   "source": [
    " # c"
   ]
  },
  {
   "cell_type": "code",
   "execution_count": 89,
   "metadata": {
    "ExecuteTime": {
     "end_time": "2020-07-17T14:28:29.519440Z",
     "start_time": "2020-07-17T14:28:25.055592Z"
    }
   },
   "outputs": [
    {
     "name": "stderr",
     "output_type": "stream",
     "text": [
      "C:\\Users\\Sezin\\Anaconda3\\lib\\site-packages\\statsmodels\\tools\\_testing.py:19: FutureWarning: pandas.util.testing is deprecated. Use the functions in the public API at pandas.testing instead.\n",
      "  import pandas.util.testing as tm\n"
     ]
    }
   ],
   "source": [
    "import seaborn as sns"
   ]
  },
  {
   "cell_type": "code",
   "execution_count": 96,
   "metadata": {
    "ExecuteTime": {
     "end_time": "2020-07-17T14:38:01.115320Z",
     "start_time": "2020-07-17T14:34:37.880702Z"
    }
   },
   "outputs": [
    {
     "name": "stderr",
     "output_type": "stream",
     "text": [
      "ERROR:root:Internal Python error in the inspect module.\n",
      "Below is the traceback from this internal error.\n",
      "\n"
     ]
    },
    {
     "name": "stdout",
     "output_type": "stream",
     "text": [
      "Traceback (most recent call last):\n",
      "  File \"C:\\Users\\Sezin\\Anaconda3\\lib\\site-packages\\IPython\\core\\interactiveshell.py\", line 3326, in run_code\n",
      "    exec(code_obj, self.user_global_ns, self.user_ns)\n",
      "  File \"<ipython-input-96-aa4849053268>\", line 1, in <module>\n",
      "    sns.distplot(df[df['has_penalty']]['outcome'])\n",
      "  File \"C:\\Users\\Sezin\\Anaconda3\\lib\\site-packages\\seaborn\\distributions.py\", line 198, in distplot\n",
      "    line, = ax.plot(a.mean(), 0)\n",
      "  File \"C:\\Users\\Sezin\\Anaconda3\\lib\\site-packages\\numpy\\core\\_methods.py\", line 163, in _mean\n",
      "    ret = ret / rcount\n",
      "TypeError: unsupported operand type(s) for /: 'str' and 'int'\n",
      "\n",
      "During handling of the above exception, another exception occurred:\n",
      "\n",
      "Traceback (most recent call last):\n",
      "  File \"C:\\Users\\Sezin\\Anaconda3\\lib\\site-packages\\IPython\\core\\interactiveshell.py\", line 2040, in showtraceback\n",
      "    stb = value._render_traceback_()\n",
      "AttributeError: 'TypeError' object has no attribute '_render_traceback_'\n",
      "\n",
      "During handling of the above exception, another exception occurred:\n",
      "\n",
      "Traceback (most recent call last):\n",
      "  File \"C:\\Users\\Sezin\\Anaconda3\\lib\\site-packages\\IPython\\core\\ultratb.py\", line 1101, in get_records\n",
      "    return _fixed_getinnerframes(etb, number_of_lines_of_context, tb_offset)\n",
      "  File \"C:\\Users\\Sezin\\Anaconda3\\lib\\site-packages\\IPython\\core\\ultratb.py\", line 319, in wrapped\n",
      "    return f(*args, **kwargs)\n",
      "  File \"C:\\Users\\Sezin\\Anaconda3\\lib\\site-packages\\IPython\\core\\ultratb.py\", line 353, in _fixed_getinnerframes\n",
      "    records = fix_frame_records_filenames(inspect.getinnerframes(etb, context))\n",
      "  File \"C:\\Users\\Sezin\\Anaconda3\\lib\\inspect.py\", line 1490, in getinnerframes\n",
      "    frameinfo = (tb.tb_frame,) + getframeinfo(tb, context)\n",
      "  File \"C:\\Users\\Sezin\\Anaconda3\\lib\\inspect.py\", line 1448, in getframeinfo\n",
      "    filename = getsourcefile(frame) or getfile(frame)\n",
      "  File \"C:\\Users\\Sezin\\Anaconda3\\lib\\inspect.py\", line 693, in getsourcefile\n",
      "    if os.path.exists(filename):\n",
      "  File \"C:\\Users\\Sezin\\Anaconda3\\lib\\genericpath.py\", line 19, in exists\n",
      "    os.stat(path)\n",
      "KeyboardInterrupt\n"
     ]
    },
    {
     "ename": "TypeError",
     "evalue": "unsupported operand type(s) for /: 'str' and 'int'",
     "output_type": "error",
     "traceback": [
      "\u001b[1;31m---------------------------------------------------------------------------\u001b[0m"
     ]
    },
    {
     "data": {
      "image/png": "[encoded data removed]",
      "text/plain": [
       "<Figure size 432x288 with 1 Axes>"
      ]
     },
     "metadata": {
      "needs_background": "light"
     },
     "output_type": "display_data"
    }
   ],
   "source": [
    "sns.distplot(df[df['has_penalty']]['outcome'])"
   ]
  },
  {
   "cell_type": "code",
   "execution_count": 95,
   "metadata": {
    "ExecuteTime": {
     "end_time": "2020-07-17T14:33:46.232203Z",
     "start_time": "2020-07-17T14:33:45.429955Z"
    }
   },
   "outputs": [
    {
     "data": {
      "text/html": [
       "<div>\n",
       "<style scoped>\n",
       "    .dataframe tbody tr th:only-of-type {\n",
       "        vertical-align: middle;\n",
       "    }\n",
       "\n",
       "    .dataframe tbody tr th {\n",
       "        vertical-align: top;\n",
       "    }\n",
       "\n",
       "    .dataframe thead th {\n",
       "        text-align: right;\n",
       "    }\n",
       "</style>\n",
       "<table border=\"1\" class=\"dataframe\">\n",
       "  <thead>\n",
       "    <tr style=\"text-align: right;\">\n",
       "      <th></th>\n",
       "      <th>amount</th>\n",
       "      <th>org:resource</th>\n",
       "      <th>dismissal</th>\n",
       "      <th>concept:name</th>\n",
       "      <th>vehicleClass</th>\n",
       "      <th>totalPaymentAmount</th>\n",
       "      <th>lifecycle:transition</th>\n",
       "      <th>time:timestamp</th>\n",
       "      <th>article</th>\n",
       "      <th>points</th>\n",
       "      <th>...</th>\n",
       "      <th>expense</th>\n",
       "      <th>notificationType</th>\n",
       "      <th>lastSent</th>\n",
       "      <th>paymentAmount</th>\n",
       "      <th>lastEvent</th>\n",
       "      <th>starttime</th>\n",
       "      <th>startamount</th>\n",
       "      <th>has_penalty</th>\n",
       "      <th>payed</th>\n",
       "      <th>balance</th>\n",
       "    </tr>\n",
       "    <tr>\n",
       "      <th>outcome</th>\n",
       "      <th></th>\n",
       "      <th></th>\n",
       "      <th></th>\n",
       "      <th></th>\n",
       "      <th></th>\n",
       "      <th></th>\n",
       "      <th></th>\n",
       "      <th></th>\n",
       "      <th></th>\n",
       "      <th></th>\n",
       "      <th></th>\n",
       "      <th></th>\n",
       "      <th></th>\n",
       "      <th></th>\n",
       "      <th></th>\n",
       "      <th></th>\n",
       "      <th></th>\n",
       "      <th></th>\n",
       "      <th></th>\n",
       "      <th></th>\n",
       "      <th></th>\n",
       "    </tr>\n",
       "  </thead>\n",
       "  <tbody>\n",
       "    <tr>\n",
       "      <th>exact</th>\n",
       "      <td>138370</td>\n",
       "      <td>69185</td>\n",
       "      <td>69185</td>\n",
       "      <td>351799</td>\n",
       "      <td>69185</td>\n",
       "      <td>85615</td>\n",
       "      <td>351799</td>\n",
       "      <td>351799</td>\n",
       "      <td>69185</td>\n",
       "      <td>69185</td>\n",
       "      <td>...</td>\n",
       "      <td>69185</td>\n",
       "      <td>69185</td>\n",
       "      <td>67836</td>\n",
       "      <td>16430</td>\n",
       "      <td>351799</td>\n",
       "      <td>351799</td>\n",
       "      <td>351799</td>\n",
       "      <td>351799</td>\n",
       "      <td>56640</td>\n",
       "      <td>56640</td>\n",
       "    </tr>\n",
       "    <tr>\n",
       "      <th>no</th>\n",
       "      <td>8</td>\n",
       "      <td>4</td>\n",
       "      <td>4</td>\n",
       "      <td>26</td>\n",
       "      <td>4</td>\n",
       "      <td>4</td>\n",
       "      <td>26</td>\n",
       "      <td>26</td>\n",
       "      <td>4</td>\n",
       "      <td>4</td>\n",
       "      <td>...</td>\n",
       "      <td>4</td>\n",
       "      <td>4</td>\n",
       "      <td>3</td>\n",
       "      <td>0</td>\n",
       "      <td>26</td>\n",
       "      <td>26</td>\n",
       "      <td>26</td>\n",
       "      <td>26</td>\n",
       "      <td>26</td>\n",
       "      <td>26</td>\n",
       "    </tr>\n",
       "    <tr>\n",
       "      <th>over</th>\n",
       "      <td>522</td>\n",
       "      <td>261</td>\n",
       "      <td>261</td>\n",
       "      <td>1544</td>\n",
       "      <td>261</td>\n",
       "      <td>747</td>\n",
       "      <td>1544</td>\n",
       "      <td>1544</td>\n",
       "      <td>261</td>\n",
       "      <td>261</td>\n",
       "      <td>...</td>\n",
       "      <td>261</td>\n",
       "      <td>261</td>\n",
       "      <td>254</td>\n",
       "      <td>486</td>\n",
       "      <td>1544</td>\n",
       "      <td>1544</td>\n",
       "      <td>1544</td>\n",
       "      <td>1544</td>\n",
       "      <td>1544</td>\n",
       "      <td>1544</td>\n",
       "    </tr>\n",
       "    <tr>\n",
       "      <th>some</th>\n",
       "      <td>12106</td>\n",
       "      <td>6053</td>\n",
       "      <td>6053</td>\n",
       "      <td>33978</td>\n",
       "      <td>6053</td>\n",
       "      <td>15761</td>\n",
       "      <td>33978</td>\n",
       "      <td>33978</td>\n",
       "      <td>6053</td>\n",
       "      <td>6053</td>\n",
       "      <td>...</td>\n",
       "      <td>6053</td>\n",
       "      <td>6053</td>\n",
       "      <td>5890</td>\n",
       "      <td>9708</td>\n",
       "      <td>33978</td>\n",
       "      <td>33978</td>\n",
       "      <td>33978</td>\n",
       "      <td>33978</td>\n",
       "      <td>33978</td>\n",
       "      <td>33978</td>\n",
       "    </tr>\n",
       "  </tbody>\n",
       "</table>\n",
       "<p>4 rows × 21 columns</p>\n",
       "</div>"
      ],
      "text/plain": [
       "         amount  org:resource  dismissal  concept:name  vehicleClass  \\\n",
       "outcome                                                                \n",
       "exact    138370         69185      69185        351799         69185   \n",
       "no            8             4          4            26             4   \n",
       "over        522           261        261          1544           261   \n",
       "some      12106          6053       6053         33978          6053   \n",
       "\n",
       "         totalPaymentAmount  lifecycle:transition  time:timestamp  article  \\\n",
       "outcome                                                                      \n",
       "exact                 85615                351799          351799    69185   \n",
       "no                        4                    26              26        4   \n",
       "over                    747                  1544            1544      261   \n",
       "some                  15761                 33978           33978     6053   \n",
       "\n",
       "         points  ...  expense  notificationType  lastSent  paymentAmount  \\\n",
       "outcome          ...                                                       \n",
       "exact     69185  ...    69185             69185     67836          16430   \n",
       "no            4  ...        4                 4         3              0   \n",
       "over        261  ...      261               261       254            486   \n",
       "some       6053  ...     6053              6053      5890           9708   \n",
       "\n",
       "         lastEvent  starttime  startamount  has_penalty  payed  balance  \n",
       "outcome                                                                  \n",
       "exact       351799     351799       351799       351799  56640    56640  \n",
       "no              26         26           26           26     26       26  \n",
       "over          1544       1544         1544         1544   1544     1544  \n",
       "some         33978      33978        33978        33978  33978    33978  \n",
       "\n",
       "[4 rows x 21 columns]"
      ]
     },
     "execution_count": 95,
     "metadata": {},
     "output_type": "execute_result"
    }
   ],
   "source": [
    "df[df['has_penalty']].groupby('outcome').count()"
   ]
  },
  {
   "cell_type": "code",
   "execution_count": 142,
   "metadata": {
    "ExecuteTime": {
     "end_time": "2020-07-17T16:31:34.334156Z",
     "start_time": "2020-07-17T16:31:34.149208Z"
    }
   },
   "outputs": [],
   "source": [
    "x = df[df['has_penalty']]['outcome']"
   ]
  },
  {
   "cell_type": "code",
   "execution_count": 143,
   "metadata": {
    "ExecuteTime": {
     "end_time": "2020-07-17T16:31:34.550441Z",
     "start_time": "2020-07-17T16:31:34.436558Z"
    }
   },
   "outputs": [
    {
     "data": {
      "text/plain": [
       "exact    0.908227\n",
       "some     0.087720\n",
       "over     0.003986\n",
       "no       0.000067\n",
       "Name: outcome, dtype: float64"
      ]
     },
     "execution_count": 143,
     "metadata": {},
     "output_type": "execute_result"
    }
   ],
   "source": [
    "x.value_counts() / len(x)"
   ]
  },
  {
   "cell_type": "code",
   "execution_count": 144,
   "metadata": {
    "ExecuteTime": {
     "end_time": "2020-07-17T16:31:36.201160Z",
     "start_time": "2020-07-17T16:31:36.022768Z"
    }
   },
   "outputs": [
    {
     "data": {
      "text/plain": [
       "exact    0.698461\n",
       "no       0.282363\n",
       "over     0.010277\n",
       "some     0.008899\n",
       "Name: outcome, dtype: float64"
      ]
     },
     "execution_count": 144,
     "metadata": {},
     "output_type": "execute_result"
    }
   ],
   "source": [
    "df[df['has_penalty']==False]['outcome'].value_counts() / (len(df)-len(x))"
   ]
  },
  {
   "cell_type": "code",
   "execution_count": 112,
   "metadata": {
    "ExecuteTime": {
     "end_time": "2020-07-17T14:56:40.770778Z",
     "start_time": "2020-07-17T14:56:40.554469Z"
    }
   },
   "outputs": [
    {
     "data": {
      "text/plain": [
       "Payment      102539\n",
       "Send Fine     41860\n",
       "Name: lastEvent, dtype: int64"
      ]
     },
     "execution_count": 112,
     "metadata": {},
     "output_type": "execute_result"
    }
   ],
   "source": [
    "df[df['has_penalty']==False]['lastEvent'].value_counts()"
   ]
  },
  {
   "cell_type": "code",
   "execution_count": 189,
   "metadata": {
    "ExecuteTime": {
     "end_time": "2020-07-17T18:12:21.185785Z",
     "start_time": "2020-07-17T18:12:19.078679Z"
    }
   },
   "outputs": [
    {
     "data": {
      "image/png": "[encoded data removed]",
      "text/plain": [
       "<Figure size 1152x648 with 1 Axes>"
      ]
     },
     "metadata": {
      "needs_background": "light"
     },
     "output_type": "display_data"
    }
   ],
   "source": [
    "fig = plt.figure(figsize=(16,9))\n",
    "plot = sns.distplot(df[(df['has_penalty']==False) & (df['lastEvent']=='Send Fine')].groupby('case:concept:name')['diff'].max().apply(lambda x : x.days))\n",
    "plot = plot.get_figure()\n",
    "plt.xlabel(\"Case Duration in Days\", size =16)\n",
    "plt.title(\"Distribution of Case Duration (No Penalty, No Payment)\", size=25)\n",
    "plot.savefig('no_penalty_send_fine.png')"
   ]
  },
  {
   "cell_type": "code",
   "execution_count": null,
   "metadata": {},
   "outputs": [],
   "source": [
    "df[(df['has_penalty']==False) & (df['lastEvent']=='Send Fine')].groupby('case:concept:name')['diff'].max().apply(lambda x : x.days)"
   ]
  },
  {
   "cell_type": "code",
   "execution_count": 145,
   "metadata": {
    "ExecuteTime": {
     "end_time": "2020-07-17T16:33:35.763891Z",
     "start_time": "2020-07-17T16:33:35.447457Z"
    }
   },
   "outputs": [
    {
     "data": {
      "text/html": [
       "<div>\n",
       "<style scoped>\n",
       "    .dataframe tbody tr th:only-of-type {\n",
       "        vertical-align: middle;\n",
       "    }\n",
       "\n",
       "    .dataframe tbody tr th {\n",
       "        vertical-align: top;\n",
       "    }\n",
       "\n",
       "    .dataframe thead th {\n",
       "        text-align: right;\n",
       "    }\n",
       "</style>\n",
       "<table border=\"1\" class=\"dataframe\">\n",
       "  <thead>\n",
       "    <tr style=\"text-align: right;\">\n",
       "      <th></th>\n",
       "      <th>outcome</th>\n",
       "      <th>toPay</th>\n",
       "      <th>totalPaymentAmount</th>\n",
       "    </tr>\n",
       "  </thead>\n",
       "  <tbody>\n",
       "    <tr>\n",
       "      <th>2</th>\n",
       "      <td>exact</td>\n",
       "      <td>NaN</td>\n",
       "      <td>0.0</td>\n",
       "    </tr>\n",
       "    <tr>\n",
       "      <th>3</th>\n",
       "      <td>exact</td>\n",
       "      <td>NaN</td>\n",
       "      <td>NaN</td>\n",
       "    </tr>\n",
       "    <tr>\n",
       "      <th>4</th>\n",
       "      <td>exact</td>\n",
       "      <td>NaN</td>\n",
       "      <td>NaN</td>\n",
       "    </tr>\n",
       "    <tr>\n",
       "      <th>5</th>\n",
       "      <td>exact</td>\n",
       "      <td>NaN</td>\n",
       "      <td>NaN</td>\n",
       "    </tr>\n",
       "    <tr>\n",
       "      <th>6</th>\n",
       "      <td>exact</td>\n",
       "      <td>NaN</td>\n",
       "      <td>NaN</td>\n",
       "    </tr>\n",
       "    <tr>\n",
       "      <th>...</th>\n",
       "      <td>...</td>\n",
       "      <td>...</td>\n",
       "      <td>...</td>\n",
       "    </tr>\n",
       "    <tr>\n",
       "      <th>531741</th>\n",
       "      <td>exact</td>\n",
       "      <td>NaN</td>\n",
       "      <td>0.0</td>\n",
       "    </tr>\n",
       "    <tr>\n",
       "      <th>531742</th>\n",
       "      <td>exact</td>\n",
       "      <td>NaN</td>\n",
       "      <td>NaN</td>\n",
       "    </tr>\n",
       "    <tr>\n",
       "      <th>531743</th>\n",
       "      <td>exact</td>\n",
       "      <td>NaN</td>\n",
       "      <td>NaN</td>\n",
       "    </tr>\n",
       "    <tr>\n",
       "      <th>531744</th>\n",
       "      <td>exact</td>\n",
       "      <td>NaN</td>\n",
       "      <td>NaN</td>\n",
       "    </tr>\n",
       "    <tr>\n",
       "      <th>531745</th>\n",
       "      <td>exact</td>\n",
       "      <td>NaN</td>\n",
       "      <td>NaN</td>\n",
       "    </tr>\n",
       "  </tbody>\n",
       "</table>\n",
       "<p>387347 rows × 3 columns</p>\n",
       "</div>"
      ],
      "text/plain": [
       "       outcome  toPay  totalPaymentAmount\n",
       "2        exact    NaN                 0.0\n",
       "3        exact    NaN                 NaN\n",
       "4        exact    NaN                 NaN\n",
       "5        exact    NaN                 NaN\n",
       "6        exact    NaN                 NaN\n",
       "...        ...    ...                 ...\n",
       "531741   exact    NaN                 0.0\n",
       "531742   exact    NaN                 NaN\n",
       "531743   exact    NaN                 NaN\n",
       "531744   exact    NaN                 NaN\n",
       "531745   exact    NaN                 NaN\n",
       "\n",
       "[387347 rows x 3 columns]"
      ]
     },
     "execution_count": 145,
     "metadata": {},
     "output_type": "execute_result"
    }
   ],
   "source": [
    "df[(df['has_penalty']==True)][['outcome', 'toPay', 'totalPaymentAmount']]"
   ]
  },
  {
   "cell_type": "code",
   "execution_count": 157,
   "metadata": {
    "ExecuteTime": {
     "end_time": "2020-07-17T16:39:40.956998Z",
     "start_time": "2020-07-17T16:39:40.794280Z"
    }
   },
   "outputs": [],
   "source": [
    "fraction_group = df[(df['has_penalty']==True) & (df['outcome']=='some')].groupby('case:concept:name')[['toPay','payed']].max()"
   ]
  },
  {
   "cell_type": "code",
   "execution_count": 161,
   "metadata": {
    "ExecuteTime": {
     "end_time": "2020-07-17T16:44:51.195010Z",
     "start_time": "2020-07-17T16:44:51.163751Z"
    }
   },
   "outputs": [
    {
     "data": {
      "text/plain": [
       "0.04918619170513486"
      ]
     },
     "execution_count": 161,
     "metadata": {},
     "output_type": "execute_result"
    }
   ],
   "source": [
    "(fraction_group['payed'] / fraction_group['toPay']).std()"
   ]
  },
  {
   "cell_type": "code",
   "execution_count": null,
   "metadata": {},
   "outputs": [],
   "source": []
  }
 ],
 "metadata": {
  "kernelspec": {
   "display_name": "Python 3",
   "language": "python",
   "name": "python3"
  },
  "language_info": {
   "codemirror_mode": {
    "name": "ipython",
    "version": 3
   },
   "file_extension": ".py",
   "mimetype": "text/x-python",
   "name": "python",
   "nbconvert_exporter": "python",
   "pygments_lexer": "ipython3",
   "version": "3.6.9"
  }
 },
 "nbformat": 4,
 "nbformat_minor": 2
}
